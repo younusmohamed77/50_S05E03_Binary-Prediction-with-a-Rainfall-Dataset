{
 "cells": [
  {
   "cell_type": "markdown",
   "id": "c870a78d",
   "metadata": {
    "papermill": {
     "duration": 0.004683,
     "end_time": "2025-03-10T15:44:16.880176",
     "exception": false,
     "start_time": "2025-03-10T15:44:16.875493",
     "status": "completed"
    },
    "tags": []
   },
   "source": [
    "## Cell 0: Check for GPU Availability\n",
    "\n",
    "Ensure that TensorFlow detects one or more GPUs. Run this cell in a GPU-enabled environment (e.g., Kaggle Kernels with GPU).\n",
    ".\r\n"
   ]
  },
  {
   "cell_type": "code",
   "execution_count": 1,
   "id": "484659d9",
   "metadata": {
    "execution": {
     "iopub.execute_input": "2025-03-10T15:44:16.889170Z",
     "iopub.status.busy": "2025-03-10T15:44:16.888829Z",
     "iopub.status.idle": "2025-03-10T15:44:29.818064Z",
     "shell.execute_reply": "2025-03-10T15:44:29.817059Z"
    },
    "papermill": {
     "duration": 12.93511,
     "end_time": "2025-03-10T15:44:29.819362",
     "exception": false,
     "start_time": "2025-03-10T15:44:16.884252",
     "status": "completed"
    },
    "tags": []
   },
   "outputs": [
    {
     "name": "stdout",
     "output_type": "stream",
     "text": [
      "GPUs Available: [PhysicalDevice(name='/physical_device:GPU:0', device_type='GPU'), PhysicalDevice(name='/physical_device:GPU:1', device_type='GPU')]\n"
     ]
    }
   ],
   "source": [
    "# Check GPU availability\n",
    "import tensorflow as tf\n",
    "print(\"GPUs Available:\", tf.config.list_physical_devices('GPU'))"
   ]
  },
  {
   "cell_type": "markdown",
   "id": "8917caa9",
   "metadata": {
    "papermill": {
     "duration": 0.003669,
     "end_time": "2025-03-10T15:44:29.827189",
     "exception": false,
     "start_time": "2025-03-10T15:44:29.823520",
     "status": "completed"
    },
    "tags": []
   },
   "source": [
    "## Import Libraries\n",
    "\n",
    "We import necessary libraries including scikeras for wrapping our Keras model, and also import SimpleImputer (for missing value imputation). GPU-enabled training will be used if available."
   ]
  },
  {
   "cell_type": "code",
   "execution_count": 2,
   "id": "d1372a98",
   "metadata": {
    "execution": {
     "iopub.execute_input": "2025-03-10T15:44:29.835944Z",
     "iopub.status.busy": "2025-03-10T15:44:29.835488Z",
     "iopub.status.idle": "2025-03-10T15:44:37.700900Z",
     "shell.execute_reply": "2025-03-10T15:44:37.700075Z"
    },
    "papermill": {
     "duration": 7.871554,
     "end_time": "2025-03-10T15:44:37.702715",
     "exception": false,
     "start_time": "2025-03-10T15:44:29.831161",
     "status": "completed"
    },
    "tags": []
   },
   "outputs": [
    {
     "name": "stdout",
     "output_type": "stream",
     "text": [
      "\u001b[2K   \u001b[90m━━━━━━━━━━━━━━━━━━━━━━━━━━━━━━━━━━━━━━━━\u001b[0m \u001b[32m13.5/13.5 MB\u001b[0m \u001b[31m85.9 MB/s\u001b[0m eta \u001b[36m0:00:00\u001b[0m\r\n",
      "\u001b[?25h\u001b[31mERROR: pip's dependency resolver does not currently take into account all the packages that are installed. This behaviour is the source of the following dependency conflicts.\r\n",
      "category-encoders 2.7.0 requires scikit-learn<1.6.0,>=1.0.0, but you have scikit-learn 1.6.1 which is incompatible.\u001b[0m\u001b[31m\r\n",
      "\u001b[0m"
     ]
    }
   ],
   "source": [
    "!pip install scikeras --quiet"
   ]
  },
  {
   "cell_type": "code",
   "execution_count": 3,
   "id": "ba4133a1",
   "metadata": {
    "execution": {
     "iopub.execute_input": "2025-03-10T15:44:37.712591Z",
     "iopub.status.busy": "2025-03-10T15:44:37.712344Z",
     "iopub.status.idle": "2025-03-10T15:44:42.515336Z",
     "shell.execute_reply": "2025-03-10T15:44:42.514237Z"
    },
    "papermill": {
     "duration": 4.810533,
     "end_time": "2025-03-10T15:44:42.517729",
     "exception": false,
     "start_time": "2025-03-10T15:44:37.707196",
     "status": "completed"
    },
    "tags": []
   },
   "outputs": [],
   "source": [
    "# Import Libraries\n",
    "import numpy as np\n",
    "import pandas as pd\n",
    "import matplotlib.pyplot as plt\n",
    "import seaborn as sns\n",
    "import os, time\n",
    "\n",
    "from sklearn.model_selection import StratifiedKFold, RandomizedSearchCV\n",
    "from sklearn.preprocessing import StandardScaler, MinMaxScaler, RobustScaler\n",
    "from sklearn.pipeline import Pipeline\n",
    "from sklearn.impute import SimpleImputer\n",
    "\n",
    "# Install scikeras if needed\n",
    "!pip install scikeras --quiet\n",
    "from scikeras.wrappers import KerasClassifier\n",
    "\n",
    "from tensorflow.keras.models import Sequential\n",
    "from tensorflow.keras.layers import Dense, Dropout\n",
    "from tensorflow.keras.optimizers import Adam\n",
    "\n",
    "import warnings\n",
    "warnings.filterwarnings(\"ignore\")\n",
    "\n",
    "%matplotlib inline"
   ]
  },
  {
   "cell_type": "markdown",
   "id": "cb8b9d4e",
   "metadata": {
    "papermill": {
     "duration": 0.004112,
     "end_time": "2025-03-10T15:44:42.526554",
     "exception": false,
     "start_time": "2025-03-10T15:44:42.522442",
     "status": "completed"
    },
    "tags": []
   },
   "source": [
    "## Memory Optimization Function\r\n",
    "\r\n",
    "This function attempts to reduce memory usage by downcasting numeric columns to smaller data types (e.g., float64 -> float32, int64 -> int32.\r\n"
   ]
  },
  {
   "cell_type": "code",
   "execution_count": 4,
   "id": "dc4758cb",
   "metadata": {
    "execution": {
     "iopub.execute_input": "2025-03-10T15:44:42.536573Z",
     "iopub.status.busy": "2025-03-10T15:44:42.535703Z",
     "iopub.status.idle": "2025-03-10T15:44:42.541687Z",
     "shell.execute_reply": "2025-03-10T15:44:42.540882Z"
    },
    "papermill": {
     "duration": 0.012138,
     "end_time": "2025-03-10T15:44:42.542878",
     "exception": false,
     "start_time": "2025-03-10T15:44:42.530740",
     "status": "completed"
    },
    "tags": []
   },
   "outputs": [],
   "source": [
    "# Define memory optimization function\n",
    "def reduce_memory_usage(df, verbose=True):\n",
    "    \"\"\"Downcasts numeric columns to reduce memory usage.\"\"\"\n",
    "    start_mem = df.memory_usage().sum() / 1024**2\n",
    "    for col in df.columns:\n",
    "        col_type = df[col].dtypes\n",
    "        if col_type == 'float64':\n",
    "            df[col] = pd.to_numeric(df[col], downcast='float')\n",
    "        elif col_type == 'int64':\n",
    "            df[col] = pd.to_numeric(df[col], downcast='integer')\n",
    "    end_mem = df.memory_usage().sum() / 1024**2\n",
    "    if verbose:\n",
    "        print(f\"Memory usage reduced from {start_mem:.2f} MB to {end_mem:.2f} MB \"\n",
    "              f\"({100 * (start_mem - end_mem) / start_mem:.1f}% reduction)\")\n",
    "    return df"
   ]
  },
  {
   "cell_type": "markdown",
   "id": "3112d9be",
   "metadata": {
    "papermill": {
     "duration": 0.004223,
     "end_time": "2025-03-10T15:44:42.551267",
     "exception": false,
     "start_time": "2025-03-10T15:44:42.547044",
     "status": "completed"
    },
    "tags": []
   },
   "source": [
    "## Load and Optimize Data\r\n",
    "\r\n",
    "We load our train/test data, apply the memory optimization function, and separate features/target. Adjust file names as needed for your environmen.\r\n"
   ]
  },
  {
   "cell_type": "code",
   "execution_count": 5,
   "id": "a4dd1093",
   "metadata": {
    "execution": {
     "iopub.execute_input": "2025-03-10T15:44:42.560443Z",
     "iopub.status.busy": "2025-03-10T15:44:42.560194Z",
     "iopub.status.idle": "2025-03-10T15:44:42.616807Z",
     "shell.execute_reply": "2025-03-10T15:44:42.615981Z"
    },
    "papermill": {
     "duration": 0.062538,
     "end_time": "2025-03-10T15:44:42.618099",
     "exception": false,
     "start_time": "2025-03-10T15:44:42.555561",
     "status": "completed"
    },
    "tags": []
   },
   "outputs": [
    {
     "name": "stdout",
     "output_type": "stream",
     "text": [
      "Before memory optimization:\n",
      "Train shape: (2190, 13)\n",
      "Test shape: (730, 12)\n",
      "Memory usage reduced from 0.22 MB to 0.09 MB (56.7% reduction)\n",
      "Memory usage reduced from 0.07 MB to 0.03 MB (54.1% reduction)\n",
      "After optimization:\n",
      "X shape: (2190, 11)\n",
      "X_test shape: (730, 11)\n"
     ]
    }
   ],
   "source": [
    "# Load and optimize data\n",
    "train = pd.read_csv('/kaggle/input/playground-series-s5e3/train.csv')\n",
    "test = pd.read_csv('/kaggle/input/playground-series-s5e3/test.csv')\n",
    "\n",
    "print(\"Before memory optimization:\")\n",
    "print(\"Train shape:\", train.shape)\n",
    "print(\"Test shape:\", test.shape)\n",
    "\n",
    "train = reduce_memory_usage(train)\n",
    "test = reduce_memory_usage(test)\n",
    "\n",
    "# Separate features and target from training data\n",
    "X = train.drop(columns=['id', 'rainfall'])\n",
    "y = train['rainfall']\n",
    "\n",
    "# For test data, drop the id column and save the IDs for submission\n",
    "X_test = test.drop(columns=['id'])\n",
    "test_ids = test['id']\n",
    "\n",
    "print(\"After optimization:\")\n",
    "print(\"X shape:\", X.shape)\n",
    "print(\"X_test shape:\", X_test.shape)"
   ]
  },
  {
   "cell_type": "markdown",
   "id": "864c182f",
   "metadata": {
    "papermill": {
     "duration": 0.003913,
     "end_time": "2025-03-10T15:44:42.626227",
     "exception": false,
     "start_time": "2025-03-10T15:44:42.622314",
     "status": "completed"
    },
    "tags": []
   },
   "source": [
    "## Define Preprocessing Pipelines\r\n",
    "\r\n",
    "We create a dictionary of scalers to compare (none, standard, minmax, robust). If you prefer, you can remove or add more pipeline.\r\n"
   ]
  },
  {
   "cell_type": "code",
   "execution_count": 6,
   "id": "2f894fa6",
   "metadata": {
    "execution": {
     "iopub.execute_input": "2025-03-10T15:44:42.635165Z",
     "iopub.status.busy": "2025-03-10T15:44:42.634951Z",
     "iopub.status.idle": "2025-03-10T15:44:42.637964Z",
     "shell.execute_reply": "2025-03-10T15:44:42.637370Z"
    },
    "papermill": {
     "duration": 0.00896,
     "end_time": "2025-03-10T15:44:42.639221",
     "exception": false,
     "start_time": "2025-03-10T15:44:42.630261",
     "status": "completed"
    },
    "tags": []
   },
   "outputs": [],
   "source": [
    "# Define preprocessing pipelines\n",
    "preprocessors = {\n",
    "    'standard': StandardScaler(),\n",
    "    'minmax': MinMaxScaler(),\n",
    "    'robust': RobustScaler(),\n",
    "    'raw': None\n",
    "}"
   ]
  },
  {
   "cell_type": "markdown",
   "id": "f655faf6",
   "metadata": {
    "papermill": {
     "duration": 0.003944,
     "end_time": "2025-03-10T15:44:42.647489",
     "exception": false,
     "start_time": "2025-03-10T15:44:42.643545",
     "status": "completed"
    },
    "tags": []
   },
   "source": [
    "## Define Keras Model Function\r\n",
    "\r\n",
    "We define a function that builds a DNN model. This will be used by the `KerasClassifier` wrapper. We'll allow hyperparameters like `optimizer`, `dropout_rate`, and `learning_rate` to be tune.\r\n"
   ]
  },
  {
   "cell_type": "code",
   "execution_count": 7,
   "id": "803891c3",
   "metadata": {
    "execution": {
     "iopub.execute_input": "2025-03-10T15:44:42.656352Z",
     "iopub.status.busy": "2025-03-10T15:44:42.656101Z",
     "iopub.status.idle": "2025-03-10T15:44:42.660810Z",
     "shell.execute_reply": "2025-03-10T15:44:42.660063Z"
    },
    "papermill": {
     "duration": 0.0105,
     "end_time": "2025-03-10T15:44:42.662019",
     "exception": false,
     "start_time": "2025-03-10T15:44:42.651519",
     "status": "completed"
    },
    "tags": []
   },
   "outputs": [],
   "source": [
    "# Define the Keras model function\n",
    "def create_dnn_model(optimizer='adam', dropout_rate=0.2, learning_rate=0.001):\n",
    "    model = Sequential()\n",
    "    model.add(Dense(64, activation='relu', input_shape=(X.shape[1],)))\n",
    "    model.add(Dropout(dropout_rate))\n",
    "    model.add(Dense(32, activation='relu'))\n",
    "    model.add(Dropout(dropout_rate))\n",
    "    model.add(Dense(1, activation='sigmoid'))\n",
    "    \n",
    "    # Build optimizer with the specified learning rate\n",
    "    if optimizer == 'adam':\n",
    "        opt = Adam(learning_rate=learning_rate)\n",
    "    else:\n",
    "        opt = Adam(learning_rate=learning_rate)\n",
    "    \n",
    "    model.compile(loss='binary_crossentropy', optimizer=opt, metrics=['AUC'])\n",
    "    return model"
   ]
  },
  {
   "cell_type": "markdown",
   "id": "55dcfe56",
   "metadata": {
    "papermill": {
     "duration": 0.003962,
     "end_time": "2025-03-10T15:44:42.670032",
     "exception": false,
     "start_time": "2025-03-10T15:44:42.666070",
     "status": "completed"
    },
    "tags": []
   },
   "source": [
    "## Define KerasClassifier and Hyperparameter Grid\r\n",
    "\r\n",
    "We use the `KerasClassifier` wrapper from scikeras, which integrates with scikit-learn. We set up a parameter grid (or distribution) for random search. Adjust the ranges to fit your problem constraint\n",
    "We wrap our model with scikeras’ KerasClassifier. **Note:** For hyperparameters of the model-building function, we must use the prefix `model__` (and because the pipeline step is named `'dnn'`, we use `'dnn__model__'`)..\r\n"
   ]
  },
  {
   "cell_type": "code",
   "execution_count": 8,
   "id": "f0607ee9",
   "metadata": {
    "execution": {
     "iopub.execute_input": "2025-03-10T15:44:42.678835Z",
     "iopub.status.busy": "2025-03-10T15:44:42.678637Z",
     "iopub.status.idle": "2025-03-10T15:44:42.682116Z",
     "shell.execute_reply": "2025-03-10T15:44:42.681462Z"
    },
    "papermill": {
     "duration": 0.009212,
     "end_time": "2025-03-10T15:44:42.683381",
     "exception": false,
     "start_time": "2025-03-10T15:44:42.674169",
     "status": "completed"
    },
    "tags": []
   },
   "outputs": [],
   "source": [
    "# Wrap the Keras model and define hyperparameter grid\n",
    "dnn_wrapper = KerasClassifier(\n",
    "    model=create_dnn_model,\n",
    "    epochs=20,           # Default epochs; will be tuned\n",
    "    batch_size=32,       # Default batch size; will be tuned\n",
    "    verbose=0\n",
    ")\n",
    "\n",
    "# Hyperparameter grid using correct prefix \"dnn__model__\" for parameters passed to create_dnn_model.\n",
    "param_dist = {\n",
    "    'dnn__model__optimizer': ['adam', 'rmsprop'],\n",
    "    'dnn__model__dropout_rate': [0.2, 0.3],\n",
    "    'dnn__model__learning_rate': [1e-3, 1e-4],\n",
    "    'dnn__epochs': [20, 30],\n",
    "    'dnn__batch_size': [32, 64]\n",
    "}"
   ]
  },
  {
   "cell_type": "markdown",
   "id": "9748a2df",
   "metadata": {
    "papermill": {
     "duration": 0.00382,
     "end_time": "2025-03-10T15:44:42.691235",
     "exception": false,
     "start_time": "2025-03-10T15:44:42.687415",
     "status": "completed"
    },
    "tags": []
   },
   "source": [
    "## Hyperparameter Tuning and Submission Generation (Robust Scaling Only)\n",
    "\n",
    "We build a pipeline that first imputes missing values (using median strategy), then applies RobustScaler (our only option), and finally trains the DNN. We run RandomizedSearchCV (using a threading backend) for thorough tuning, re‑fit the best estimator, and generate test predictions. A submission file is saved."
   ]
  },
  {
   "cell_type": "code",
   "execution_count": 9,
   "id": "266f1226",
   "metadata": {
    "execution": {
     "iopub.execute_input": "2025-03-10T15:44:42.699916Z",
     "iopub.status.busy": "2025-03-10T15:44:42.699706Z",
     "iopub.status.idle": "2025-03-10T16:20:33.002950Z",
     "shell.execute_reply": "2025-03-10T16:20:33.001778Z"
    },
    "papermill": {
     "duration": 2150.30916,
     "end_time": "2025-03-10T16:20:33.004435",
     "exception": false,
     "start_time": "2025-03-10T15:44:42.695275",
     "status": "completed"
    },
    "tags": []
   },
   "outputs": [
    {
     "name": "stdout",
     "output_type": "stream",
     "text": [
      "\n",
      "--- Preprocessing: standard ---\n",
      "Best CV ROC AUC for standard: nan\n",
      "Best parameters: {'dnn__model__optimizer': 'adam', 'dnn__model__learning_rate': 0.001, 'dnn__model__dropout_rate': 0.2, 'dnn__epochs': 20, 'dnn__batch_size': 32}\n",
      "Submission file saved: submissions/standard_dnn_submission.csv\n",
      "\n",
      "\n",
      "--- Preprocessing: minmax ---\n",
      "Best CV ROC AUC for minmax: nan\n",
      "Best parameters: {'dnn__model__optimizer': 'adam', 'dnn__model__learning_rate': 0.001, 'dnn__model__dropout_rate': 0.2, 'dnn__epochs': 20, 'dnn__batch_size': 32}\n",
      "Submission file saved: submissions/minmax_dnn_submission.csv\n",
      "\n",
      "\n",
      "--- Preprocessing: robust ---\n",
      "Best CV ROC AUC for robust: nan\n",
      "Best parameters: {'dnn__model__optimizer': 'adam', 'dnn__model__learning_rate': 0.001, 'dnn__model__dropout_rate': 0.2, 'dnn__epochs': 20, 'dnn__batch_size': 32}\n",
      "Submission file saved: submissions/robust_dnn_submission.csv\n",
      "\n",
      "\n",
      "--- Preprocessing: raw ---\n",
      "Best CV ROC AUC for raw: nan\n",
      "Best parameters: {'dnn__model__optimizer': 'adam', 'dnn__model__learning_rate': 0.001, 'dnn__model__dropout_rate': 0.2, 'dnn__epochs': 20, 'dnn__batch_size': 32}\n",
      "Submission file saved: submissions/raw_dnn_submission.csv\n",
      "\n"
     ]
    }
   ],
   "source": [
    "# Run hyperparameter tuning and generate submissions for all preprocessing methods\n",
    "from joblib import parallel_backend\n",
    "\n",
    "results = []  # List to store tuning results\n",
    "cv = StratifiedKFold(n_splits=5, shuffle=True, random_state=42)\n",
    "\n",
    "# Create a directory for submission files\n",
    "os.makedirs(\"submissions\", exist_ok=True)\n",
    "\n",
    "for prep_name, scaler in preprocessors.items():\n",
    "    print(f\"\\n--- Preprocessing: {prep_name} ---\")\n",
    "    \n",
    "    # Build pipeline: imputer -> (scaler if provided) -> DNN\n",
    "    steps = []\n",
    "    steps.append(('imputer', SimpleImputer(strategy=\"median\")))\n",
    "    if scaler is not None:\n",
    "        steps.append((prep_name, scaler))\n",
    "    steps.append(('dnn', dnn_wrapper))\n",
    "    pipeline = Pipeline(steps)\n",
    "    \n",
    "    # Use threading backend to avoid pickling issues.\n",
    "    with parallel_backend('threading', n_jobs=-1):\n",
    "        search = RandomizedSearchCV(\n",
    "            estimator=pipeline,\n",
    "            param_distributions=param_dist,\n",
    "            n_iter=50,\n",
    "            scoring='roc_auc',\n",
    "            cv=cv,\n",
    "            verbose=0,\n",
    "            random_state=42,\n",
    "            n_jobs=-1\n",
    "        )\n",
    "        search.fit(X, y)\n",
    "    \n",
    "    best_score = search.best_score_\n",
    "    best_params = search.best_params_\n",
    "    \n",
    "    print(f\"Best CV ROC AUC for {prep_name}: {best_score:.4f}\")\n",
    "    print(\"Best parameters:\", best_params)\n",
    "    \n",
    "    # Re-fit the best estimator on the full training data to ensure it is fitted.\n",
    "    best_estimator = search.best_estimator_\n",
    "    best_estimator.fit(X, y)\n",
    "    \n",
    "    # Manually transform test data using all steps except the final DNN step\n",
    "    X_test_transformed = best_estimator[:-1].transform(X_test)\n",
    "    # Then call predict_proba on the DNN step\n",
    "    test_preds = best_estimator.named_steps['dnn'].predict_proba(X_test_transformed)[:, 1]\n",
    "    \n",
    "    # Save the submission file for this preprocessing method\n",
    "    sub_filename = f\"submissions/{prep_name}_dnn_submission.csv\"\n",
    "    sub_df = pd.DataFrame({'id': test_ids, 'rainfall': test_preds})\n",
    "    sub_df.to_csv(sub_filename, index=False)\n",
    "    print(f\"Submission file saved: {sub_filename}\\n\")\n",
    "    \n",
    "    # Record results for later comparison.\n",
    "    results.append({\n",
    "        'preprocessing': prep_name,\n",
    "        'best_auc': best_score,\n",
    "        'best_params': best_params,\n",
    "        'submission_file': sub_filename\n",
    "    })"
   ]
  },
  {
   "cell_type": "markdown",
   "id": "65fe5773",
   "metadata": {
    "papermill": {
     "duration": 0.005825,
     "end_time": "2025-03-10T16:20:33.015904",
     "exception": false,
     "start_time": "2025-03-10T16:20:33.010079",
     "status": "completed"
    },
    "tags": []
   },
   "source": [
    "## Compare Results\r\n",
    "\r\n",
    "We create a DataFrame from the results and sort by the best AUC score to see which preprocessing pipeline + hyperparameters performed bes.\r\n"
   ]
  },
  {
   "cell_type": "code",
   "execution_count": 10,
   "id": "808b1374",
   "metadata": {
    "execution": {
     "iopub.execute_input": "2025-03-10T16:20:33.028031Z",
     "iopub.status.busy": "2025-03-10T16:20:33.027779Z",
     "iopub.status.idle": "2025-03-10T16:20:33.287932Z",
     "shell.execute_reply": "2025-03-10T16:20:33.287048Z"
    },
    "papermill": {
     "duration": 0.26748,
     "end_time": "2025-03-10T16:20:33.289367",
     "exception": false,
     "start_time": "2025-03-10T16:20:33.021887",
     "status": "completed"
    },
    "tags": []
   },
   "outputs": [
    {
     "data": {
      "image/png": "[encoded data removed]",
      "text/plain": [
       "<Figure size 800x500 with 1 Axes>"
      ]
     },
     "metadata": {},
     "output_type": "display_data"
    }
   ],
   "source": [
    "# Create a bar plot to compare best CV ROC AUC scores\n",
    "results_df = pd.DataFrame(results)\n",
    "results_df = results_df.sort_values(by='best_auc', ascending=False)\n",
    "\n",
    "plt.figure(figsize=(8, 5))\n",
    "sns.barplot(x='preprocessing', y='best_auc', data=results_df, palette='viridis')\n",
    "plt.title(\"Best CV ROC AUC by Preprocessing Method\")\n",
    "plt.xlabel(\"Preprocessing Method\")\n",
    "plt.ylabel(\"Best CV ROC AUC\")\n",
    "plt.ylim(0.0, 1.0)\n",
    "plt.show()"
   ]
  },
  {
   "cell_type": "markdown",
   "id": "feb85284",
   "metadata": {
    "papermill": {
     "duration": 0.005252,
     "end_time": "2025-03-10T16:20:33.300119",
     "exception": false,
     "start_time": "2025-03-10T16:20:33.294867",
     "status": "completed"
    },
    "tags": []
   },
   "source": [
    "## Copy Best Scoring Submission as submission.csv\n",
    "\n",
    "From the tuning results, we identify the best scoring submission and copy that file to \"submission.csv\" (the name required by the competition). All other submission file names remain unchanged..\r\n"
   ]
  },
  {
   "cell_type": "code",
   "execution_count": 11,
   "id": "7e468830",
   "metadata": {
    "execution": {
     "iopub.execute_input": "2025-03-10T16:20:33.311536Z",
     "iopub.status.busy": "2025-03-10T16:20:33.311278Z",
     "iopub.status.idle": "2025-03-10T16:20:33.656747Z",
     "shell.execute_reply": "2025-03-10T16:20:33.655485Z"
    },
    "papermill": {
     "duration": 0.352579,
     "end_time": "2025-03-10T16:20:33.658052",
     "exception": true,
     "start_time": "2025-03-10T16:20:33.305473",
     "status": "failed"
    },
    "tags": []
   },
   "outputs": [
    {
     "ename": "ValueError",
     "evalue": "No valid submission found with a non-NaN ROC AUC score.",
     "output_type": "error",
     "traceback": [
      "\u001b[0;31m---------------------------------------------------------------------------\u001b[0m",
      "\u001b[0;31mValueError\u001b[0m                                Traceback (most recent call last)",
      "\u001b[0;32m<ipython-input-11-cf7bb3fb5c66>\u001b[0m in \u001b[0;36m<cell line: 6>\u001b[0;34m()\u001b[0m\n\u001b[1;32m      5\u001b[0m \u001b[0mvalid_results\u001b[0m \u001b[0;34m=\u001b[0m \u001b[0mresults_df\u001b[0m\u001b[0;34m[\u001b[0m\u001b[0mresults_df\u001b[0m\u001b[0;34m[\u001b[0m\u001b[0;34m'best_auc'\u001b[0m\u001b[0;34m]\u001b[0m\u001b[0;34m.\u001b[0m\u001b[0mnotna\u001b[0m\u001b[0;34m(\u001b[0m\u001b[0;34m)\u001b[0m\u001b[0;34m]\u001b[0m\u001b[0;34m\u001b[0m\u001b[0;34m\u001b[0m\u001b[0m\n\u001b[1;32m      6\u001b[0m \u001b[0;32mif\u001b[0m \u001b[0mvalid_results\u001b[0m\u001b[0;34m.\u001b[0m\u001b[0mempty\u001b[0m\u001b[0;34m:\u001b[0m\u001b[0;34m\u001b[0m\u001b[0;34m\u001b[0m\u001b[0m\n\u001b[0;32m----> 7\u001b[0;31m     \u001b[0;32mraise\u001b[0m \u001b[0mValueError\u001b[0m\u001b[0;34m(\u001b[0m\u001b[0;34m\"No valid submission found with a non-NaN ROC AUC score.\"\u001b[0m\u001b[0;34m)\u001b[0m\u001b[0;34m\u001b[0m\u001b[0;34m\u001b[0m\u001b[0m\n\u001b[0m\u001b[1;32m      8\u001b[0m \u001b[0;34m\u001b[0m\u001b[0m\n\u001b[1;32m      9\u001b[0m \u001b[0mbest_result\u001b[0m \u001b[0;34m=\u001b[0m \u001b[0mvalid_results\u001b[0m\u001b[0;34m.\u001b[0m\u001b[0miloc\u001b[0m\u001b[0;34m[\u001b[0m\u001b[0;36m0\u001b[0m\u001b[0;34m]\u001b[0m\u001b[0;34m\u001b[0m\u001b[0;34m\u001b[0m\u001b[0m\n",
      "\u001b[0;31mValueError\u001b[0m: No valid submission found with a non-NaN ROC AUC score."
     ]
    }
   ],
   "source": [
    "# Copy the best scoring submission to \"submission.csv\"\n",
    "import shutil\n",
    "\n",
    "# Filter out any candidates with NaN scores and choose the best candidate\n",
    "valid_results = results_df[results_df['best_auc'].notna()]\n",
    "if valid_results.empty:\n",
    "    raise ValueError(\"No valid submission found with a non-NaN ROC AUC score.\")\n",
    "\n",
    "best_result = valid_results.iloc[0]\n",
    "best_submission_file = best_result['submission_file']\n",
    "\n",
    "shutil.copy(best_submission_file, 'submission.csv')\n",
    "print(f\"Best scoring submission ({best_submission_file}) copied as 'submission.csv'\")"
   ]
  },
  {
   "cell_type": "markdown",
   "id": "169e6985",
   "metadata": {
    "papermill": {
     "duration": null,
     "end_time": null,
     "exception": null,
     "start_time": null,
     "status": "pending"
    },
    "tags": []
   },
   "source": [
    "## Retrain Final Models and Generate Final Submissions\n",
    "\n",
    "Optionally, you can retrain final models using the best hyperparameters from each pipeline on the entire training data and generate final submissions. This cell demonstrates that step."
   ]
  },
  {
   "cell_type": "code",
   "execution_count": null,
   "id": "7189924a",
   "metadata": {
    "execution": {
     "execution_failed": "2025-03-08T21:24:41.694Z"
    },
    "papermill": {
     "duration": null,
     "end_time": null,
     "exception": null,
     "start_time": null,
     "status": "pending"
    },
    "tags": []
   },
   "outputs": [],
   "source": [
    "# # Retrain final models with best parameters and generate final submissions\n",
    "# for idx, row in results_df.iterrows():\n",
    "#     prep = row['preprocessing']\n",
    "#     best_params = row['best_params']\n",
    "#     print(f\"Retraining final model with preprocessing: {prep}\")\n",
    "    \n",
    "#     steps = []\n",
    "#     steps.append(('imputer', SimpleImputer(strategy=\"median\")))\n",
    "#     if prep in preprocessors and preprocessors[prep] is not None:\n",
    "#         steps.append((prep, preprocessors[prep]))\n",
    "#     steps.append(('dnn', dnn_wrapper.set_params(**best_params)))\n",
    "#     final_pipeline = Pipeline(steps)\n",
    "    \n",
    "#     final_pipeline.fit(X, y)\n",
    "#     final_preds = final_pipeline.predict_proba(X_test)[:, 1]\n",
    "    \n",
    "#     final_sub_filename = f\"submissions/final_{prep}_dnn_submission.csv\"\n",
    "#     final_sub_df = pd.DataFrame({'id': test_ids, 'rainfall': final_preds})\n",
    "#     final_sub_df.to_csv(final_sub_filename, index=False)\n",
    "#     print(f\"Final submission saved: {final_sub_filename}\\n\")"
   ]
  },
  {
   "cell_type": "markdown",
   "id": "e1e7edda",
   "metadata": {
    "papermill": {
     "duration": null,
     "end_time": null,
     "exception": null,
     "start_time": null,
     "status": "pending"
    },
    "tags": []
   },
   "source": [
    "## Conclusion\n",
    "\n",
    "- **Memory Optimization**: We reduced memory usage by downcasting numeric columns.\n",
    "- **Missing Value Handling**: A SimpleImputer (median strategy) is applied to ensure no NaN values persist.\n",
    "- **Preprocessing Pipelines**: Submissions were generated for all preprocessing methods (Standard, MinMax, Robust, Raw).\n",
    "- **GPU Acceleration**: The DNN is configured to run on GPU if available.\n",
    "- **Thorough Hyperparameter Tuning**: Using RandomizedSearchCV (50 iterations over 5-fold CV), we tuned optimizer, dropout rate, learning rate, epochs, and batch size.\n",
    "- **Graphical Comparison**: A bar plot shows the best CV ROC AUC scores for each preprocessing method.\n",
    "- **Final Submission**: The highest scoring submission is explicitly copied to **submission.csv**.\n",
    "\n",
    "This code is designed for a competitive setting—feel free to adjust hyperparameter ranges, iterations, and preprocessing options for further improvements. Happy modeling and best of luck in the competition!\n"
   ]
  },
  {
   "cell_type": "code",
   "execution_count": null,
   "id": "e9e8909d",
   "metadata": {
    "papermill": {
     "duration": null,
     "end_time": null,
     "exception": null,
     "start_time": null,
     "status": "pending"
    },
    "tags": []
   },
   "outputs": [],
   "source": []
  }
 ],
 "metadata": {
  "kaggle": {
   "accelerator": "nvidiaTeslaT4",
   "dataSources": [
    {
     "databundleVersionId": 11251744,
     "sourceId": 91714,
     "sourceType": "competition"
    }
   ],
   "dockerImageVersionId": 30919,
   "isGpuEnabled": true,
   "isInternetEnabled": true,
   "language": "python",
   "sourceType": "notebook"
  },
  "kernelspec": {
   "display_name": "Python 3",
   "language": "python",
   "name": "python3"
  },
  "language_info": {
   "codemirror_mode": {
    "name": "ipython",
    "version": 3
   },
   "file_extension": ".py",
   "mimetype": "text/x-python",
   "name": "python",
   "nbconvert_exporter": "python",
   "pygments_lexer": "ipython3",
   "version": "3.10.12"
  },
  "papermill": {
   "default_parameters": {},
   "duration": 2185.473584,
   "end_time": "2025-03-10T16:20:39.688800",
   "environment_variables": {},
   "exception": true,
   "input_path": "__notebook__.ipynb",
   "output_path": "__notebook__.ipynb",
   "parameters": {},
   "start_time": "2025-03-10T15:44:14.215216",
   "version": "2.6.0"
  }
 },
 "nbformat": 4,
 "nbformat_minor": 5
}
