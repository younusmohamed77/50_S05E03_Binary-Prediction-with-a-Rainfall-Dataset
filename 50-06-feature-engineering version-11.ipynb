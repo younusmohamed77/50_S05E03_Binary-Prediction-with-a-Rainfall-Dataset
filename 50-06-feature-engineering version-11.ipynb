{
 "cells": [
  {
   "cell_type": "code",
   "execution_count": 1,
   "id": "b85c830c",
   "metadata": {
    "execution": {
     "iopub.execute_input": "2025-03-27T13:52:29.164994Z",
     "iopub.status.busy": "2025-03-27T13:52:29.164771Z",
     "iopub.status.idle": "2025-03-27T13:52:41.723136Z",
     "shell.execute_reply": "2025-03-27T13:52:41.722240Z"
    },
    "papermill": {
     "duration": 12.565144,
     "end_time": "2025-03-27T13:52:41.724536",
     "exception": false,
     "start_time": "2025-03-27T13:52:29.159392",
     "status": "completed"
    },
    "tags": []
   },
   "outputs": [
    {
     "name": "stdout",
     "output_type": "stream",
     "text": [
      "GPUs Available: [PhysicalDevice(name='/physical_device:GPU:0', device_type='GPU'), PhysicalDevice(name='/physical_device:GPU:1', device_type='GPU')]\n"
     ]
    }
   ],
   "source": [
    "# Check GPU availability\n",
    "import tensorflow as tf\n",
    "print(\"GPUs Available:\", tf.config.list_physical_devices('GPU'))"
   ]
  },
  {
   "cell_type": "code",
   "execution_count": 2,
   "id": "f53287fb",
   "metadata": {
    "execution": {
     "iopub.execute_input": "2025-03-27T13:52:41.734337Z",
     "iopub.status.busy": "2025-03-27T13:52:41.733865Z",
     "iopub.status.idle": "2025-03-27T13:52:47.377682Z",
     "shell.execute_reply": "2025-03-27T13:52:47.376972Z"
    },
    "papermill": {
     "duration": 5.650231,
     "end_time": "2025-03-27T13:52:47.379209",
     "exception": false,
     "start_time": "2025-03-27T13:52:41.728978",
     "status": "completed"
    },
    "tags": []
   },
   "outputs": [],
   "source": [
    "# Cell 0: Imports and Setup\n",
    "import keras_tuner as kt\n",
    "import logging\n",
    "import matplotlib.pyplot as plt\n",
    "import numpy as np\n",
    "import os\n",
    "import pandas as pd\n",
    "import seaborn as sns\n",
    "import tensorflow as tf\n",
    "import warnings\n",
    "\n",
    "from catboost import CatBoostClassifier\n",
    "from lightgbm import LGBMClassifier\n",
    "from sklearn.ensemble import ExtraTreesClassifier, RandomForestClassifier\n",
    "from sklearn.feature_selection import SelectFromModel\n",
    "from sklearn.impute import KNNImputer, SimpleImputer\n",
    "from sklearn.linear_model import LogisticRegression\n",
    "from sklearn.metrics import accuracy_score, roc_auc_score\n",
    "from sklearn.model_selection import KFold, RandomizedSearchCV, StratifiedKFold, train_test_split\n",
    "from sklearn.neighbors import KNeighborsClassifier\n",
    "from sklearn.pipeline import Pipeline\n",
    "from sklearn.preprocessing import PolynomialFeatures, StandardScaler\n",
    "from sklearn.svm import SVC\n",
    "from sklearn.tree import DecisionTreeClassifier\n",
    "from tensorflow import keras\n",
    "from tensorflow.keras import layers, Sequential\n",
    "from tensorflow.keras.callbacks import EarlyStopping, ReduceLROnPlateau\n",
    "from tensorflow.keras.optimizers import Adam, RMSprop\n",
    "from tensorflow.keras.regularizers import l2\n",
    "from xgboost import XGBClassifier\n",
    "\n",
    "# Configure logging and warnings\n",
    "logging.basicConfig(level=logging.INFO, format='%(asctime)s - %(levelname)s - %(message)s')\n",
    "logger = logging.getLogger(__name__)\n",
    "warnings.filterwarnings('ignore')\n",
    "\n",
    "# Set random seeds for reproducibility\n",
    "tf.random.set_seed(42)\n",
    "np.random.seed(42)\n",
    "\n",
    "%matplotlib inline"
   ]
  },
  {
   "cell_type": "markdown",
   "id": "0d037239",
   "metadata": {
    "papermill": {
     "duration": 0.003827,
     "end_time": "2025-03-27T13:52:47.387405",
     "exception": false,
     "start_time": "2025-03-27T13:52:47.383578",
     "status": "completed"
    },
    "tags": []
   },
   "source": [
    "### Custom Transformers for Unified Feature Engineering and Outlier Treatment\n",
    "We define two custom transformers:\n",
    "- **UnifiedFeatureEngineer:** A scikit‑learn transformer that builds a unified feature set. It creates date‑based, periodic, interaction, lag (if training), polynomial (degree 2 on candidate columns), and rolling window features.\n",
    "- **OutlierTreatmentTransformer:** Clips numeric features based on a (tunable) IQR multiplier."
   ]
  },
  {
   "cell_type": "code",
   "execution_count": 3,
   "id": "63f25f13",
   "metadata": {
    "execution": {
     "iopub.execute_input": "2025-03-27T13:52:47.396632Z",
     "iopub.status.busy": "2025-03-27T13:52:47.395986Z",
     "iopub.status.idle": "2025-03-27T13:52:47.418851Z",
     "shell.execute_reply": "2025-03-27T13:52:47.418233Z"
    },
    "papermill": {
     "duration": 0.028664,
     "end_time": "2025-03-27T13:52:47.420060",
     "exception": false,
     "start_time": "2025-03-27T13:52:47.391396",
     "status": "completed"
    },
    "tags": []
   },
   "outputs": [],
   "source": [
    "# Custom Transformers\n",
    "from sklearn.base import BaseEstimator, TransformerMixin\n",
    "\n",
    "class UnifiedFeatureEngineer(BaseEstimator, TransformerMixin):\n",
    "    \"\"\"\n",
    "    Generates an extended feature set.\n",
    "    \n",
    "    - Builds a date from the 'day' column (assumes day 1 = 2024-01-01).\n",
    "    - Extracts date-based features (month, day_of_year, week_of_year, quarter, day_of_week, is_weekend).\n",
    "    - Creates periodic features (sine and cosine transforms for day and month).\n",
    "    - Computes interaction/ratio features (e.g. temp_range, humidity_cloud_ratio, etc.).\n",
    "    - For training (is_train=True), computes lag features from the target.\n",
    "    - Generates degree-2 polynomial features on candidate columns if provided.\n",
    "    - Computes rolling-window statistics (mean and standard deviation) for all numeric features.\n",
    "    - Removes duplicate columns (to avoid length mismatches).\n",
    "    \"\"\"\n",
    "    def __init__(self, is_train=False, target_col='rainfall', poly_cols=None, roll_windows=[7,14]):\n",
    "        self.is_train = is_train\n",
    "        self.target_col = target_col\n",
    "        self.poly_cols = poly_cols\n",
    "        self.roll_windows = roll_windows\n",
    "        \n",
    "    def fit(self, X, y=None):\n",
    "        # Check if the required column exists.\n",
    "        missing = set(['day']) - set(X.columns)\n",
    "        if missing:\n",
    "            logger.warning(f\"Missing required columns for feature engineering: {missing}\")\n",
    "        return self\n",
    "\n",
    "    def transform(self, X, y=None):\n",
    "        df = X.copy()\n",
    "        \n",
    "        # --- Date-based features ---\n",
    "        if 'day' in df.columns:\n",
    "            base_date = pd.to_datetime('2024-01-01')\n",
    "            df['date'] = base_date + pd.to_timedelta(df['day'] - 1, unit='D')\n",
    "            df['month'] = df['date'].dt.month\n",
    "            df['day_of_year'] = df['date'].dt.dayofyear\n",
    "            df['week_of_year'] = df['date'].dt.isocalendar().week.astype(int)\n",
    "            df['quarter'] = df['date'].dt.quarter\n",
    "            df['day_of_week'] = df['date'].dt.weekday\n",
    "            df['is_weekend'] = df['day_of_week'].isin([5,6]).astype(int)\n",
    "            df['day_sin'] = np.sin(2 * np.pi * df['day_of_year'] / 365)\n",
    "            df['day_cos'] = np.cos(2 * np.pi * df['day_of_year'] / 365)\n",
    "            df['month_sin'] = np.sin(2 * np.pi * df['month'] / 12)\n",
    "            df['month_cos'] = np.cos(2 * np.pi * df['month'] / 12)\n",
    "        else:\n",
    "            logger.warning(\"Column 'day' not found; skipping date-based features.\")\n",
    "        \n",
    "        # --- Additional features ---\n",
    "        # Lag features for pressure and humidity.\n",
    "        for lag in [1, 3, 7]:\n",
    "            if 'pressure' in df.columns:\n",
    "                df[f'Pressure_lag{lag}'] = df['pressure'].shift(lag)\n",
    "            if 'humidity' in df.columns:\n",
    "                df[f'Humidity_lag{lag}'] = df['humidity'].shift(lag)\n",
    "        # Amount of change.\n",
    "        if 'pressure' in df.columns:\n",
    "            df['Pressure_change_1d'] = df['pressure'] - df['pressure'].shift(1)\n",
    "        if 'humidity' in df.columns:\n",
    "            df['Humidity_change_1d'] = df['humidity'] - df['humidity'].shift(1)\n",
    "        # Temperature features.\n",
    "        if all(col in df.columns for col in ['maxtemp', 'mintemp']):\n",
    "            df['temp_range'] = df['maxtemp'] - df['mintemp']\n",
    "            df['avg_temp'] = (df['maxtemp'] + df['mintemp']) / 2\n",
    "        if all(col in df.columns for col in ['temparature', 'dewpoint']):\n",
    "            df['temp_dew_diff'] = df['temparature'] - df['dewpoint']\n",
    "        # Sunshine and cloud.\n",
    "        if all(col in df.columns for col in ['sunshine', 'cloud']):\n",
    "            df['Sunshine_per_hour'] = df['sunshine'] / 24\n",
    "            df['Cloud_per_hour'] = df['cloud'] / 24\n",
    "            if 'humidity' in df.columns:\n",
    "                df['Cloud_Humidity_ratio'] = df['cloud'] / (df['humidity'] + 1e-5)\n",
    "            df['Cloud_Sunshine_ratio'] = df['cloud'] / (df['sunshine'] + 1e-5)\n",
    "        # Wind features.\n",
    "        if all(col in df.columns for col in ['windspeed', 'winddirection']):\n",
    "            df['Wind_x'] = df['windspeed'] * np.cos(np.radians(df['winddirection']))\n",
    "            df['Wind_y'] = df['windspeed'] * np.sin(np.radians(df['winddirection']))\n",
    "        # Other interactions.\n",
    "        for col in ['humidity', 'cloud', 'pressure', 'sunshine']:\n",
    "            if col not in df.columns:\n",
    "                df[col] = np.nan\n",
    "        df['humidity_cloud_interaction'] = df['humidity'] * df['cloud']\n",
    "        df['humidity_sunshine_interaction'] = df['humidity'] * df['sunshine']\n",
    "        df['Pressure_Humidity_Interaction'] = df['pressure'] * df['humidity']\n",
    "        df['cloud_wind_interaction'] = df['cloud'] * df['windspeed']\n",
    "        df['relative_dryness'] = 100 - df['humidity']\n",
    "        df['sunshine_percentage'] = df['sunshine'] / (df['sunshine'] + df['cloud'] + 1e-5)\n",
    "        df['cloud_percentage'] = df['cloud'] / (df['sunshine'] + df['cloud'] + 1e-5)\n",
    "        df['weather_index'] = (0.4 * df['humidity']) + (0.3 * df['cloud']) - (0.3 * df['sunshine'])\n",
    "        if 'maxtemp' in df.columns:\n",
    "            df['Temp_Ratio'] = df['temparature'] / df['maxtemp'].max()\n",
    "        df['Try'] = df['humidity'] + df['cloud'] + df['dewpoint']\n",
    "        df['Try_2'] = (df['cloud'] - df['sunshine']) + df['temparature']\n",
    "        \n",
    "        # Wet-bulb temperature and vapor pressure deficit.\n",
    "        if all(col in df.columns for col in ['temparature', 'humidity', 'dewpoint']):\n",
    "            def calc_wet_bulb(T, RH):\n",
    "                return T * np.arctan(0.151977 * np.sqrt(RH + 8.313659)) + \\\n",
    "                       np.arctan(T + RH) - np.arctan(RH - 1.676331) + \\\n",
    "                       0.00391838 * (RH ** (3/2)) * np.arctan(0.023101 * RH) - 4.686035\n",
    "            df['wet_bulb_temp'] = calc_wet_bulb(df['temparature'], df['humidity'])\n",
    "            df['e_s_temp'] = 6.11 * np.exp((17.27 * df['temparature']) / (df['temparature'] + 237.3))\n",
    "            df['e_s_dewpoint'] = 6.11 * np.exp((17.27 * df['dewpoint']) / (df['dewpoint'] + 237.3))\n",
    "            df['vapor_pressure_deficit'] = df['e_s_temp'] - df['e_s_dewpoint']\n",
    "        \n",
    "        # --- Lag features for target (only for training) ---\n",
    "        if self.is_train:\n",
    "            if self.target_col in df.columns:\n",
    "                df[self.target_col] = df[self.target_col].astype(float)\n",
    "            else:\n",
    "                logger.warning(f\"Target column '{self.target_col}' not found!\")\n",
    "            df = df.sort_values('date').reset_index(drop=True)\n",
    "            df['rain_prev'] = df[self.target_col].shift(1).fillna(0)\n",
    "            df['rain_next'] = df[self.target_col].shift(-1).fillna(0)\n",
    "            df['gap_before'] = df.groupby((df['rain_prev'] != df[self.target_col]).cumsum()).cumcount()\n",
    "            df['gap_after'] = df[::-1].groupby((df['rain_next'] != df[self.target_col]).cumsum()).cumcount()\n",
    "            df.drop(['rain_prev', 'rain_next'], axis=1, inplace=True)\n",
    "        else:\n",
    "            df['gap_before'] = 0\n",
    "            df['gap_after'] = 0\n",
    "\n",
    "        # Drop temporary date column.\n",
    "        df.drop(['date'], axis=1, inplace=True, errors='ignore')\n",
    "        \n",
    "        # --- Polynomial Features ---\n",
    "        if self.poly_cols is not None:\n",
    "            df_imputed = df[self.poly_cols].fillna(df[self.poly_cols].median())\n",
    "            poly = PolynomialFeatures(degree=2, interaction_only=False, include_bias=False)\n",
    "            poly_features = poly.fit_transform(df_imputed)\n",
    "            poly_feature_names = poly.get_feature_names_out(self.poly_cols)\n",
    "            poly_df = pd.DataFrame(poly_features, columns=poly_feature_names, index=df.index)\n",
    "            df = pd.concat([df, poly_df], axis=1)\n",
    "        \n",
    "        # Remove duplicate columns (if any) to ensure unique feature names.\n",
    "        df = df.loc[:, ~df.columns.duplicated()]\n",
    "        \n",
    "        # --- Rolling Window Features ---\n",
    "        df_roll = pd.DataFrame(index=df.index)\n",
    "        num_cols = df.select_dtypes(include=[np.number]).columns\n",
    "        for col in num_cols:\n",
    "            series_col = df[col]\n",
    "            for window in self.roll_windows:\n",
    "                roll_mean = series_col.rolling(window=window, min_periods=1).mean().values.reshape(-1)\n",
    "                roll_std = series_col.rolling(window=window, min_periods=1).std().fillna(0).values.reshape(-1)\n",
    "                df_roll[f'{col}_roll_mean_{window}'] = roll_mean\n",
    "                df_roll[f'{col}_roll_std_{window}'] = roll_std\n",
    "        df = pd.concat([df, df_roll], axis=1)\n",
    "        return df\n",
    "\n",
    "class OutlierTreatmentTransformer(BaseEstimator, TransformerMixin):\n",
    "    \"\"\"\n",
    "    Clips numeric features using IQR-based thresholds.\n",
    "    \"\"\"\n",
    "    def __init__(self, multiplier=1.5):\n",
    "        self.multiplier = multiplier\n",
    "\n",
    "    def fit(self, X, y=None):\n",
    "        self.stats_ = {}\n",
    "        for col in X.select_dtypes(include=[np.number]).columns:\n",
    "            series = X[col]\n",
    "            Q1 = np.nanquantile(series, 0.25)\n",
    "            Q3 = np.nanquantile(series, 0.75)\n",
    "            IQR = Q3 - Q1\n",
    "            self.stats_[col] = (Q1 - self.multiplier * IQR, Q3 + self.multiplier * IQR)\n",
    "        return self\n",
    "\n",
    "    def transform(self, X):\n",
    "        X_out = X.copy()\n",
    "        for col, (lower, upper) in self.stats_.items():\n",
    "            X_out[col] = np.clip(X_out[col], lower, upper)\n",
    "        return X_out"
   ]
  },
  {
   "cell_type": "markdown",
   "id": "784b32a3",
   "metadata": {
    "papermill": {
     "duration": 0.004056,
     "end_time": "2025-03-27T13:52:47.428008",
     "exception": false,
     "start_time": "2025-03-27T13:52:47.423952",
     "status": "completed"
    },
    "tags": []
   },
   "source": [
    "### Load and Optimize Data\n",
    "Load the training and test datasets, apply memory optimization, and split into features and target."
   ]
  },
  {
   "cell_type": "code",
   "execution_count": 4,
   "id": "ddfbd4d7",
   "metadata": {
    "execution": {
     "iopub.execute_input": "2025-03-27T13:52:47.436440Z",
     "iopub.status.busy": "2025-03-27T13:52:47.436206Z",
     "iopub.status.idle": "2025-03-27T13:52:47.477715Z",
     "shell.execute_reply": "2025-03-27T13:52:47.476871Z"
    },
    "papermill": {
     "duration": 0.047105,
     "end_time": "2025-03-27T13:52:47.478962",
     "exception": false,
     "start_time": "2025-03-27T13:52:47.431857",
     "status": "completed"
    },
    "tags": []
   },
   "outputs": [
    {
     "name": "stdout",
     "output_type": "stream",
     "text": [
      "Train shape: (2190, 11), Test shape: (730, 11)\n"
     ]
    }
   ],
   "source": [
    "# Load and Optimize Data\n",
    "def reduce_memory_usage(df):\n",
    "    \"\"\"Downcasts numeric columns to reduce memory usage.\"\"\"\n",
    "    for col in df.select_dtypes(include=['int64', 'float64']).columns:\n",
    "        df[col] = pd.to_numeric(df[col], downcast='float')\n",
    "    return df\n",
    "\n",
    "# Update file paths as needed.\n",
    "train = pd.read_csv('/kaggle/input/playground-series-s5e3/train.csv')\n",
    "test = pd.read_csv('/kaggle/input/playground-series-s5e3/test.csv')\n",
    "\n",
    "train = reduce_memory_usage(train)\n",
    "test = reduce_memory_usage(test)\n",
    "\n",
    "# Split training data into features and target.\n",
    "X = train.drop(['id', 'rainfall'], axis=1)\n",
    "y = train['rainfall']\n",
    "\n",
    "# Save test IDs and features.\n",
    "test_ids = test['id']\n",
    "X_test = test.drop(['id'], axis=1)\n",
    "\n",
    "logger.info(f\"Train shape: {X.shape}, Test shape: {X_test.shape}\")\n",
    "print(f\"Train shape: {X.shape}, Test shape: {X_test.shape}\")"
   ]
  },
  {
   "cell_type": "markdown",
   "id": "cb007cd1",
   "metadata": {
    "papermill": {
     "duration": 0.003942,
     "end_time": "2025-03-27T13:52:47.486903",
     "exception": false,
     "start_time": "2025-03-27T13:52:47.482961",
     "status": "completed"
    },
    "tags": []
   },
   "source": [
    "### Extended Feature Engineering and Alignment\n",
    "Apply the unified feature engineering transformer to both training and test data, then align columns."
   ]
  },
  {
   "cell_type": "code",
   "execution_count": 5,
   "id": "7d2a9e36",
   "metadata": {
    "execution": {
     "iopub.execute_input": "2025-03-27T13:52:47.495759Z",
     "iopub.status.busy": "2025-03-27T13:52:47.495530Z",
     "iopub.status.idle": "2025-03-27T13:52:48.140044Z",
     "shell.execute_reply": "2025-03-27T13:52:48.139102Z"
    },
    "papermill": {
     "duration": 0.65096,
     "end_time": "2025-03-27T13:52:48.141713",
     "exception": false,
     "start_time": "2025-03-27T13:52:47.490753",
     "status": "completed"
    },
    "tags": []
   },
   "outputs": [
    {
     "name": "stdout",
     "output_type": "stream",
     "text": [
      "Extended Train Shape: (2190, 554) \n",
      " Extended Test Shape: (730, 554)\n"
     ]
    }
   ],
   "source": [
    "# Extended Feature Engineering and Alignment\n",
    "# Define candidate columns for polynomial features.\n",
    "candidate_poly_cols = ['maxtemp', 'mintemp', 'temparature', 'dewpoint', 'humidity', 'cloud', 'sunshine', 'pressure', 'winddirection', 'windspeed']\n",
    "\n",
    "# For training: combine X and y to compute lag features.\n",
    "engineer_train = UnifiedFeatureEngineer(is_train=True, target_col='rainfall', poly_cols=candidate_poly_cols, roll_windows=[7,14])\n",
    "train_ext = engineer_train.fit_transform(pd.concat([X, y], axis=1))\n",
    "y_ext = train_ext.pop('rainfall')  # Extract target.\n",
    "\n",
    "# For test data: compute features without lag.\n",
    "engineer_test = UnifiedFeatureEngineer(is_train=False, poly_cols=candidate_poly_cols, roll_windows=[7,14])\n",
    "test_ext = engineer_test.fit_transform(X_test)\n",
    "\n",
    "# Align columns (fill missing with 0).\n",
    "all_cols = train_ext.columns.union(test_ext.columns)\n",
    "X_ext_full = train_ext.reindex(columns=all_cols, fill_value=0)\n",
    "X_test_ext_full = test_ext.reindex(columns=all_cols, fill_value=0)\n",
    "\n",
    "logger.info(f\"Extended Train Shape: {X_ext_full.shape}\")\n",
    "logger.info(f\"Extended Test Shape: {X_test_ext_full.shape}\")\n",
    "print(f\"Extended Train Shape: {X_ext_full.shape} \\n Extended Test Shape: {X_test_ext_full.shape}\")"
   ]
  },
  {
   "cell_type": "markdown",
   "id": "34457fb8",
   "metadata": {
    "papermill": {
     "duration": 0.004088,
     "end_time": "2025-03-27T13:52:48.154126",
     "exception": false,
     "start_time": "2025-03-27T13:52:48.150038",
     "status": "completed"
    },
    "tags": []
   },
   "source": [
    "### Outlier Treatment\n",
    "Apply the outlier treatment transformer to the extended features."
   ]
  },
  {
   "cell_type": "code",
   "execution_count": 6,
   "id": "7308328d",
   "metadata": {
    "execution": {
     "iopub.execute_input": "2025-03-27T13:52:48.162927Z",
     "iopub.status.busy": "2025-03-27T13:52:48.162698Z",
     "iopub.status.idle": "2025-03-27T13:52:49.457008Z",
     "shell.execute_reply": "2025-03-27T13:52:49.456186Z"
    },
    "papermill": {
     "duration": 1.30039,
     "end_time": "2025-03-27T13:52:49.458594",
     "exception": false,
     "start_time": "2025-03-27T13:52:48.158204",
     "status": "completed"
    },
    "tags": []
   },
   "outputs": [],
   "source": [
    "# Outlier Treatment\n",
    "outlier_transformer = OutlierTreatmentTransformer(multiplier=1.5)\n",
    "X_ext_iqr = outlier_transformer.fit_transform(X_ext_full)\n",
    "X_test_ext_iqr = outlier_transformer.transform(X_test_ext_full)"
   ]
  },
  {
   "cell_type": "markdown",
   "id": "08ceac19",
   "metadata": {
    "papermill": {
     "duration": 0.00397,
     "end_time": "2025-03-27T13:52:49.467288",
     "exception": false,
     "start_time": "2025-03-27T13:52:49.463318",
     "status": "completed"
    },
    "tags": []
   },
   "source": [
    "### Pipeline Function for Model Training and Submission with Feature Selection\n",
    "This function builds a pipeline that includes imputation, scaling, feature selection (SelectFromModel), and the classifier. It then performs hyperparameter tuning and saves a submission CSV."
   ]
  },
  {
   "cell_type": "code",
   "execution_count": 7,
   "id": "c24e2155",
   "metadata": {
    "execution": {
     "iopub.execute_input": "2025-03-27T13:52:49.476034Z",
     "iopub.status.busy": "2025-03-27T13:52:49.475810Z",
     "iopub.status.idle": "2025-03-27T13:52:49.482106Z",
     "shell.execute_reply": "2025-03-27T13:52:49.481512Z"
    },
    "papermill": {
     "duration": 0.012084,
     "end_time": "2025-03-27T13:52:49.483272",
     "exception": false,
     "start_time": "2025-03-27T13:52:49.471188",
     "status": "completed"
    },
    "tags": []
   },
   "outputs": [],
   "source": [
    "# Pipeline Function\n",
    "def train_and_submit(X_train, y_train, X_pred, model, param_dist, model_name):\n",
    "    pipeline = Pipeline([\n",
    "        ('imputer', SimpleImputer(strategy='median')),\n",
    "        ('scaler', StandardScaler()),\n",
    "        ('selector', SelectFromModel(ExtraTreesClassifier(n_estimators=100, random_state=42), threshold='median')),\n",
    "        ('clf', model)\n",
    "    ])\n",
    "    \n",
    "    cv = StratifiedKFold(n_splits=5, shuffle=True, random_state=42)\n",
    "    search = RandomizedSearchCV(pipeline, param_dist, n_iter=50, scoring='roc_auc', cv=cv, random_state=42, n_jobs=-1)\n",
    "    search.fit(X_train, y_train)\n",
    "    \n",
    "    best_score = search.best_score_\n",
    "    logger.info(f\"Best CV ROC AUC for {model_name}: {best_score:.4f}\")\n",
    "    logger.info(f\"Best Params for {model_name}: {search.best_params_}\")\n",
    "    \n",
    "    # Log the features selected by the selector.\n",
    "    selector = search.best_estimator_.named_steps['selector']\n",
    "    selected_mask = selector.get_support()\n",
    "    selected_features = X_train.columns[selected_mask]\n",
    "    logger.info(f\"Selected features for {model_name} ({len(selected_features)} features): {selected_features.tolist()}\")\n",
    "    \n",
    "    # Align test set columns.\n",
    "    X_pred_aligned = X_pred.reindex(columns=X_train.columns, fill_value=0)\n",
    "    \n",
    "    try:\n",
    "        preds = search.predict_proba(X_pred_aligned.values)[:, 1]\n",
    "    except Exception as e:\n",
    "        logger.error(f\"Error in predict_proba for {model_name}: {e}\")\n",
    "        preds = np.full(len(X_pred_aligned), 0.5)\n",
    "    \n",
    "    submission = pd.DataFrame({'id': test_ids, 'rainfall': preds})\n",
    "    submission_filename = f\"{model_name}_submission.csv\"\n",
    "    submission.to_csv(submission_filename, index=False)\n",
    "    logger.info(f\"Submission for {model_name} saved as: {submission_filename}\")\n",
    "    return best_score"
   ]
  },
  {
   "cell_type": "markdown",
   "id": "9154cde2",
   "metadata": {
    "papermill": {
     "duration": 0.003714,
     "end_time": "2025-03-27T13:52:49.491070",
     "exception": false,
     "start_time": "2025-03-27T13:52:49.487356",
     "status": "completed"
    },
    "tags": []
   },
   "source": [
    "## Train Multiple Models (Excluding DNN)\n",
    "\n",
    "We define parameter grids for each model and then loop over each model to perform hyperparameter tuning and save a submission file."
   ]
  },
  {
   "cell_type": "code",
   "execution_count": 8,
   "id": "8307fd73",
   "metadata": {
    "execution": {
     "iopub.execute_input": "2025-03-27T13:52:49.499785Z",
     "iopub.status.busy": "2025-03-27T13:52:49.499574Z",
     "iopub.status.idle": "2025-03-27T13:59:48.278823Z",
     "shell.execute_reply": "2025-03-27T13:59:48.278026Z"
    },
    "papermill": {
     "duration": 418.785532,
     "end_time": "2025-03-27T13:59:48.280645",
     "exception": false,
     "start_time": "2025-03-27T13:52:49.495113",
     "status": "completed"
    },
    "tags": []
   },
   "outputs": [
    {
     "name": "stdout",
     "output_type": "stream",
     "text": [
      "[LightGBM] [Info] Number of positive: 1650, number of negative: 540\n",
      "[LightGBM] [Info] Auto-choosing col-wise multi-threading, the overhead of testing was 0.003789 seconds.\n",
      "You can set `force_col_wise=true` to remove the overhead.\n",
      "[LightGBM] [Info] Total Bins 62641\n",
      "[LightGBM] [Info] Number of data points in the train set: 2190, number of used features: 277\n",
      "[LightGBM] [Info] [binary:BoostFromScore]: pavg=0.753425 -> initscore=1.116961\n",
      "[LightGBM] [Info] Start training from score 1.116961\n"
     ]
    }
   ],
   "source": [
    "# Train Classical Models\n",
    "param_grids = {\n",
    "    'LogisticRegression': {\n",
    "        'clf__C': np.logspace(-3, 2, 10),\n",
    "        'clf__solver': ['lbfgs', 'liblinear']\n",
    "    },\n",
    "    'DecisionTree': {\n",
    "        'clf__max_depth': [3, 5, 7, None],\n",
    "        'clf__min_samples_split': [2, 5, 10]\n",
    "    },\n",
    "    'ExtraTrees': {\n",
    "        'clf__n_estimators': [50, 100, 150],\n",
    "        'clf__max_depth': [5, 7, None]\n",
    "    },\n",
    "    'RandomForest': {\n",
    "        'clf__n_estimators': [50, 100, 150],\n",
    "        'clf__max_depth': [5, 7, None]\n",
    "    },\n",
    "    'XGBoost': {\n",
    "        'clf__n_estimators': [50, 100, 150],\n",
    "        'clf__max_depth': [3, 5, 7]\n",
    "    },\n",
    "    'CatBoost': {\n",
    "        'clf__iterations': [100, 200],\n",
    "        'clf__depth': [4, 6]\n",
    "    },\n",
    "    'LGBM': {\n",
    "        'clf__num_leaves': [31, 50],\n",
    "        'clf__n_estimators': [50, 100, 150]\n",
    "    },\n",
    "    'KNN': {\n",
    "        'clf__n_neighbors': [3, 5, 7],\n",
    "        'clf__weights': ['uniform', 'distance']\n",
    "    },\n",
    "    'SVC': {\n",
    "        'clf__C': [0.1, 1, 10],\n",
    "        'clf__kernel': ['linear', 'rbf']\n",
    "    }\n",
    "}\n",
    "\n",
    "models = {\n",
    "    'LogisticRegression': LogisticRegression(max_iter=1000, random_state=42),\n",
    "    'DecisionTree': DecisionTreeClassifier(random_state=42),\n",
    "    'ExtraTrees': ExtraTreesClassifier(random_state=42, n_jobs=-1),\n",
    "    'RandomForest': RandomForestClassifier(random_state=42, n_jobs=-1),\n",
    "    'XGBoost': XGBClassifier(eval_metric='logloss', use_label_encoder=False, random_state=42),\n",
    "    'CatBoost': CatBoostClassifier(verbose=0, random_state=42),\n",
    "    'LGBM': LGBMClassifier(random_state=42),\n",
    "    'KNN': KNeighborsClassifier(),\n",
    "    'SVC': SVC(probability=True, random_state=42)\n",
    "}\n",
    "\n",
    "model_results = {}\n",
    "for model_name, model in models.items():\n",
    "    logger.info(f\"\\nTraining {model_name} on Extended IQR-treated & Standard Scaled features:\")\n",
    "    auc = train_and_submit(X_ext_iqr, y_ext, X_test_ext_iqr, model, param_grids[model_name], model_name)\n",
    "    model_results[model_name] = auc"
   ]
  },
  {
   "cell_type": "markdown",
   "id": "63def7d7",
   "metadata": {
    "papermill": {
     "duration": 0.003974,
     "end_time": "2025-03-27T13:59:48.289403",
     "exception": false,
     "start_time": "2025-03-27T13:59:48.285429",
     "status": "completed"
    },
    "tags": []
   },
   "source": [
    "### Neural Network Model with Extensive Hyperparameter Tuning\n",
    "Here we build a neural network using TensorFlow Keras. We wrap the model using TensorFlow’s KerasClassifier wrapper and perform a broad hyperparameter search."
   ]
  },
  {
   "cell_type": "code",
   "execution_count": 9,
   "id": "0d0f8a0d",
   "metadata": {
    "execution": {
     "iopub.execute_input": "2025-03-27T13:59:48.298857Z",
     "iopub.status.busy": "2025-03-27T13:59:48.298582Z",
     "iopub.status.idle": "2025-03-27T13:59:48.302516Z",
     "shell.execute_reply": "2025-03-27T13:59:48.301717Z"
    },
    "papermill": {
     "duration": 0.010378,
     "end_time": "2025-03-27T13:59:48.303917",
     "exception": false,
     "start_time": "2025-03-27T13:59:48.293539",
     "status": "completed"
    },
    "tags": []
   },
   "outputs": [],
   "source": [
    "# # Neural Network Model\n",
    "# # Build the NN model-building function.\n",
    "# def build_nn_model(units_1=128, units_2=64, dropout_rate=0.3, learning_rate=0.001, optimizer_choice='adam'):\n",
    "#     model = Sequential()\n",
    "#     model.add(Dense(units_1, activation='relu', input_shape=(X_ext_iqr.shape[1],), kernel_regularizer=l2(1e-4)))\n",
    "#     model.add(BatchNormalization())\n",
    "#     model.add(Dropout(dropout_rate))\n",
    "#     model.add(Dense(units_2, activation='relu', kernel_regularizer=l2(1e-4)))\n",
    "#     model.add(BatchNormalization())\n",
    "#     model.add(Dropout(dropout_rate))\n",
    "#     model.add(Dense(1, activation='sigmoid'))\n",
    "    \n",
    "#     if optimizer_choice == 'adam':\n",
    "#         opt = Adam(learning_rate=learning_rate)\n",
    "#     elif optimizer_choice == 'rmsprop':\n",
    "#         opt = RMSprop(learning_rate=learning_rate)\n",
    "#     else:\n",
    "#         opt = Adam(learning_rate=learning_rate)\n",
    "    \n",
    "#     model.compile(optimizer=opt, loss='binary_crossentropy', metrics=[tf.keras.metrics.AUC(name='auc')])\n",
    "#     return model\n",
    "\n",
    "# # Use the official TensorFlow KerasClassifier wrapper.\n",
    "# nn_wrapper = KerasClassifier(build_fn=build_nn_model, epochs=20, batch_size=32, verbose=0)\n",
    "\n",
    "# # Expanded hyperparameter grid for the NN.\n",
    "# nn_param_grid = {\n",
    "#     'clf__model__units_1': [64, 128, 256],\n",
    "#     'clf__model__units_2': [32, 64, 128],\n",
    "#     'clf__model__dropout_rate': [0.2, 0.3, 0.4],\n",
    "#     'clf__model__learning_rate': [1e-3, 1e-4, 5e-4],\n",
    "#     'clf__model__optimizer_choice': ['adam', 'rmsprop'],\n",
    "#     'clf__epochs': [20, 30, 50],\n",
    "#     'clf__batch_size': [16, 32, 64]\n",
    "# }\n",
    "\n",
    "# nn_pipeline = Pipeline([\n",
    "#     ('imputer', SimpleImputer(strategy='median')),\n",
    "#     ('scaler', StandardScaler()),\n",
    "#     ('clf', nn_wrapper)\n",
    "# ])\n",
    "\n",
    "# cv = StratifiedKFold(n_splits=5, shuffle=True, random_state=42)\n",
    "# nn_search = RandomizedSearchCV(nn_pipeline, nn_param_grid, n_iter=50, scoring='roc_auc', cv=cv, random_state=42, n_jobs=-1)\n",
    "# nn_search.fit(X_ext_iqr, y_ext)\n",
    "\n",
    "# best_nn_score = nn_search.best_score_\n",
    "# logger.info(f\"Best NN CV ROC AUC: {best_nn_score:.4f}\")\n",
    "# logger.info(f\"Best NN Params: {nn_search.best_params_}\")\n",
    "\n",
    "# # Align test set.\n",
    "# X_test_nn = X_test_ext_iqr.reindex(columns=X_ext_iqr.columns, fill_value=0)\n",
    "# try:\n",
    "#     nn_preds = nn_search.predict_proba(X_test_nn.values)[:, 1]\n",
    "# except Exception as e:\n",
    "#     logger.error(f\"NN predict_proba error: {e}\")\n",
    "#     nn_preds = np.full(len(X_test_nn), 0.5)\n",
    "    \n",
    "# nn_submission = pd.DataFrame({'id': test_ids, 'rainfall': nn_preds})\n",
    "# nn_submission_filename = \"NN_submission.csv\"\n",
    "# nn_submission.to_csv(nn_submission_filename, index=False)\n",
    "# logger.info(f\"NN submission saved as: {nn_submission_filename}\")\n",
    "# model_results['NN'] = best_nn_score"
   ]
  },
  {
   "cell_type": "markdown",
   "id": "775f575f",
   "metadata": {
    "papermill": {
     "duration": 0.004791,
     "end_time": "2025-03-27T13:59:48.312762",
     "exception": false,
     "start_time": "2025-03-27T13:59:48.307971",
     "status": "completed"
    },
    "tags": []
   },
   "source": [
    "### Graphical Comparison of Model Performances\n",
    "We plot a bar chart comparing the ROC AUC scores of all models."
   ]
  },
  {
   "cell_type": "code",
   "execution_count": 10,
   "id": "a90c5d22",
   "metadata": {
    "execution": {
     "iopub.execute_input": "2025-03-27T13:59:48.321322Z",
     "iopub.status.busy": "2025-03-27T13:59:48.321121Z",
     "iopub.status.idle": "2025-03-27T13:59:48.566638Z",
     "shell.execute_reply": "2025-03-27T13:59:48.565782Z"
    },
    "papermill": {
     "duration": 0.251185,
     "end_time": "2025-03-27T13:59:48.567934",
     "exception": false,
     "start_time": "2025-03-27T13:59:48.316749",
     "status": "completed"
    },
    "tags": []
   },
   "outputs": [
    {
     "data": {
      "image/png": "[encoded data removed]",
      "text/plain": [
       "<Figure size 1000x600 with 1 Axes>"
      ]
     },
     "metadata": {},
     "output_type": "display_data"
    }
   ],
   "source": [
    "# Performance Comparison\n",
    "results_df = pd.DataFrame(list(model_results.items()), columns=['Model', 'AUC']).sort_values(by='AUC', ascending=False)\n",
    "plt.figure(figsize=(10, 6))\n",
    "sns.barplot(x='AUC', y='Model', data=results_df, palette='viridis')\n",
    "plt.title('Model Comparison (Extended Features, IQR-treated & Standard Scaled)')\n",
    "plt.xlabel('ROC AUC')\n",
    "plt.xlim(0.75, 1.0)\n",
    "plt.show()"
   ]
  },
  {
   "cell_type": "markdown",
   "id": "48e24a0d",
   "metadata": {
    "papermill": {
     "duration": 0.004466,
     "end_time": "2025-03-27T13:59:48.577251",
     "exception": false,
     "start_time": "2025-03-27T13:59:48.572785",
     "status": "completed"
    },
    "tags": []
   },
   "source": [
    "### Final Submission Selection\n",
    "We map each model to its submission file name, identify the best model by ROC AUC, and copy its submission as `submission.csv`. All individual submission files are also listed."
   ]
  },
  {
   "cell_type": "code",
   "execution_count": 11,
   "id": "a9599303",
   "metadata": {
    "execution": {
     "iopub.execute_input": "2025-03-27T13:59:48.587310Z",
     "iopub.status.busy": "2025-03-27T13:59:48.587080Z",
     "iopub.status.idle": "2025-03-27T13:59:48.592232Z",
     "shell.execute_reply": "2025-03-27T13:59:48.591672Z"
    },
    "papermill": {
     "duration": 0.011591,
     "end_time": "2025-03-27T13:59:48.593464",
     "exception": false,
     "start_time": "2025-03-27T13:59:48.581873",
     "status": "completed"
    },
    "tags": []
   },
   "outputs": [],
   "source": [
    "# Final Submission Selection\n",
    "import shutil\n",
    "\n",
    "submission_files = {\n",
    "    'LogisticRegression': \"LogisticRegression_submission.csv\",\n",
    "    'DecisionTree': \"DecisionTree_submission.csv\",\n",
    "    'ExtraTrees': \"ExtraTrees_submission.csv\",\n",
    "    'RandomForest': \"RandomForest_submission.csv\",\n",
    "    'XGBoost': \"XGBoost_submission.csv\",\n",
    "    'CatBoost': \"CatBoost_submission.csv\",\n",
    "    'LGBM': \"LGBM_submission.csv\",\n",
    "    'KNN': \"KNN_submission.csv\",\n",
    "    'SVC': \"SVC_submission.csv\",\n",
    "    'NN': \"NN_submission.csv\"\n",
    "}\n",
    "\n",
    "best_model_name = max(model_results, key=model_results.get)\n",
    "best_submission_file = submission_files.get(best_model_name)\n",
    "if best_submission_file is None or not os.path.exists(best_submission_file):\n",
    "    raise ValueError(\"Best model submission file not found.\")\n",
    "else:\n",
    "    shutil.copy(best_submission_file, \"submission.csv\")\n",
    "    logger.info(f\"Best scoring model: {best_model_name}\")\n",
    "    logger.info(f\"Copied {best_submission_file} as 'submission.csv'\")\n",
    "\n",
    "logger.info(\"\\nAll individual model submissions:\")\n",
    "for model, filename in submission_files.items():\n",
    "    logger.info(f\"- {filename}\")"
   ]
  },
  {
   "cell_type": "markdown",
   "id": "bb4d687a",
   "metadata": {
    "papermill": {
     "duration": 0.004575,
     "end_time": "2025-03-27T13:59:48.603265",
     "exception": false,
     "start_time": "2025-03-27T13:59:48.598690",
     "status": "completed"
    },
    "tags": []
   },
   "source": [
    "### Conclusion\n",
    "**Conclusion:**\n",
    "\n",
    "1. **Unified Feature Engineering:**  \n",
    "   We built a unified transformer that creates date‑based, periodic, interaction/ratio, lag (for training), polynomial, and rolling‑window features—all in one pass.  \n",
    "2. **Outlier Treatment:**  \n",
    "   A custom transformer applies IQR‑based clipping with a tunable multiplier.  \n",
    "3. **Enhanced Pipeline:**  \n",
    "   Our pipeline includes imputation, scaling, feature selection, and model training with broad hyperparameter tuning via RandomizedSearchCV (and Keras Tuner for the NN).  \n",
    "4. **Hyperparameter Tuning and Model Selection:**  \n",
    "   Multiple classical models and a neural network are tuned with cross‑validation. The selected features from the feature selection step are logged for each model.  \n",
    "5. **Reproducibility and Ensembling:**  \n",
    "   Consistent random seeds and logging allow for reproducible results. Final submissions are saved individually, and the best model’s submission is copied as submission.csv.\n",
    "\n",
    "Happy modeling and best of luck in the competition!"
   ]
  },
  {
   "cell_type": "code",
   "execution_count": 12,
   "id": "03644dbb",
   "metadata": {
    "execution": {
     "iopub.execute_input": "2025-03-27T13:59:48.613460Z",
     "iopub.status.busy": "2025-03-27T13:59:48.613237Z",
     "iopub.status.idle": "2025-03-27T13:59:48.627560Z",
     "shell.execute_reply": "2025-03-27T13:59:48.626805Z"
    },
    "papermill": {
     "duration": 0.020881,
     "end_time": "2025-03-27T13:59:48.628852",
     "exception": false,
     "start_time": "2025-03-27T13:59:48.607971",
     "status": "completed"
    },
    "tags": []
   },
   "outputs": [
    {
     "data": {
      "text/html": [
       "<div>\n",
       "<style scoped>\n",
       "    .dataframe tbody tr th:only-of-type {\n",
       "        vertical-align: middle;\n",
       "    }\n",
       "\n",
       "    .dataframe tbody tr th {\n",
       "        vertical-align: top;\n",
       "    }\n",
       "\n",
       "    .dataframe thead th {\n",
       "        text-align: right;\n",
       "    }\n",
       "</style>\n",
       "<table border=\"1\" class=\"dataframe\">\n",
       "  <thead>\n",
       "    <tr style=\"text-align: right;\">\n",
       "      <th></th>\n",
       "      <th>Model</th>\n",
       "      <th>AUC</th>\n",
       "    </tr>\n",
       "  </thead>\n",
       "  <tbody>\n",
       "    <tr>\n",
       "      <th>5</th>\n",
       "      <td>CatBoost</td>\n",
       "      <td>0.956740</td>\n",
       "    </tr>\n",
       "    <tr>\n",
       "      <th>6</th>\n",
       "      <td>LGBM</td>\n",
       "      <td>0.956066</td>\n",
       "    </tr>\n",
       "    <tr>\n",
       "      <th>4</th>\n",
       "      <td>XGBoost</td>\n",
       "      <td>0.955836</td>\n",
       "    </tr>\n",
       "    <tr>\n",
       "      <th>0</th>\n",
       "      <td>LogisticRegression</td>\n",
       "      <td>0.947761</td>\n",
       "    </tr>\n",
       "    <tr>\n",
       "      <th>8</th>\n",
       "      <td>SVC</td>\n",
       "      <td>0.944400</td>\n",
       "    </tr>\n",
       "    <tr>\n",
       "      <th>3</th>\n",
       "      <td>RandomForest</td>\n",
       "      <td>0.926801</td>\n",
       "    </tr>\n",
       "    <tr>\n",
       "      <th>2</th>\n",
       "      <td>ExtraTrees</td>\n",
       "      <td>0.922789</td>\n",
       "    </tr>\n",
       "    <tr>\n",
       "      <th>1</th>\n",
       "      <td>DecisionTree</td>\n",
       "      <td>0.917076</td>\n",
       "    </tr>\n",
       "    <tr>\n",
       "      <th>7</th>\n",
       "      <td>KNN</td>\n",
       "      <td>0.858575</td>\n",
       "    </tr>\n",
       "  </tbody>\n",
       "</table>\n",
       "</div>"
      ],
      "text/plain": [
       "                Model       AUC\n",
       "5            CatBoost  0.956740\n",
       "6                LGBM  0.956066\n",
       "4             XGBoost  0.955836\n",
       "0  LogisticRegression  0.947761\n",
       "8                 SVC  0.944400\n",
       "3        RandomForest  0.926801\n",
       "2          ExtraTrees  0.922789\n",
       "1        DecisionTree  0.917076\n",
       "7                 KNN  0.858575"
      ]
     },
     "execution_count": 12,
     "metadata": {},
     "output_type": "execute_result"
    }
   ],
   "source": [
    "results_df"
   ]
  },
  {
   "cell_type": "code",
   "execution_count": null,
   "id": "ffbc58cf",
   "metadata": {
    "papermill": {
     "duration": 0.004629,
     "end_time": "2025-03-27T13:59:48.638602",
     "exception": false,
     "start_time": "2025-03-27T13:59:48.633973",
     "status": "completed"
    },
    "tags": []
   },
   "outputs": [],
   "source": []
  }
 ],
 "metadata": {
  "kaggle": {
   "accelerator": "nvidiaTeslaT4",
   "dataSources": [
    {
     "databundleVersionId": 11251744,
     "sourceId": 91714,
     "sourceType": "competition"
    }
   ],
   "dockerImageVersionId": 30919,
   "isGpuEnabled": true,
   "isInternetEnabled": true,
   "language": "python",
   "sourceType": "notebook"
  },
  "kernelspec": {
   "display_name": "Python 3",
   "language": "python",
   "name": "python3"
  },
  "language_info": {
   "codemirror_mode": {
    "name": "ipython",
    "version": 3
   },
   "file_extension": ".py",
   "mimetype": "text/x-python",
   "name": "python",
   "nbconvert_exporter": "python",
   "pygments_lexer": "ipython3",
   "version": "3.10.12"
  },
  "papermill": {
   "default_parameters": {},
   "duration": 444.005456,
   "end_time": "2025-03-27T13:59:50.566466",
   "environment_variables": {},
   "exception": null,
   "input_path": "__notebook__.ipynb",
   "output_path": "__notebook__.ipynb",
   "parameters": {},
   "start_time": "2025-03-27T13:52:26.561010",
   "version": "2.6.0"
  }
 },
 "nbformat": 4,
 "nbformat_minor": 5
}
