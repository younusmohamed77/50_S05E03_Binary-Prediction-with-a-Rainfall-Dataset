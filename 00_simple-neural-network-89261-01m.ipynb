{
 "cells": [
  {
   "cell_type": "code",
   "execution_count": 1,
   "id": "f3b460a4",
   "metadata": {
    "_cell_guid": "b1076dfc-b9ad-4769-8c92-a6c4dae69d19",
    "_uuid": "8f2839f25d086af736a60e9eeb907d3b93b6e0e5",
    "execution": {
     "iopub.execute_input": "2025-03-25T09:52:01.434368Z",
     "iopub.status.busy": "2025-03-25T09:52:01.433888Z",
     "iopub.status.idle": "2025-03-25T09:52:06.937062Z",
     "shell.execute_reply": "2025-03-25T09:52:06.935895Z"
    },
    "papermill": {
     "duration": 5.510415,
     "end_time": "2025-03-25T09:52:06.938983",
     "exception": false,
     "start_time": "2025-03-25T09:52:01.428568",
     "status": "completed"
    },
    "tags": []
   },
   "outputs": [],
   "source": [
    "import numpy as np\n",
    "import pandas as pd\n",
    "\n",
    "from sklearn.model_selection import KFold, train_test_split\n",
    "from sklearn.metrics import accuracy_score, mean_squared_error\n",
    "\n",
    "from lightgbm import LGBMClassifier, early_stopping\n",
    "\n",
    "from scipy import stats\n",
    "\n",
    "import warnings\n",
    "warnings.filterwarnings('ignore')"
   ]
  },
  {
   "cell_type": "code",
   "execution_count": 2,
   "id": "4e7969cf",
   "metadata": {
    "execution": {
     "iopub.execute_input": "2025-03-25T09:52:06.948568Z",
     "iopub.status.busy": "2025-03-25T09:52:06.947895Z",
     "iopub.status.idle": "2025-03-25T09:52:06.993159Z",
     "shell.execute_reply": "2025-03-25T09:52:06.992039Z"
    },
    "papermill": {
     "duration": 0.052015,
     "end_time": "2025-03-25T09:52:06.995099",
     "exception": false,
     "start_time": "2025-03-25T09:52:06.943084",
     "status": "completed"
    },
    "tags": []
   },
   "outputs": [],
   "source": [
    "train_data = pd.read_csv('/kaggle/input/playground-series-s5e3/train.csv', index_col='id')\n",
    "test_data = pd.read_csv('/kaggle/input/playground-series-s5e3/test.csv', index_col='id')"
   ]
  },
  {
   "cell_type": "code",
   "execution_count": 3,
   "id": "356b5781",
   "metadata": {
    "execution": {
     "iopub.execute_input": "2025-03-25T09:52:07.003304Z",
     "iopub.status.busy": "2025-03-25T09:52:07.002925Z",
     "iopub.status.idle": "2025-03-25T09:52:07.691754Z",
     "shell.execute_reply": "2025-03-25T09:52:07.690632Z"
    },
    "papermill": {
     "duration": 0.694902,
     "end_time": "2025-03-25T09:52:07.693697",
     "exception": false,
     "start_time": "2025-03-25T09:52:06.998795",
     "status": "completed"
    },
    "tags": []
   },
   "outputs": [],
   "source": [
    "def feature_engeenering(df):\n",
    "    # Assuming df is your dataframe\n",
    "    # First, make sure your date column is properly converted to datetime\n",
    "    df['date'] = pd.to_datetime(df['day'])\n",
    "    \n",
    "    # Now create all features, but avoid mixing date objects directly with numerical values\n",
    "    # Seasonal features - extract numeric components from the date\n",
    "    df['month'] = df['date'].dt.month\n",
    "    df['day_of_year'] = df['date'].dt.dayofyear\n",
    "    \n",
    "    # Define seasons\n",
    "    df['season'] = pd.cut(df['date'].dt.month, \n",
    "                         bins=[0, 3, 6, 9, 12], \n",
    "                         labels=['Winter', 'Spring', 'Summer', 'Fall'], \n",
    "                         include_lowest=True)\n",
    "    \n",
    "    # Temperature features\n",
    "    df['temp_range'] = df['maxtemp'] - df['mintemp']\n",
    "    # Use numeric columns only for calculations\n",
    "    df['temp_gradient'] = df['temparature'].diff()\n",
    "    \n",
    "    # Humidity features\n",
    "    df['dewpoint_depression'] = df['temparature'] - df['dewpoint']\n",
    "    \n",
    "    # Pressure features\n",
    "    df['pressure_change'] = df['pressure'].diff()\n",
    "    df['pressure_change_3d'] = df['pressure'] - df['pressure'].shift(3)\n",
    "    \n",
    "    # Wind features\n",
    "    df['wind_rad'] = np.radians(df['winddirection'])\n",
    "    df['wind_u'] = -df['windspeed'] * np.sin(df['wind_rad'])\n",
    "    df['wind_v'] = -df['windspeed'] * np.cos(df['wind_rad'])\n",
    "    \n",
    "    # Cyclic features - based on the numeric day_of_year, not the date object\n",
    "    df['day_sin'] = np.sin(2 * np.pi * df['day_of_year']/365)\n",
    "    df['day_cos'] = np.cos(2 * np.pi * df['day_of_year']/365)\n",
    "    \n",
    "    # Interaction terms\n",
    "    df['humidity_temp'] = df['humidity'] * df['temparature']\n",
    "    df['cloud_temp'] = df['cloud'] * df['temparature']\n",
    "\n",
    "    # Temperature trends\n",
    "    df['temp_3d_slope'] = df['temparature'].rolling(3).apply(\n",
    "        lambda x: stats.linregress(range(len(x)), x)[0] if len(x) > 2 else np.nan\n",
    "    )\n",
    "    \n",
    "    # Pressure tendency classification\n",
    "    df['pressure_change'] = df['pressure'].diff()\n",
    "    df['pressure_tendency'] = pd.cut(\n",
    "        df['pressure_change'],\n",
    "        bins=[-np.inf, -1.0, -0.1, 0.1, 1.0, np.inf],\n",
    "        labels=['Falling rapidly', 'Falling', 'Steady', 'Rising', 'Rising rapidly']\n",
    "    )\n",
    "    \n",
    "    # More complex wind features\n",
    "    df['wind_persistence'] = df['winddirection'].rolling(3).std()\n",
    "    \n",
    "    # Estimate wet-bulb temperature (simplified)\n",
    "    df['wet_bulb_temp'] = df['temparature'] - ((100 - df['humidity']) / 5)\n",
    "    \n",
    "    # Moisture advection proxy\n",
    "    df['moisture_advection'] = df['windspeed'] * df['humidity'] / 100\n",
    "    \n",
    "    # Cloud-temperature relationship\n",
    "    df['cloud_temp_ratio'] = df['cloud'] / (df['temparature'] + 273.15)  # Using absolute temp\n",
    "    \n",
    "    # Advanced cyclical features for multiple periods\n",
    "    for period in [365, 30, 7]:  # Annual, monthly, weekly\n",
    "        df[f'cycle_sin_{period}d'] = np.sin(2 * np.pi * df['day_of_year'] / period)\n",
    "        df[f'cycle_cos_{period}d'] = np.cos(2 * np.pi * df['day_of_year'] / period)\n",
    "    \n",
    "    # Temperature and dewpoint spread (indicator of atmospheric moisture capacity)\n",
    "    df['temp_dewpoint_spread'] = df['temparature'] - df['dewpoint']\n",
    "    \n",
    "    # Estimate lifted condensation level (simplified, in meters)\n",
    "    df['lcl_height'] = 125 * (df['temparature'] - df['dewpoint'])\n",
    "    \n",
    "    # Stability index (simplified K-index)\n",
    "    df['k_index_proxy'] = df['temparature'] - df['temp_dewpoint_spread']\n",
    "    \n",
    "    # Interaction between wind and pressure\n",
    "    df['wind_pressure_interaction'] = df['windspeed'] * df['pressure_change'].abs()\n",
    "          \n",
    "    return df.drop('date', axis=1)\n",
    "\n",
    "train_data = feature_engeenering(train_data)\n",
    "test_data = feature_engeenering(test_data)"
   ]
  },
  {
   "cell_type": "code",
   "execution_count": 4,
   "id": "29188812",
   "metadata": {
    "execution": {
     "iopub.execute_input": "2025-03-25T09:52:07.701635Z",
     "iopub.status.busy": "2025-03-25T09:52:07.701247Z",
     "iopub.status.idle": "2025-03-25T09:52:07.709428Z",
     "shell.execute_reply": "2025-03-25T09:52:07.708530Z"
    },
    "papermill": {
     "duration": 0.013934,
     "end_time": "2025-03-25T09:52:07.711161",
     "exception": false,
     "start_time": "2025-03-25T09:52:07.697227",
     "status": "completed"
    },
    "tags": []
   },
   "outputs": [],
   "source": [
    "X = train_data.drop('rainfall', axis=1)\n",
    "y = train_data['rainfall']\n",
    "test = test_data.copy()"
   ]
  },
  {
   "cell_type": "code",
   "execution_count": 5,
   "id": "2605f48b",
   "metadata": {
    "execution": {
     "iopub.execute_input": "2025-03-25T09:52:07.718910Z",
     "iopub.status.busy": "2025-03-25T09:52:07.718575Z",
     "iopub.status.idle": "2025-03-25T09:52:07.759306Z",
     "shell.execute_reply": "2025-03-25T09:52:07.758026Z"
    },
    "papermill": {
     "duration": 0.046945,
     "end_time": "2025-03-25T09:52:07.761526",
     "exception": false,
     "start_time": "2025-03-25T09:52:07.714581",
     "status": "completed"
    },
    "tags": []
   },
   "outputs": [],
   "source": [
    "from sklearn.compose import ColumnTransformer\n",
    "from sklearn.preprocessing import OneHotEncoder\n",
    "\n",
    "preprocessor = ColumnTransformer(\n",
    "    transformers=[\n",
    "        ('cat', OneHotEncoder(drop='first', sparse_output=False), ['season', 'pressure_tendency'])\n",
    "    ],\n",
    "    remainder='passthrough'\n",
    ")\n",
    "\n",
    "X = preprocessor.fit_transform(X)\n",
    "test = preprocessor.fit_transform(test)"
   ]
  },
  {
   "cell_type": "code",
   "execution_count": 6,
   "id": "413cc58f",
   "metadata": {
    "execution": {
     "iopub.execute_input": "2025-03-25T09:52:07.769557Z",
     "iopub.status.busy": "2025-03-25T09:52:07.769177Z",
     "iopub.status.idle": "2025-03-25T09:52:07.775996Z",
     "shell.execute_reply": "2025-03-25T09:52:07.775089Z"
    },
    "papermill": {
     "duration": 0.012658,
     "end_time": "2025-03-25T09:52:07.777748",
     "exception": false,
     "start_time": "2025-03-25T09:52:07.765090",
     "status": "completed"
    },
    "tags": []
   },
   "outputs": [],
   "source": [
    "mean_val = np.nanmean(X)\n",
    "X = np.where(np.isnan(X), mean_val, X)\n",
    "\n",
    "mean_val = np.nanmean(test)\n",
    "test = np.where(np.isnan(test), mean_val, test)"
   ]
  },
  {
   "cell_type": "code",
   "execution_count": 7,
   "id": "8383d14b",
   "metadata": {
    "execution": {
     "iopub.execute_input": "2025-03-25T09:52:07.785583Z",
     "iopub.status.busy": "2025-03-25T09:52:07.785229Z",
     "iopub.status.idle": "2025-03-25T09:52:07.807740Z",
     "shell.execute_reply": "2025-03-25T09:52:07.806579Z"
    },
    "papermill": {
     "duration": 0.028621,
     "end_time": "2025-03-25T09:52:07.809811",
     "exception": false,
     "start_time": "2025-03-25T09:52:07.781190",
     "status": "completed"
    },
    "tags": []
   },
   "outputs": [],
   "source": [
    "from sklearn.preprocessing import StandardScaler\n",
    "\n",
    "scaler = StandardScaler()\n",
    "X = scaler.fit_transform(X)\n",
    "test = scaler.fit_transform(test)"
   ]
  },
  {
   "cell_type": "code",
   "execution_count": 8,
   "id": "80ab86d2",
   "metadata": {
    "execution": {
     "iopub.execute_input": "2025-03-25T09:52:07.819218Z",
     "iopub.status.busy": "2025-03-25T09:52:07.818859Z",
     "iopub.status.idle": "2025-03-25T09:52:22.570941Z",
     "shell.execute_reply": "2025-03-25T09:52:22.569850Z"
    },
    "papermill": {
     "duration": 14.75981,
     "end_time": "2025-03-25T09:52:22.572905",
     "exception": false,
     "start_time": "2025-03-25T09:52:07.813095",
     "status": "completed"
    },
    "tags": []
   },
   "outputs": [],
   "source": [
    "import tensorflow as tf\n",
    "from tensorflow.keras.models import Sequential\n",
    "from tensorflow.keras.layers import Dense\n",
    "\n",
    "model = Sequential([\n",
    "    Dense(8, activation='relu', input_dim=X.shape[1]),\n",
    "    Dense(8, activation='relu'),\n",
    "    Dense(4, activation='relu'),\n",
    "    Dense(1, activation='sigmoid')\n",
    "])"
   ]
  },
  {
   "cell_type": "code",
   "execution_count": 9,
   "id": "9886fcdb",
   "metadata": {
    "execution": {
     "iopub.execute_input": "2025-03-25T09:52:22.581383Z",
     "iopub.status.busy": "2025-03-25T09:52:22.580573Z",
     "iopub.status.idle": "2025-03-25T09:52:22.602321Z",
     "shell.execute_reply": "2025-03-25T09:52:22.601399Z"
    },
    "papermill": {
     "duration": 0.027854,
     "end_time": "2025-03-25T09:52:22.604256",
     "exception": false,
     "start_time": "2025-03-25T09:52:22.576402",
     "status": "completed"
    },
    "tags": []
   },
   "outputs": [],
   "source": [
    "model.compile(loss=tf.keras.losses.BinaryCrossentropy(from_logits=False, label_smoothing=0.01), \n",
    "             optimizer='Adam', \n",
    "             metrics=['accuracy', tf.keras.metrics.AUC(name='auc')])"
   ]
  },
  {
   "cell_type": "code",
   "execution_count": 10,
   "id": "a38a63eb",
   "metadata": {
    "execution": {
     "iopub.execute_input": "2025-03-25T09:52:22.612185Z",
     "iopub.status.busy": "2025-03-25T09:52:22.611785Z",
     "iopub.status.idle": "2025-03-25T09:52:27.191588Z",
     "shell.execute_reply": "2025-03-25T09:52:27.190535Z"
    },
    "papermill": {
     "duration": 4.585552,
     "end_time": "2025-03-25T09:52:27.193291",
     "exception": false,
     "start_time": "2025-03-25T09:52:22.607739",
     "status": "completed"
    },
    "tags": []
   },
   "outputs": [
    {
     "name": "stdout",
     "output_type": "stream",
     "text": [
      "Epoch 1/15\n",
      "\u001b[1m55/55\u001b[0m \u001b[32m━━━━━━━━━━━━━━━━━━━━\u001b[0m\u001b[37m\u001b[0m \u001b[1m2s\u001b[0m 8ms/step - accuracy: 0.3626 - auc: 0.4137 - loss: 0.8535 - val_accuracy: 0.5959 - val_auc: 0.5370 - val_loss: 0.6679\n",
      "Epoch 2/15\n",
      "\u001b[1m55/55\u001b[0m \u001b[32m━━━━━━━━━━━━━━━━━━━━\u001b[0m\u001b[37m\u001b[0m \u001b[1m0s\u001b[0m 3ms/step - accuracy: 0.7049 - auc: 0.6752 - loss: 0.6245 - val_accuracy: 0.8105 - val_auc: 0.6627 - val_loss: 0.5742\n",
      "Epoch 3/15\n",
      "\u001b[1m55/55\u001b[0m \u001b[32m━━━━━━━━━━━━━━━━━━━━\u001b[0m\u001b[37m\u001b[0m \u001b[1m0s\u001b[0m 3ms/step - accuracy: 0.8100 - auc: 0.7918 - loss: 0.5412 - val_accuracy: 0.8402 - val_auc: 0.7320 - val_loss: 0.4968\n",
      "Epoch 4/15\n",
      "\u001b[1m55/55\u001b[0m \u001b[32m━━━━━━━━━━━━━━━━━━━━\u001b[0m\u001b[37m\u001b[0m \u001b[1m0s\u001b[0m 3ms/step - accuracy: 0.8491 - auc: 0.8553 - loss: 0.4510 - val_accuracy: 0.8516 - val_auc: 0.8133 - val_loss: 0.4193\n",
      "Epoch 5/15\n",
      "\u001b[1m55/55\u001b[0m \u001b[32m━━━━━━━━━━━━━━━━━━━━\u001b[0m\u001b[37m\u001b[0m \u001b[1m0s\u001b[0m 2ms/step - accuracy: 0.8550 - auc: 0.8843 - loss: 0.3938 - val_accuracy: 0.8607 - val_auc: 0.8473 - val_loss: 0.3757\n",
      "Epoch 6/15\n",
      "\u001b[1m55/55\u001b[0m \u001b[32m━━━━━━━━━━━━━━━━━━━━\u001b[0m\u001b[37m\u001b[0m \u001b[1m0s\u001b[0m 3ms/step - accuracy: 0.8584 - auc: 0.8821 - loss: 0.3666 - val_accuracy: 0.8584 - val_auc: 0.8570 - val_loss: 0.3625\n",
      "Epoch 7/15\n",
      "\u001b[1m55/55\u001b[0m \u001b[32m━━━━━━━━━━━━━━━━━━━━\u001b[0m\u001b[37m\u001b[0m \u001b[1m0s\u001b[0m 3ms/step - accuracy: 0.8626 - auc: 0.8718 - loss: 0.3646 - val_accuracy: 0.8539 - val_auc: 0.8632 - val_loss: 0.3561\n",
      "Epoch 8/15\n",
      "\u001b[1m55/55\u001b[0m \u001b[32m━━━━━━━━━━━━━━━━━━━━\u001b[0m\u001b[37m\u001b[0m \u001b[1m0s\u001b[0m 3ms/step - accuracy: 0.8689 - auc: 0.8867 - loss: 0.3557 - val_accuracy: 0.8562 - val_auc: 0.8672 - val_loss: 0.3530\n",
      "Epoch 9/15\n",
      "\u001b[1m55/55\u001b[0m \u001b[32m━━━━━━━━━━━━━━━━━━━━\u001b[0m\u001b[37m\u001b[0m \u001b[1m0s\u001b[0m 3ms/step - accuracy: 0.8620 - auc: 0.8820 - loss: 0.3639 - val_accuracy: 0.8562 - val_auc: 0.8696 - val_loss: 0.3487\n",
      "Epoch 10/15\n",
      "\u001b[1m55/55\u001b[0m \u001b[32m━━━━━━━━━━━━━━━━━━━━\u001b[0m\u001b[37m\u001b[0m \u001b[1m0s\u001b[0m 2ms/step - accuracy: 0.8632 - auc: 0.8953 - loss: 0.3437 - val_accuracy: 0.8584 - val_auc: 0.8705 - val_loss: 0.3485\n",
      "Epoch 11/15\n",
      "\u001b[1m55/55\u001b[0m \u001b[32m━━━━━━━━━━━━━━━━━━━━\u001b[0m\u001b[37m\u001b[0m \u001b[1m0s\u001b[0m 2ms/step - accuracy: 0.8635 - auc: 0.8807 - loss: 0.3599 - val_accuracy: 0.8630 - val_auc: 0.8709 - val_loss: 0.3472\n",
      "Epoch 12/15\n",
      "\u001b[1m55/55\u001b[0m \u001b[32m━━━━━━━━━━━━━━━━━━━━\u001b[0m\u001b[37m\u001b[0m \u001b[1m0s\u001b[0m 2ms/step - accuracy: 0.8744 - auc: 0.9020 - loss: 0.3196 - val_accuracy: 0.8607 - val_auc: 0.8726 - val_loss: 0.3457\n",
      "Epoch 13/15\n",
      "\u001b[1m55/55\u001b[0m \u001b[32m━━━━━━━━━━━━━━━━━━━━\u001b[0m\u001b[37m\u001b[0m \u001b[1m0s\u001b[0m 3ms/step - accuracy: 0.8822 - auc: 0.8985 - loss: 0.3330 - val_accuracy: 0.8584 - val_auc: 0.8734 - val_loss: 0.3461\n",
      "Epoch 14/15\n",
      "\u001b[1m55/55\u001b[0m \u001b[32m━━━━━━━━━━━━━━━━━━━━\u001b[0m\u001b[37m\u001b[0m \u001b[1m0s\u001b[0m 3ms/step - accuracy: 0.8769 - auc: 0.9085 - loss: 0.3189 - val_accuracy: 0.8630 - val_auc: 0.8736 - val_loss: 0.3448\n",
      "Epoch 15/15\n",
      "\u001b[1m55/55\u001b[0m \u001b[32m━━━━━━━━━━━━━━━━━━━━\u001b[0m\u001b[37m\u001b[0m \u001b[1m0s\u001b[0m 3ms/step - accuracy: 0.8623 - auc: 0.8965 - loss: 0.3406 - val_accuracy: 0.8630 - val_auc: 0.8751 - val_loss: 0.3456\n"
     ]
    },
    {
     "data": {
      "text/plain": [
       "<keras.src.callbacks.history.History at 0x795950672650>"
      ]
     },
     "execution_count": 10,
     "metadata": {},
     "output_type": "execute_result"
    }
   ],
   "source": [
    "model.fit(X, y, validation_split=0.2, epochs=15)"
   ]
  },
  {
   "cell_type": "code",
   "execution_count": 11,
   "id": "e39f0213",
   "metadata": {
    "execution": {
     "iopub.execute_input": "2025-03-25T09:52:27.208672Z",
     "iopub.status.busy": "2025-03-25T09:52:27.208282Z",
     "iopub.status.idle": "2025-03-25T09:52:27.404885Z",
     "shell.execute_reply": "2025-03-25T09:52:27.403627Z"
    },
    "papermill": {
     "duration": 0.206467,
     "end_time": "2025-03-25T09:52:27.407108",
     "exception": false,
     "start_time": "2025-03-25T09:52:27.200641",
     "status": "completed"
    },
    "tags": []
   },
   "outputs": [
    {
     "name": "stdout",
     "output_type": "stream",
     "text": [
      "\u001b[1m23/23\u001b[0m \u001b[32m━━━━━━━━━━━━━━━━━━━━\u001b[0m\u001b[37m\u001b[0m \u001b[1m0s\u001b[0m 3ms/step\n"
     ]
    }
   ],
   "source": [
    "preds = model.predict(test)"
   ]
  },
  {
   "cell_type": "code",
   "execution_count": 12,
   "id": "3ac48d76",
   "metadata": {
    "execution": {
     "iopub.execute_input": "2025-03-25T09:52:27.423223Z",
     "iopub.status.busy": "2025-03-25T09:52:27.422875Z",
     "iopub.status.idle": "2025-03-25T09:52:27.436409Z",
     "shell.execute_reply": "2025-03-25T09:52:27.435563Z"
    },
    "papermill": {
     "duration": 0.023596,
     "end_time": "2025-03-25T09:52:27.438316",
     "exception": false,
     "start_time": "2025-03-25T09:52:27.414720",
     "status": "completed"
    },
    "tags": []
   },
   "outputs": [],
   "source": [
    "sub = pd.DataFrame({'id': test_data.index, 'rainfall': np.squeeze(preds)})\n",
    "sub.to_csv('submission.csv', index=False)"
   ]
  }
 ],
 "metadata": {
  "kaggle": {
   "accelerator": "none",
   "dataSources": [
    {
     "databundleVersionId": 11251744,
     "sourceId": 91714,
     "sourceType": "competition"
    }
   ],
   "dockerImageVersionId": 30918,
   "isGpuEnabled": false,
   "isInternetEnabled": true,
   "language": "python",
   "sourceType": "notebook"
  },
  "kernelspec": {
   "display_name": "Python 3",
   "language": "python",
   "name": "python3"
  },
  "language_info": {
   "codemirror_mode": {
    "name": "ipython",
    "version": 3
   },
   "file_extension": ".py",
   "mimetype": "text/x-python",
   "name": "python",
   "nbconvert_exporter": "python",
   "pygments_lexer": "ipython3",
   "version": "3.10.12"
  },
  "papermill": {
   "default_parameters": {},
   "duration": 31.597927,
   "end_time": "2025-03-25T09:52:30.097907",
   "environment_variables": {},
   "exception": null,
   "input_path": "__notebook__.ipynb",
   "output_path": "__notebook__.ipynb",
   "parameters": {},
   "start_time": "2025-03-25T09:51:58.499980",
   "version": "2.6.0"
  }
 },
 "nbformat": 4,
 "nbformat_minor": 5
}
