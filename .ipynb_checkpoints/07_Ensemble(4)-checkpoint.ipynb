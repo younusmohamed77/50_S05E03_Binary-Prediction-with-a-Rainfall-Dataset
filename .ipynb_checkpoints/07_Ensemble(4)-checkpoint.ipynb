{
 "cells": [
  {
   "cell_type": "code",
   "execution_count": 3,
   "id": "ff6126b8-670c-4f59-9cf7-a67fa0f02a0a",
   "metadata": {},
   "outputs": [
    {
     "name": "stdout",
     "output_type": "stream",
     "text": [
      "Ensemble submissions saved as:\n",
      " - submission_simple_ensemble.csv\n",
      " - submission_weighted_ensemble.csv\n"
     ]
    }
   ],
   "source": [
    "import pandas as pd\n",
    "import numpy as np\n",
    "\n",
    "# List of submission file names and their corresponding scores (used as weights)\n",
    "files = [\n",
    "    \"submission (8) - 095333.csv\",   # score: 0.95333\n",
    "    \"submission (9) - 0.96245.csv\",    # score: 0.96245\n",
    "    \"submission_ensemble - 0.96245.csv\", # score: 0.96245\n",
    "    \"submission (8) - 0.96218.csv\"     # score: 0.96218\n",
    "]\n",
    "weights = [0.95333, 0.96245, 0.96245, 0.96218]\n",
    "\n",
    "# Read each CSV into a list of DataFrames\n",
    "dfs = [pd.read_csv(f) for f in files]\n",
    "\n",
    "# Assume each submission file has the same 'id' order and a column named 'rainfall'\n",
    "# Use the 'id' column from the first submission file as reference.\n",
    "ensemble_df = dfs[0][[\"id\"]].copy()\n",
    "\n",
    "# -------------------------------\n",
    "# Simple Average Ensemble\n",
    "# -------------------------------\n",
    "# Sum up the predictions from all files\n",
    "simple_preds = np.zeros(len(ensemble_df))\n",
    "for df in dfs:\n",
    "    simple_preds += df[\"rainfall\"].values\n",
    "# Compute the mean prediction\n",
    "ensemble_df[\"rainfall_simple\"] = simple_preds / len(dfs)\n",
    "\n",
    "# -------------------------------\n",
    "# Weighted Average Ensemble\n",
    "# -------------------------------\n",
    "# Compute weighted predictions using the provided scores as weights\n",
    "weighted_preds = np.zeros(len(ensemble_df))\n",
    "for df, w in zip(dfs, weights):\n",
    "    weighted_preds += df[\"rainfall\"].values * w\n",
    "ensemble_df[\"rainfall_weighted\"] = weighted_preds / sum(weights)\n",
    "\n",
    "# -------------------------------\n",
    "# Save the Ensemble Submissions\n",
    "# -------------------------------\n",
    "ensemble_df[[\"id\", \"rainfall_simple\"]].to_csv(\"submission_simple_ensemble.csv\", index=False)\n",
    "ensemble_df[[\"id\", \"rainfall_weighted\"]].to_csv(\"submission_weighted_ensemble.csv\", index=False)\n",
    "\n",
    "print(\"Ensemble submissions saved as:\")\n",
    "print(\" - submission_simple_ensemble.csv\")\n",
    "print(\" - submission_weighted_ensemble.csv\")"
   ]
  },
  {
   "cell_type": "code",
   "execution_count": null,
   "id": "b34d7fe5-d7fc-4744-84f0-98fdb6f6f3f1",
   "metadata": {},
   "outputs": [],
   "source": []
  }
 ],
 "metadata": {
  "kernelspec": {
   "display_name": "Python 3 (ipykernel)",
   "language": "python",
   "name": "python3"
  },
  "language_info": {
   "codemirror_mode": {
    "name": "ipython",
    "version": 3
   },
   "file_extension": ".py",
   "mimetype": "text/x-python",
   "name": "python",
   "nbconvert_exporter": "python",
   "pygments_lexer": "ipython3",
   "version": "3.8.19"
  }
 },
 "nbformat": 4,
 "nbformat_minor": 5
}
