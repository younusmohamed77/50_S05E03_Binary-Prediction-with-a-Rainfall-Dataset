{
 "cells": [
  {
   "cell_type": "code",
   "execution_count": null,
   "id": "b866e77e",
   "metadata": {
    "papermill": {
     "duration": 0.00442,
     "end_time": "2025-03-20T15:12:41.535452",
     "exception": false,
     "start_time": "2025-03-20T15:12:41.531032",
     "status": "completed"
    },
    "tags": []
   },
   "outputs": [],
   "source": []
  },
  {
   "cell_type": "markdown",
   "id": "2ecef987",
   "metadata": {
    "papermill": {
     "duration": 0.00349,
     "end_time": "2025-03-20T15:12:41.542924",
     "exception": false,
     "start_time": "2025-03-20T15:12:41.539434",
     "status": "completed"
    },
    "tags": []
   },
   "source": [
    "# **FOREWORD**\n",
    "\n",
    "1. I start off with the competition data without any additional features\n",
    "2. I train a number of ML models and TABPFNClassifier too\n",
    "3. I collate their OOF predictions and Hill-Climb them to arrive at a solution blend\n",
    "4. I use the best public kernel, akin to others and try and blend the results in step 3 with this kernel to check the LB score\n",
    "\n",
    "\n",
    "### **COMPETITION DETAILS AND METRIC**\n",
    "\n",
    "This kernel is for the Playground Season 5-Episode 3 competition with AUC score as the eval metric. <br>\n",
    "This metric needs to be maximized and this is a **binary classifier** to predict the probability of rainfall, off a HongKong weather dataset.\n",
    "\n",
    "\n",
    "My adjutant kernel [here](https://www.kaggle.com/code/ravi20076/playgrounds5e3-public-imports-v1) has all background scripts ready-to-use. I can't label this as AutoML, but at least this is a humble step in this regard. I shall load these scripts below, plug and play!\n",
    "\n",
    "### **REFERENCES**\n",
    "- https://www.kaggle.com/code/cdeotte/rapids-knn-starter-ensemble-lb-0-956-wow\n",
    "- https://www.kaggle.com/code/act18l/lb-probing\n",
    "\n",
    "\n",
    "In this version, I assume this is a time series problem and keep the last 2 years as dev-set. Let's see how we can score with this approach!\n"
   ]
  },
  {
   "cell_type": "markdown",
   "id": "1f6a13be",
   "metadata": {
    "papermill": {
     "duration": 0.003563,
     "end_time": "2025-03-20T15:12:41.550274",
     "exception": false,
     "start_time": "2025-03-20T15:12:41.546711",
     "status": "completed"
    },
    "tags": []
   },
   "source": [
    "# **IMPORTS**"
   ]
  },
  {
   "cell_type": "code",
   "execution_count": 1,
   "id": "ad78b172",
   "metadata": {
    "_kg_hide-input": true,
    "_kg_hide-output": true,
    "execution": {
     "iopub.execute_input": "2025-03-20T15:12:41.559455Z",
     "iopub.status.busy": "2025-03-20T15:12:41.559114Z",
     "iopub.status.idle": "2025-03-20T15:13:11.952861Z",
     "shell.execute_reply": "2025-03-20T15:13:11.951409Z"
    },
    "papermill": {
     "duration": 30.401136,
     "end_time": "2025-03-20T15:13:11.955548",
     "exception": false,
     "start_time": "2025-03-20T15:12:41.554412",
     "status": "completed"
    },
    "tags": []
   },
   "outputs": [
    {
     "name": "stdout",
     "output_type": "stream",
     "text": [
      "---> Sklearn = 1.6.1| Pandas = 2.2.3\n",
      "---> Imports- part 1 done\n",
      "---> Commencing imports-part2\n",
      "---> XGBoost = 2.1.4 | LightGBM = 4.5.0\n",
      "---> Imports- part 2 done\n",
      "---> Seeding everything\n",
      "\n",
      "---> Imports done\n",
      "\n",
      "\n",
      "CPU times: user 12.6 s, sys: 1.63 s, total: 14.2 s\n",
      "Wall time: 30.4 s\n"
     ]
    }
   ],
   "source": [
    "%%time \n",
    "\n",
    "!pip install -q uv\n",
    "!uv pip install -q --system -r /kaggle/input/playgrounds5e3-public-imports-v1/req_kaggle.txt\n",
    "\n",
    "exec( open(f\"/kaggle/input/playgrounds5e3-public-imports-v1/myimports.py\", \"r\").read() )\n",
    "exec( open(f\"/kaggle/input/playgrounds5e3-public-imports-v1/myutils.py\", \"r\").read() )\n",
    "exec( open(f\"/kaggle/input/playgrounds5e3-public-imports-v1/training.py\", \"r\").read() )\n",
    "\n",
    "print()"
   ]
  },
  {
   "cell_type": "markdown",
   "id": "30edec6d",
   "metadata": {
    "papermill": {
     "duration": 0.005916,
     "end_time": "2025-03-20T15:13:11.970751",
     "exception": false,
     "start_time": "2025-03-20T15:13:11.964835",
     "status": "completed"
    },
    "tags": []
   },
   "source": [
    "# **CONFIGURATION**"
   ]
  },
  {
   "cell_type": "code",
   "execution_count": 2,
   "id": "e2d65c57",
   "metadata": {
    "execution": {
     "iopub.execute_input": "2025-03-20T15:13:11.984138Z",
     "iopub.status.busy": "2025-03-20T15:13:11.983085Z",
     "iopub.status.idle": "2025-03-20T15:13:12.248927Z",
     "shell.execute_reply": "2025-03-20T15:13:12.247689Z"
    },
    "papermill": {
     "duration": 0.275104,
     "end_time": "2025-03-20T15:13:12.250991",
     "exception": false,
     "start_time": "2025-03-20T15:13:11.975887",
     "status": "completed"
    },
    "tags": []
   },
   "outputs": [
    {
     "name": "stdout",
     "output_type": "stream",
     "text": [
      "CPU times: user 249 ms, sys: 793 µs, total: 249 ms\n",
      "Wall time: 251 ms\n"
     ]
    },
    {
     "data": {
      "text/plain": [
       "0"
      ]
     },
     "execution_count": 2,
     "metadata": {},
     "output_type": "execute_result"
    }
   ],
   "source": [
    "%%time\n",
    "\n",
    "class CFG:\n",
    "    \"\"\"\n",
    "    Configuration class for parameters and CV strategy for tuning and training\n",
    "    Some parameters may be unused here as this is a general configuration class\n",
    "    \"\"\";\n",
    "\n",
    "    # Data preparation:-\n",
    "    version_nb  = 5\n",
    "    model_id    = \"V5_2\"\n",
    "    model_label = \"ML\"\n",
    "\n",
    "    test_req           = False\n",
    "    test_sample_frac   = 200\n",
    "\n",
    "    gpu_switch         = \"ON\" if torch.cuda.is_available() else \"OFF\"\n",
    "    state              = 42\n",
    "    target             = f\"rainfall\"\n",
    "    grouper            = f\"\"\n",
    "    tgt_mapper         = {}\n",
    "\n",
    "    ip_path            = f\"/kaggle/input/playground-series-s5e3\"\n",
    "    op_path            = f\"/kaggle/working\"\n",
    "    orig_path          = f\"\"\n",
    "    data_path          = f\"\"\n",
    "\n",
    "    dtl_preproc_req    = False\n",
    "    ftre_plots_req     = True\n",
    "    ftre_imp_req       = True\n",
    "\n",
    "    nb_orig            = 0\n",
    "    orig_all_folds     = False\n",
    "\n",
    "    # Model Training:-\n",
    "    pstprcs_oof        = False\n",
    "    pstprcs_train      = False\n",
    "    pstprcs_test       = False\n",
    "    ML                 = True\n",
    "    test_preds_req     = True\n",
    "\n",
    "    n_splits           = 1\n",
    "    n_repeats          = 1\n",
    "    nbrnd_erly_stp     = 0\n",
    "    mdlcv_mthd         = 'KF'\n",
    "    metric_obj         = 'maximize'\n",
    "\n",
    "    # Global variables for plotting:-\n",
    "    grid_specs = {'visible'  : True,\n",
    "                  'which'    : 'both',\n",
    "                  'linestyle': '--',\n",
    "                  'color'    : 'lightgrey',\n",
    "                  'linewidth': 0.75\n",
    "                 }\n",
    "\n",
    "    title_specs = {'fontsize'   : 9,\n",
    "                   'fontweight' : 'bold',\n",
    "                   'color'      : '#992600',\n",
    "                  }\n",
    "\n",
    "collect()"
   ]
  },
  {
   "cell_type": "markdown",
   "id": "9fa98caf",
   "metadata": {
    "papermill": {
     "duration": 0.00412,
     "end_time": "2025-03-20T15:13:12.262129",
     "exception": false,
     "start_time": "2025-03-20T15:13:12.258009",
     "status": "completed"
    },
    "tags": []
   },
   "source": [
    "# **PREPROCESSING**\n",
    "\n",
    "We load the datasets and fix the CV-folds here <br>\n",
    "We also impute the solitary null value in the test set column before proceding to model development"
   ]
  },
  {
   "cell_type": "code",
   "execution_count": 3,
   "id": "d3669713",
   "metadata": {
    "execution": {
     "iopub.execute_input": "2025-03-20T15:13:12.272979Z",
     "iopub.status.busy": "2025-03-20T15:13:12.272390Z",
     "iopub.status.idle": "2025-03-20T15:13:12.341976Z",
     "shell.execute_reply": "2025-03-20T15:13:12.339313Z"
    },
    "papermill": {
     "duration": 0.078213,
     "end_time": "2025-03-20T15:13:12.344715",
     "exception": false,
     "start_time": "2025-03-20T15:13:12.266502",
     "status": "completed"
    },
    "tags": []
   },
   "outputs": [
    {
     "name": "stdout",
     "output_type": "stream",
     "text": [
      "\u001b[1m\u001b[34m---> Shapes = (2190, 12) (730, 11) (730, 1)\u001b[0m\n",
      "\u001b[1m\u001b[34m---> Shapes = (2190, 13) (730, 12) (2190,)\n",
      "\u001b[0m\n",
      "CPU times: user 22.3 ms, sys: 4.03 ms, total: 26.3 ms\n",
      "Wall time: 59 ms\n"
     ]
    }
   ],
   "source": [
    "%%time \n",
    "\n",
    "train  = pd.read_csv(f\"{CFG.ip_path}/train.csv\", index_col = \"id\")\n",
    "test   = pd.read_csv(f\"{CFG.ip_path}/test.csv\", index_col = \"id\")\n",
    "sub_fl = pd.read_csv(f\"{CFG.ip_path}/sample_submission.csv\", index_col = \"id\")\n",
    "\n",
    "PrintColor(f\"---> Shapes = {train.shape} {test.shape} {sub_fl.shape}\")\n",
    "\n",
    "Xtrain = train.drop(CFG.target, axis=1)\n",
    "ytrain = train[CFG.target].astype(np.uint8)\n",
    "Xtest  = test.copy()\n",
    "Xtest  = Xtest[Xtrain.columns]\n",
    "\n",
    "Xtest[\"winddirection\"] = Xtest[\"winddirection\"].fillna( Xtest[\"winddirection\"].ffill())\n",
    "Xtrain[\"Source\"], Xtest[\"Source\"] = (\"Competition\" , \"Competition\")\n",
    "\n",
    "Xtrain[\"year_nb\"] = Xtrain.index // 365\n",
    "\n",
    "PrintColor(f\"---> Shapes = {Xtrain.shape} {Xtest.shape} {ytrain.shape}\\n\")"
   ]
  },
  {
   "cell_type": "markdown",
   "id": "4c8f5940",
   "metadata": {
    "papermill": {
     "duration": 0.004346,
     "end_time": "2025-03-20T15:13:12.356967",
     "exception": false,
     "start_time": "2025-03-20T15:13:12.352621",
     "status": "completed"
    },
    "tags": []
   },
   "source": [
    "# **MODEL TRAINING**"
   ]
  },
  {
   "cell_type": "markdown",
   "id": "62267e36",
   "metadata": {
    "papermill": {
     "duration": 0.005908,
     "end_time": "2025-03-20T15:13:12.368057",
     "exception": false,
     "start_time": "2025-03-20T15:13:12.362149",
     "status": "completed"
    },
    "tags": []
   },
   "source": [
    "## **IO**"
   ]
  },
  {
   "cell_type": "code",
   "execution_count": 4,
   "id": "e514e139",
   "metadata": {
    "execution": {
     "iopub.execute_input": "2025-03-20T15:13:12.380105Z",
     "iopub.status.busy": "2025-03-20T15:13:12.379734Z",
     "iopub.status.idle": "2025-03-20T15:13:12.391528Z",
     "shell.execute_reply": "2025-03-20T15:13:12.390153Z"
    },
    "papermill": {
     "duration": 0.02077,
     "end_time": "2025-03-20T15:13:12.394358",
     "exception": false,
     "start_time": "2025-03-20T15:13:12.373588",
     "status": "completed"
    },
    "tags": []
   },
   "outputs": [
    {
     "name": "stdout",
     "output_type": "stream",
     "text": [
      "CPU times: user 535 µs, sys: 0 ns, total: 535 µs\n",
      "Wall time: 2.47 ms\n"
     ]
    }
   ],
   "source": [
    "%%time \n",
    "\n",
    "Mdl_Master = \\\n",
    "{\n",
    "    \"LGBM1C\" : LGBMC(\n",
    "                    objective         = \"binary\",\n",
    "                    eval_metric       = \"auc\",\n",
    "                    n_estimators      = 400,\n",
    "                    learning_rate     = 0.02,\n",
    "                    max_depth         = 3,\n",
    "                    colsample_bytree  = 0.95,\n",
    "                    reg_alpha         = 0.001,\n",
    "                    reg_lambda        = 0.001,\n",
    "                    random_state      = CFG.state,\n",
    "                    verbosity         = -1,\n",
    "               ),\n",
    "\n",
    "    \"XGB1C\" : XGBC(\n",
    "                    objective         = \"binary:logistic\",\n",
    "                    eval_metric       = \"auc\",\n",
    "                    n_estimators      = 350,\n",
    "                    learning_rate     = 0.02,\n",
    "                    max_depth         = 3,\n",
    "                    colsample_bytree  = 0.90,\n",
    "                    colsample_bylevel = 0.80,\n",
    "                    colsample_bynode  = 0.85,\n",
    "                    reg_alpha         = 0.001,\n",
    "                    reg_lambda        = 0.001,\n",
    "                    random_state      = CFG.state,\n",
    "                    verbosity         = 0,\n",
    "                  ),\n",
    "\n",
    "    \"CB1C\" : CBC(\n",
    "                loss_function     = \"Logloss\",\n",
    "                eval_metric       = \"AUC\",\n",
    "                task_type         = \"CPU\",\n",
    "                iterations        = 350,\n",
    "                learning_rate     = 0.02,\n",
    "                max_depth         = 3,\n",
    "                colsample_bylevel = 0.90,\n",
    "                random_state      = CFG.state,\n",
    "                verbose           = 0,\n",
    "                l2_leaf_reg       = 0.25,\n",
    "                ),\n",
    "\n",
    "    \"HGB1C\" : HGBC(\n",
    "                    loss              = 'log_loss',\n",
    "                    learning_rate     = 0.025,\n",
    "                    max_iter          = 300,\n",
    "                    max_depth         = 5,\n",
    "                    l2_regularization = 0.40,\n",
    "                    random_state      = CFG.state,\n",
    "                  ),\n",
    "\n",
    "    \"RF1C\"  : RFC(\n",
    "                    n_estimators     = 250,\n",
    "                    max_depth        = 5,\n",
    "                    min_samples_leaf = 8,\n",
    "                    random_state     = CFG.state,\n",
    "                    verbose          = 0,\n",
    "               ),\n",
    "\n",
    "    \"LR1C\"  : LRC(C = 0.05, max_iter = 5_000, random_state = CFG.state),\n",
    "\n",
    "    \"KNN1C\" : KNNC(n_neighbors = 125) ,\n",
    "}\n",
    "\n",
    "if CFG.gpu_switch == \"ON\" :\n",
    "    Mdl_Master[\"TPFN1C\"] = TPFNC(random_state = CFG.state, )\n",
    "else:\n",
    "    pass\n",
    "\n",
    "OOF_Preds = {}\n",
    "Mdl_Preds = {}\n",
    "drop_cols = [\"Source\", \"id\", \"Id\", \"Label\", CFG.target, \"fold_nb\",  \"year_nb\"]\n"
   ]
  },
  {
   "cell_type": "markdown",
   "id": "abfb8080",
   "metadata": {
    "papermill": {
     "duration": 0.005736,
     "end_time": "2025-03-20T15:13:12.407994",
     "exception": false,
     "start_time": "2025-03-20T15:13:12.402258",
     "status": "completed"
    },
    "tags": []
   },
   "source": [
    "## **OFFLINE TRAINING**\n",
    "\n",
    "We retain the final 2 years as dev-set and build the model pipeline with the blend!"
   ]
  },
  {
   "cell_type": "code",
   "execution_count": 5,
   "id": "fccff9f6",
   "metadata": {
    "execution": {
     "iopub.execute_input": "2025-03-20T15:13:12.423689Z",
     "iopub.status.busy": "2025-03-20T15:13:12.423004Z",
     "iopub.status.idle": "2025-03-20T15:13:20.716863Z",
     "shell.execute_reply": "2025-03-20T15:13:20.715498Z"
    },
    "papermill": {
     "duration": 8.303159,
     "end_time": "2025-03-20T15:13:20.718654",
     "exception": false,
     "start_time": "2025-03-20T15:13:12.415495",
     "status": "completed"
    },
    "tags": []
   },
   "outputs": [
    {
     "data": {
      "application/vnd.jupyter.widget-view+json": {
       "model_id": "86b816c2fe574453ac0b0d1efef2fbd0",
       "version_major": 2,
       "version_minor": 0
      },
      "text/plain": [
       "  0%|          | 0/7 [00:00<?, ?it/s]"
      ]
     },
     "metadata": {},
     "output_type": "display_data"
    },
    {
     "name": "stdout",
     "output_type": "stream",
     "text": [
      "\u001b[1m\u001b[36m---> Score = 0.87463439 | LGBM1C\u001b[0m\n",
      "\u001b[1m\u001b[36m---> Score = 0.87702747 | XGB1C\u001b[0m\n",
      "\u001b[1m\u001b[36m---> Score = 0.88113294 | CB1C\u001b[0m\n",
      "\u001b[1m\u001b[36m---> Score = 0.87713383 | HGB1C\u001b[0m\n",
      "\u001b[1m\u001b[36m---> Score = 0.87303900 | RF1C\u001b[0m\n",
      "\u001b[1m\u001b[36m---> Score = 0.88424926 | LR1C\u001b[0m\n",
      "\u001b[1m\u001b[36m---> Score = 0.87090650 | KNN1C\u001b[0m\n",
      "\u001b[1m\u001b[34m\n",
      "----- Data preparation: ------ \n",
      "\u001b[0m\n"
     ]
    },
    {
     "data": {
      "text/html": [
       "<style type=\"text/css\">\n",
       "</style>\n",
       "<table id=\"T_e3266\">\n",
       "  <thead>\n",
       "    <tr>\n",
       "      <th class=\"blank level0\" >&nbsp;</th>\n",
       "      <th id=\"T_e3266_level0_col0\" class=\"col_heading level0 col0\" >LR1C</th>\n",
       "      <th id=\"T_e3266_level0_col1\" class=\"col_heading level0 col1\" >CB1C</th>\n",
       "      <th id=\"T_e3266_level0_col2\" class=\"col_heading level0 col2\" >HGB1C</th>\n",
       "      <th id=\"T_e3266_level0_col3\" class=\"col_heading level0 col3\" >XGB1C</th>\n",
       "      <th id=\"T_e3266_level0_col4\" class=\"col_heading level0 col4\" >LGBM1C</th>\n",
       "      <th id=\"T_e3266_level0_col5\" class=\"col_heading level0 col5\" >RF1C</th>\n",
       "      <th id=\"T_e3266_level0_col6\" class=\"col_heading level0 col6\" >KNN1C</th>\n",
       "    </tr>\n",
       "  </thead>\n",
       "  <tbody>\n",
       "    <tr>\n",
       "      <th id=\"T_e3266_level0_row0\" class=\"row_heading level0 row0\" >Score</th>\n",
       "      <td id=\"T_e3266_row0_col0\" class=\"data row0 col0\" >0.88425</td>\n",
       "      <td id=\"T_e3266_row0_col1\" class=\"data row0 col1\" >0.88113</td>\n",
       "      <td id=\"T_e3266_row0_col2\" class=\"data row0 col2\" >0.87713</td>\n",
       "      <td id=\"T_e3266_row0_col3\" class=\"data row0 col3\" >0.87703</td>\n",
       "      <td id=\"T_e3266_row0_col4\" class=\"data row0 col4\" >0.87463</td>\n",
       "      <td id=\"T_e3266_row0_col5\" class=\"data row0 col5\" >0.87304</td>\n",
       "      <td id=\"T_e3266_row0_col6\" class=\"data row0 col6\" >0.87091</td>\n",
       "    </tr>\n",
       "  </tbody>\n",
       "</table>\n"
      ],
      "text/plain": [
       "<pandas.io.formats.style.Styler at 0x7f519b2c6980>"
      ]
     },
     "metadata": {},
     "output_type": "display_data"
    },
    {
     "name": "stdout",
     "output_type": "stream",
     "text": [
      "\u001b[1m\u001b[34m\n",
      " ----- Initiating hill-climb ----- \n",
      "\u001b[0m\n",
      "\u001b[1m\u001b[36m 1.LR1C                                                Weight =  0.5000       Score = 0.881090\u001b[0m\n",
      "\u001b[1m\u001b[36m 2.XGB1C                                               Weight = -0.5000       Score = 0.882579\u001b[0m\n",
      "\u001b[1m\u001b[36m 3.RF1C                                                Weight = -0.4500       Score = 0.883622\u001b[0m\n",
      "\u001b[1m\u001b[36m 4.CB1C                                                Weight =  0.4900       Score = 0.884345\u001b[0m\n",
      "\u001b[1m\u001b[36m 5.KNN1C                                               Weight = -0.0600       Score = 0.884590\u001b[0m\n",
      "\u001b[1m\u001b[30m\n",
      "\n",
      "---> Final Ensemble Score = 0.88458961\u001b[0m\n",
      "CPU times: user 9.31 s, sys: 517 ms, total: 9.83 s\n",
      "Wall time: 8.28 s\n"
     ]
    }
   ],
   "source": [
    "%%time \n",
    "\n",
    "Xtr  = Xtrain.loc[ Xtrain.year_nb <= 3 ].drop(drop_cols, axis=1, errors = \"ignore\")\n",
    "Xdev = Xtrain.loc[ Xtrain.year_nb > 3  ].drop(drop_cols, axis=1, errors = \"ignore\")\n",
    "ytr  = ytrain.iloc[ Xtr.index ]\n",
    "ydev = ytrain.iloc[ Xdev.index ]\n",
    "Xt   = Xtest.drop( drop_cols, axis= 1, errors = \"ignore\" )\n",
    "\n",
    "for method, mymodel in tqdm( Mdl_Master.items() ) :\n",
    "\n",
    "    model = Pipeline([(\"SS\", StandardScaler()), (\"M\", mymodel)])\n",
    "    model.fit(Xtr, ytr)\n",
    "\n",
    "    dev_preds         = model.predict_proba( Xdev)[:, 1]\n",
    "    OOF_Preds[method] = dev_preds \n",
    "    Mdl_Preds[method] = model.predict_proba( Xt )[:, 1]\n",
    "\n",
    "    score = utils.ScoreMetric( ydev, dev_preds)\n",
    "    PrintColor( \n",
    "        f\"---> Score = {score :,.8f} | {method}\",\n",
    "        color = Fore.CYAN,\n",
    "    )\n",
    "\n",
    "oof_preds = pd.DataFrame(OOF_Preds)\n",
    "mdl_preds = pd.DataFrame(Mdl_Preds)   \n",
    "\n",
    "hc = HillClimber()\n",
    "dev_preds, preds, _ = \\\n",
    "hc.DoHillClimb(\n",
    "    target    = CFG.target, \n",
    "    direction = CFG.metric_obj, \n",
    "    cutoff    = 100, \n",
    "    neg_wgt   = \"Y\",\n",
    "    OOF_Preds = oof_preds,\n",
    "    Mdl_Preds = mdl_preds.copy() ,\n",
    "    y         = ydev,\n",
    ")\n",
    "\n",
    "score = utils.ScoreMetric( ydev, dev_preds)\n",
    "PrintColor( \n",
    "    f\"\\n\\n---> Final Ensemble Score = {score :,.8f}\",\n",
    "    color = Fore.BLACK,\n",
    "    )\n",
    "\n",
    "_ = utils.CleanMemory()"
   ]
  },
  {
   "cell_type": "markdown",
   "id": "228e7bdb",
   "metadata": {
    "papermill": {
     "duration": 0.005013,
     "end_time": "2025-03-20T15:13:20.729455",
     "exception": false,
     "start_time": "2025-03-20T15:13:20.724442",
     "status": "completed"
    },
    "tags": []
   },
   "source": [
    "# **FULL REFIT**\n",
    "\n",
    "We use the ensemble weights from the previous offline models and make the full-refit for the leaderboard"
   ]
  },
  {
   "cell_type": "code",
   "execution_count": 6,
   "id": "dad374b3",
   "metadata": {
    "execution": {
     "iopub.execute_input": "2025-03-20T15:13:20.741418Z",
     "iopub.status.busy": "2025-03-20T15:13:20.741046Z",
     "iopub.status.idle": "2025-03-20T15:13:23.040398Z",
     "shell.execute_reply": "2025-03-20T15:13:23.039280Z"
    },
    "papermill": {
     "duration": 2.307263,
     "end_time": "2025-03-20T15:13:23.041988",
     "exception": false,
     "start_time": "2025-03-20T15:13:20.734725",
     "status": "completed"
    },
    "tags": []
   },
   "outputs": [
    {
     "data": {
      "application/vnd.jupyter.widget-view+json": {
       "model_id": "465e255f061449fda8cb06c91a3b958c",
       "version_major": 2,
       "version_minor": 0
      },
      "text/plain": [
       "  0%|          | 0/7 [00:00<?, ?it/s]"
      ]
     },
     "metadata": {},
     "output_type": "display_data"
    },
    {
     "name": "stdout",
     "output_type": "stream",
     "text": [
      "CPU times: user 3.79 s, sys: 528 ms, total: 4.32 s\n",
      "Wall time: 2.29 s\n"
     ]
    }
   ],
   "source": [
    "%%time \n",
    "\n",
    "Mdl_Preds = {}\n",
    "\n",
    "for method, mymodel in tqdm( Mdl_Master.items() ) :\n",
    "    model = Pipeline([(\"SS\", StandardScaler()), (\"M\", mymodel)])\n",
    "    model.fit(Xtrain.drop(drop_cols, axis=1, errors = \"ignore\") , ytrain)\n",
    "    Mdl_Preds[method] = model.predict_proba( Xt )[:, 1]\n",
    "\n",
    "preds = \\\n",
    "np.average(\n",
    "    pd.DataFrame( Mdl_Preds )[[\"LR1C\", \"CB1C\", \"XGB1C\", \"RF1C\", \"HGB1C\", \"KNN1C\"]], \n",
    "    weights = [0.5000, 0.5000, -0.4800, -0.3000, 0.1500 , -0.1000],\n",
    "    axis=1\n",
    ")\n",
    "\n"
   ]
  },
  {
   "cell_type": "markdown",
   "id": "f5cf10c6",
   "metadata": {
    "papermill": {
     "duration": 0.005065,
     "end_time": "2025-03-20T15:13:23.052530",
     "exception": false,
     "start_time": "2025-03-20T15:13:23.047465",
     "status": "completed"
    },
    "tags": []
   },
   "source": [
    "# **SUBMISSION**"
   ]
  },
  {
   "cell_type": "code",
   "execution_count": 7,
   "id": "2576ac5f",
   "metadata": {
    "execution": {
     "iopub.execute_input": "2025-03-20T15:13:23.064508Z",
     "iopub.status.busy": "2025-03-20T15:13:23.064164Z",
     "iopub.status.idle": "2025-03-20T15:13:23.358027Z",
     "shell.execute_reply": "2025-03-20T15:13:23.356366Z"
    },
    "papermill": {
     "duration": 0.302171,
     "end_time": "2025-03-20T15:13:23.360121",
     "exception": false,
     "start_time": "2025-03-20T15:13:23.057950",
     "status": "completed"
    },
    "tags": []
   },
   "outputs": [
    {
     "name": "stdout",
     "output_type": "stream",
     "text": [
      "\n",
      "catboost_info  __notebook__.ipynb  submission.csv  xgb_optimize.log\r\n",
      "\n",
      "id,rainfall\r\n",
      "2190,104.75637167107821\r\n",
      "2191,104.48963176595213\r\n",
      "2192,105.1569445016439\r\n",
      "2193,8.99855087028047\r\n",
      "2194,3.5654747363276456\r\n",
      "2195,78.33000099073452\r\n",
      "2196,87.40889489926793\r\n",
      "2197,104.3485593016294\r\n",
      "2198,100.34368214704736\r\n",
      "\n",
      "CPU times: user 21.2 ms, sys: 24.1 ms, total: 45.3 ms\n",
      "Wall time: 284 ms\n"
     ]
    }
   ],
   "source": [
    "%%time \n",
    "\n",
    "sub = \\\n",
    "pd.read_csv(\n",
    "    f\"/kaggle/input/rapids-knn-starter-ensemble-lb-0-956-wow/submission_ensemble.csv\"\n",
    ")[CFG.target].values.flatten()\n",
    "\n",
    "\n",
    "scl = MinMaxScaler((0, 100))\n",
    "sub_fl[CFG.target] = \\\n",
    "np.average(\n",
    "    scl.fit_transform( np.stack([preds, sub], axis=1) ),\n",
    "    axis=1,\n",
    "    weights = [-0.4, 1.4]\n",
    ")\n",
    "\n",
    "sub_fl.to_csv(\"submission.csv\", index = True)\n",
    "\n",
    "\n",
    "print()\n",
    "!ls\n",
    "print()\n",
    "!head submission.csv\n",
    "del sub\n",
    "print()"
   ]
  }
 ],
 "metadata": {
  "kaggle": {
   "accelerator": "none",
   "dataSources": [
    {
     "databundleVersionId": 11251744,
     "sourceId": 91714,
     "sourceType": "competition"
    },
    {
     "sourceId": 228115986,
     "sourceType": "kernelVersion"
    },
    {
     "sourceId": 228503098,
     "sourceType": "kernelVersion"
    }
   ],
   "dockerImageVersionId": 30918,
   "isGpuEnabled": false,
   "isInternetEnabled": true,
   "language": "python",
   "sourceType": "notebook"
  },
  "kernelspec": {
   "display_name": "Python 3",
   "language": "python",
   "name": "python3"
  },
  "language_info": {
   "codemirror_mode": {
    "name": "ipython",
    "version": 3
   },
   "file_extension": ".py",
   "mimetype": "text/x-python",
   "name": "python",
   "nbconvert_exporter": "python",
   "pygments_lexer": "ipython3",
   "version": "3.10.12"
  },
  "papermill": {
   "default_parameters": {},
   "duration": 47.612211,
   "end_time": "2025-03-20T15:13:26.308968",
   "environment_variables": {},
   "exception": null,
   "input_path": "__notebook__.ipynb",
   "output_path": "__notebook__.ipynb",
   "parameters": {},
   "start_time": "2025-03-20T15:12:38.696757",
   "version": "2.6.0"
  },
  "widgets": {
   "application/vnd.jupyter.widget-state+json": {
    "state": {
     "075f10a69d044016b12d22a457afafb7": {
      "model_module": "@jupyter-widgets/controls",
      "model_module_version": "2.0.0",
      "model_name": "HTMLModel",
      "state": {
       "_dom_classes": [],
       "_model_module": "@jupyter-widgets/controls",
       "_model_module_version": "2.0.0",
       "_model_name": "HTMLModel",
       "_view_count": null,
       "_view_module": "@jupyter-widgets/controls",
       "_view_module_version": "2.0.0",
       "_view_name": "HTMLView",
       "description": "",
       "description_allow_html": false,
       "layout": "IPY_MODEL_fb79a5cc6f0d449ea542dc280d579e7c",
       "placeholder": "​",
       "style": "IPY_MODEL_d6acfb5e1e844eebb1395122232a15a3",
       "tabbable": null,
       "tooltip": null,
       "value": "100%"
      }
     },
     "0ef52d79879440768d036093a4f7f3ef": {
      "model_module": "@jupyter-widgets/controls",
      "model_module_version": "2.0.0",
      "model_name": "HTMLModel",
      "state": {
       "_dom_classes": [],
       "_model_module": "@jupyter-widgets/controls",
       "_model_module_version": "2.0.0",
       "_model_name": "HTMLModel",
       "_view_count": null,
       "_view_module": "@jupyter-widgets/controls",
       "_view_module_version": "2.0.0",
       "_view_name": "HTMLView",
       "description": "",
       "description_allow_html": false,
       "layout": "IPY_MODEL_72754a36fb7f491aaeefbbedc43b76bd",
       "placeholder": "​",
       "style": "IPY_MODEL_3c3b4e8dfb4b4b83b3578aa903ee5b78",
       "tabbable": null,
       "tooltip": null,
       "value": " 7/7 [00:02&lt;00:00,  1.75it/s]"
      }
     },
     "3c3b4e8dfb4b4b83b3578aa903ee5b78": {
      "model_module": "@jupyter-widgets/controls",
      "model_module_version": "2.0.0",
      "model_name": "HTMLStyleModel",
      "state": {
       "_model_module": "@jupyter-widgets/controls",
       "_model_module_version": "2.0.0",
       "_model_name": "HTMLStyleModel",
       "_view_count": null,
       "_view_module": "@jupyter-widgets/base",
       "_view_module_version": "2.0.0",
       "_view_name": "StyleView",
       "background": null,
       "description_width": "",
       "font_size": null,
       "text_color": null
      }
     },
     "465e255f061449fda8cb06c91a3b958c": {
      "model_module": "@jupyter-widgets/controls",
      "model_module_version": "2.0.0",
      "model_name": "HBoxModel",
      "state": {
       "_dom_classes": [],
       "_model_module": "@jupyter-widgets/controls",
       "_model_module_version": "2.0.0",
       "_model_name": "HBoxModel",
       "_view_count": null,
       "_view_module": "@jupyter-widgets/controls",
       "_view_module_version": "2.0.0",
       "_view_name": "HBoxView",
       "box_style": "",
       "children": [
        "IPY_MODEL_075f10a69d044016b12d22a457afafb7",
        "IPY_MODEL_a519bb5cf5004cafadcee1dea5c64236",
        "IPY_MODEL_0ef52d79879440768d036093a4f7f3ef"
       ],
       "layout": "IPY_MODEL_be79899b78c54990af211e021d3bafd3",
       "tabbable": null,
       "tooltip": null
      }
     },
     "50da4376fd91493ca7a7b86840399460": {
      "model_module": "@jupyter-widgets/controls",
      "model_module_version": "2.0.0",
      "model_name": "FloatProgressModel",
      "state": {
       "_dom_classes": [],
       "_model_module": "@jupyter-widgets/controls",
       "_model_module_version": "2.0.0",
       "_model_name": "FloatProgressModel",
       "_view_count": null,
       "_view_module": "@jupyter-widgets/controls",
       "_view_module_version": "2.0.0",
       "_view_name": "ProgressView",
       "bar_style": "success",
       "description": "",
       "description_allow_html": false,
       "layout": "IPY_MODEL_944cd0ef4ce84a71b14f9fcf5c47ac32",
       "max": 7.0,
       "min": 0.0,
       "orientation": "horizontal",
       "style": "IPY_MODEL_e263c2939d6047bfaf9a07c0248a3e43",
       "tabbable": null,
       "tooltip": null,
       "value": 7.0
      }
     },
     "55e0efbef362445dba83dfed3db51b58": {
      "model_module": "@jupyter-widgets/controls",
      "model_module_version": "2.0.0",
      "model_name": "HTMLModel",
      "state": {
       "_dom_classes": [],
       "_model_module": "@jupyter-widgets/controls",
       "_model_module_version": "2.0.0",
       "_model_name": "HTMLModel",
       "_view_count": null,
       "_view_module": "@jupyter-widgets/controls",
       "_view_module_version": "2.0.0",
       "_view_name": "HTMLView",
       "description": "",
       "description_allow_html": false,
       "layout": "IPY_MODEL_9625f022aa5744e584ad1f48c4ca0b05",
       "placeholder": "​",
       "style": "IPY_MODEL_e9e616ba5ce7420c9982706972e5524c",
       "tabbable": null,
       "tooltip": null,
       "value": " 7/7 [00:02&lt;00:00,  3.07it/s]"
      }
     },
     "56100cfd21274a7ea5a9a34606d5c568": {
      "model_module": "@jupyter-widgets/base",
      "model_module_version": "2.0.0",
      "model_name": "LayoutModel",
      "state": {
       "_model_module": "@jupyter-widgets/base",
       "_model_module_version": "2.0.0",
       "_model_name": "LayoutModel",
       "_view_count": null,
       "_view_module": "@jupyter-widgets/base",
       "_view_module_version": "2.0.0",
       "_view_name": "LayoutView",
       "align_content": null,
       "align_items": null,
       "align_self": null,
       "border_bottom": null,
       "border_left": null,
       "border_right": null,
       "border_top": null,
       "bottom": null,
       "display": null,
       "flex": null,
       "flex_flow": null,
       "grid_area": null,
       "grid_auto_columns": null,
       "grid_auto_flow": null,
       "grid_auto_rows": null,
       "grid_column": null,
       "grid_gap": null,
       "grid_row": null,
       "grid_template_areas": null,
       "grid_template_columns": null,
       "grid_template_rows": null,
       "height": null,
       "justify_content": null,
       "justify_items": null,
       "left": null,
       "margin": null,
       "max_height": null,
       "max_width": null,
       "min_height": null,
       "min_width": null,
       "object_fit": null,
       "object_position": null,
       "order": null,
       "overflow": null,
       "padding": null,
       "right": null,
       "top": null,
       "visibility": null,
       "width": null
      }
     },
     "5c3cff70ce9048619ff2984f72ffe143": {
      "model_module": "@jupyter-widgets/controls",
      "model_module_version": "2.0.0",
      "model_name": "HTMLStyleModel",
      "state": {
       "_model_module": "@jupyter-widgets/controls",
       "_model_module_version": "2.0.0",
       "_model_name": "HTMLStyleModel",
       "_view_count": null,
       "_view_module": "@jupyter-widgets/base",
       "_view_module_version": "2.0.0",
       "_view_name": "StyleView",
       "background": null,
       "description_width": "",
       "font_size": null,
       "text_color": null
      }
     },
     "72754a36fb7f491aaeefbbedc43b76bd": {
      "model_module": "@jupyter-widgets/base",
      "model_module_version": "2.0.0",
      "model_name": "LayoutModel",
      "state": {
       "_model_module": "@jupyter-widgets/base",
       "_model_module_version": "2.0.0",
       "_model_name": "LayoutModel",
       "_view_count": null,
       "_view_module": "@jupyter-widgets/base",
       "_view_module_version": "2.0.0",
       "_view_name": "LayoutView",
       "align_content": null,
       "align_items": null,
       "align_self": null,
       "border_bottom": null,
       "border_left": null,
       "border_right": null,
       "border_top": null,
       "bottom": null,
       "display": null,
       "flex": null,
       "flex_flow": null,
       "grid_area": null,
       "grid_auto_columns": null,
       "grid_auto_flow": null,
       "grid_auto_rows": null,
       "grid_column": null,
       "grid_gap": null,
       "grid_row": null,
       "grid_template_areas": null,
       "grid_template_columns": null,
       "grid_template_rows": null,
       "height": null,
       "justify_content": null,
       "justify_items": null,
       "left": null,
       "margin": null,
       "max_height": null,
       "max_width": null,
       "min_height": null,
       "min_width": null,
       "object_fit": null,
       "object_position": null,
       "order": null,
       "overflow": null,
       "padding": null,
       "right": null,
       "top": null,
       "visibility": null,
       "width": null
      }
     },
     "7da49fbf309b4b6fb4202e16c835c477": {
      "model_module": "@jupyter-widgets/base",
      "model_module_version": "2.0.0",
      "model_name": "LayoutModel",
      "state": {
       "_model_module": "@jupyter-widgets/base",
       "_model_module_version": "2.0.0",
       "_model_name": "LayoutModel",
       "_view_count": null,
       "_view_module": "@jupyter-widgets/base",
       "_view_module_version": "2.0.0",
       "_view_name": "LayoutView",
       "align_content": null,
       "align_items": null,
       "align_self": null,
       "border_bottom": null,
       "border_left": null,
       "border_right": null,
       "border_top": null,
       "bottom": null,
       "display": null,
       "flex": null,
       "flex_flow": null,
       "grid_area": null,
       "grid_auto_columns": null,
       "grid_auto_flow": null,
       "grid_auto_rows": null,
       "grid_column": null,
       "grid_gap": null,
       "grid_row": null,
       "grid_template_areas": null,
       "grid_template_columns": null,
       "grid_template_rows": null,
       "height": null,
       "justify_content": null,
       "justify_items": null,
       "left": null,
       "margin": null,
       "max_height": null,
       "max_width": null,
       "min_height": null,
       "min_width": null,
       "object_fit": null,
       "object_position": null,
       "order": null,
       "overflow": null,
       "padding": null,
       "right": null,
       "top": null,
       "visibility": null,
       "width": null
      }
     },
     "86b816c2fe574453ac0b0d1efef2fbd0": {
      "model_module": "@jupyter-widgets/controls",
      "model_module_version": "2.0.0",
      "model_name": "HBoxModel",
      "state": {
       "_dom_classes": [],
       "_model_module": "@jupyter-widgets/controls",
       "_model_module_version": "2.0.0",
       "_model_name": "HBoxModel",
       "_view_count": null,
       "_view_module": "@jupyter-widgets/controls",
       "_view_module_version": "2.0.0",
       "_view_name": "HBoxView",
       "box_style": "",
       "children": [
        "IPY_MODEL_c9f1c555204748e1aeb053671c8a1dd6",
        "IPY_MODEL_50da4376fd91493ca7a7b86840399460",
        "IPY_MODEL_55e0efbef362445dba83dfed3db51b58"
       ],
       "layout": "IPY_MODEL_e999d519a3cf4bf094a77aa256296334",
       "tabbable": null,
       "tooltip": null
      }
     },
     "944cd0ef4ce84a71b14f9fcf5c47ac32": {
      "model_module": "@jupyter-widgets/base",
      "model_module_version": "2.0.0",
      "model_name": "LayoutModel",
      "state": {
       "_model_module": "@jupyter-widgets/base",
       "_model_module_version": "2.0.0",
       "_model_name": "LayoutModel",
       "_view_count": null,
       "_view_module": "@jupyter-widgets/base",
       "_view_module_version": "2.0.0",
       "_view_name": "LayoutView",
       "align_content": null,
       "align_items": null,
       "align_self": null,
       "border_bottom": null,
       "border_left": null,
       "border_right": null,
       "border_top": null,
       "bottom": null,
       "display": null,
       "flex": null,
       "flex_flow": null,
       "grid_area": null,
       "grid_auto_columns": null,
       "grid_auto_flow": null,
       "grid_auto_rows": null,
       "grid_column": null,
       "grid_gap": null,
       "grid_row": null,
       "grid_template_areas": null,
       "grid_template_columns": null,
       "grid_template_rows": null,
       "height": null,
       "justify_content": null,
       "justify_items": null,
       "left": null,
       "margin": null,
       "max_height": null,
       "max_width": null,
       "min_height": null,
       "min_width": null,
       "object_fit": null,
       "object_position": null,
       "order": null,
       "overflow": null,
       "padding": null,
       "right": null,
       "top": null,
       "visibility": null,
       "width": null
      }
     },
     "9625f022aa5744e584ad1f48c4ca0b05": {
      "model_module": "@jupyter-widgets/base",
      "model_module_version": "2.0.0",
      "model_name": "LayoutModel",
      "state": {
       "_model_module": "@jupyter-widgets/base",
       "_model_module_version": "2.0.0",
       "_model_name": "LayoutModel",
       "_view_count": null,
       "_view_module": "@jupyter-widgets/base",
       "_view_module_version": "2.0.0",
       "_view_name": "LayoutView",
       "align_content": null,
       "align_items": null,
       "align_self": null,
       "border_bottom": null,
       "border_left": null,
       "border_right": null,
       "border_top": null,
       "bottom": null,
       "display": null,
       "flex": null,
       "flex_flow": null,
       "grid_area": null,
       "grid_auto_columns": null,
       "grid_auto_flow": null,
       "grid_auto_rows": null,
       "grid_column": null,
       "grid_gap": null,
       "grid_row": null,
       "grid_template_areas": null,
       "grid_template_columns": null,
       "grid_template_rows": null,
       "height": null,
       "justify_content": null,
       "justify_items": null,
       "left": null,
       "margin": null,
       "max_height": null,
       "max_width": null,
       "min_height": null,
       "min_width": null,
       "object_fit": null,
       "object_position": null,
       "order": null,
       "overflow": null,
       "padding": null,
       "right": null,
       "top": null,
       "visibility": null,
       "width": null
      }
     },
     "a519bb5cf5004cafadcee1dea5c64236": {
      "model_module": "@jupyter-widgets/controls",
      "model_module_version": "2.0.0",
      "model_name": "FloatProgressModel",
      "state": {
       "_dom_classes": [],
       "_model_module": "@jupyter-widgets/controls",
       "_model_module_version": "2.0.0",
       "_model_name": "FloatProgressModel",
       "_view_count": null,
       "_view_module": "@jupyter-widgets/controls",
       "_view_module_version": "2.0.0",
       "_view_name": "ProgressView",
       "bar_style": "success",
       "description": "",
       "description_allow_html": false,
       "layout": "IPY_MODEL_7da49fbf309b4b6fb4202e16c835c477",
       "max": 7.0,
       "min": 0.0,
       "orientation": "horizontal",
       "style": "IPY_MODEL_c492bda6cc1e4c2889eda5418b58ce96",
       "tabbable": null,
       "tooltip": null,
       "value": 7.0
      }
     },
     "be79899b78c54990af211e021d3bafd3": {
      "model_module": "@jupyter-widgets/base",
      "model_module_version": "2.0.0",
      "model_name": "LayoutModel",
      "state": {
       "_model_module": "@jupyter-widgets/base",
       "_model_module_version": "2.0.0",
       "_model_name": "LayoutModel",
       "_view_count": null,
       "_view_module": "@jupyter-widgets/base",
       "_view_module_version": "2.0.0",
       "_view_name": "LayoutView",
       "align_content": null,
       "align_items": null,
       "align_self": null,
       "border_bottom": null,
       "border_left": null,
       "border_right": null,
       "border_top": null,
       "bottom": null,
       "display": null,
       "flex": null,
       "flex_flow": null,
       "grid_area": null,
       "grid_auto_columns": null,
       "grid_auto_flow": null,
       "grid_auto_rows": null,
       "grid_column": null,
       "grid_gap": null,
       "grid_row": null,
       "grid_template_areas": null,
       "grid_template_columns": null,
       "grid_template_rows": null,
       "height": null,
       "justify_content": null,
       "justify_items": null,
       "left": null,
       "margin": null,
       "max_height": null,
       "max_width": null,
       "min_height": null,
       "min_width": null,
       "object_fit": null,
       "object_position": null,
       "order": null,
       "overflow": null,
       "padding": null,
       "right": null,
       "top": null,
       "visibility": null,
       "width": null
      }
     },
     "c492bda6cc1e4c2889eda5418b58ce96": {
      "model_module": "@jupyter-widgets/controls",
      "model_module_version": "2.0.0",
      "model_name": "ProgressStyleModel",
      "state": {
       "_model_module": "@jupyter-widgets/controls",
       "_model_module_version": "2.0.0",
       "_model_name": "ProgressStyleModel",
       "_view_count": null,
       "_view_module": "@jupyter-widgets/base",
       "_view_module_version": "2.0.0",
       "_view_name": "StyleView",
       "bar_color": null,
       "description_width": ""
      }
     },
     "c9f1c555204748e1aeb053671c8a1dd6": {
      "model_module": "@jupyter-widgets/controls",
      "model_module_version": "2.0.0",
      "model_name": "HTMLModel",
      "state": {
       "_dom_classes": [],
       "_model_module": "@jupyter-widgets/controls",
       "_model_module_version": "2.0.0",
       "_model_name": "HTMLModel",
       "_view_count": null,
       "_view_module": "@jupyter-widgets/controls",
       "_view_module_version": "2.0.0",
       "_view_name": "HTMLView",
       "description": "",
       "description_allow_html": false,
       "layout": "IPY_MODEL_56100cfd21274a7ea5a9a34606d5c568",
       "placeholder": "​",
       "style": "IPY_MODEL_5c3cff70ce9048619ff2984f72ffe143",
       "tabbable": null,
       "tooltip": null,
       "value": "100%"
      }
     },
     "d6acfb5e1e844eebb1395122232a15a3": {
      "model_module": "@jupyter-widgets/controls",
      "model_module_version": "2.0.0",
      "model_name": "HTMLStyleModel",
      "state": {
       "_model_module": "@jupyter-widgets/controls",
       "_model_module_version": "2.0.0",
       "_model_name": "HTMLStyleModel",
       "_view_count": null,
       "_view_module": "@jupyter-widgets/base",
       "_view_module_version": "2.0.0",
       "_view_name": "StyleView",
       "background": null,
       "description_width": "",
       "font_size": null,
       "text_color": null
      }
     },
     "e263c2939d6047bfaf9a07c0248a3e43": {
      "model_module": "@jupyter-widgets/controls",
      "model_module_version": "2.0.0",
      "model_name": "ProgressStyleModel",
      "state": {
       "_model_module": "@jupyter-widgets/controls",
       "_model_module_version": "2.0.0",
       "_model_name": "ProgressStyleModel",
       "_view_count": null,
       "_view_module": "@jupyter-widgets/base",
       "_view_module_version": "2.0.0",
       "_view_name": "StyleView",
       "bar_color": null,
       "description_width": ""
      }
     },
     "e999d519a3cf4bf094a77aa256296334": {
      "model_module": "@jupyter-widgets/base",
      "model_module_version": "2.0.0",
      "model_name": "LayoutModel",
      "state": {
       "_model_module": "@jupyter-widgets/base",
       "_model_module_version": "2.0.0",
       "_model_name": "LayoutModel",
       "_view_count": null,
       "_view_module": "@jupyter-widgets/base",
       "_view_module_version": "2.0.0",
       "_view_name": "LayoutView",
       "align_content": null,
       "align_items": null,
       "align_self": null,
       "border_bottom": null,
       "border_left": null,
       "border_right": null,
       "border_top": null,
       "bottom": null,
       "display": null,
       "flex": null,
       "flex_flow": null,
       "grid_area": null,
       "grid_auto_columns": null,
       "grid_auto_flow": null,
       "grid_auto_rows": null,
       "grid_column": null,
       "grid_gap": null,
       "grid_row": null,
       "grid_template_areas": null,
       "grid_template_columns": null,
       "grid_template_rows": null,
       "height": null,
       "justify_content": null,
       "justify_items": null,
       "left": null,
       "margin": null,
       "max_height": null,
       "max_width": null,
       "min_height": null,
       "min_width": null,
       "object_fit": null,
       "object_position": null,
       "order": null,
       "overflow": null,
       "padding": null,
       "right": null,
       "top": null,
       "visibility": null,
       "width": null
      }
     },
     "e9e616ba5ce7420c9982706972e5524c": {
      "model_module": "@jupyter-widgets/controls",
      "model_module_version": "2.0.0",
      "model_name": "HTMLStyleModel",
      "state": {
       "_model_module": "@jupyter-widgets/controls",
       "_model_module_version": "2.0.0",
       "_model_name": "HTMLStyleModel",
       "_view_count": null,
       "_view_module": "@jupyter-widgets/base",
       "_view_module_version": "2.0.0",
       "_view_name": "StyleView",
       "background": null,
       "description_width": "",
       "font_size": null,
       "text_color": null
      }
     },
     "fb79a5cc6f0d449ea542dc280d579e7c": {
      "model_module": "@jupyter-widgets/base",
      "model_module_version": "2.0.0",
      "model_name": "LayoutModel",
      "state": {
       "_model_module": "@jupyter-widgets/base",
       "_model_module_version": "2.0.0",
       "_model_name": "LayoutModel",
       "_view_count": null,
       "_view_module": "@jupyter-widgets/base",
       "_view_module_version": "2.0.0",
       "_view_name": "LayoutView",
       "align_content": null,
       "align_items": null,
       "align_self": null,
       "border_bottom": null,
       "border_left": null,
       "border_right": null,
       "border_top": null,
       "bottom": null,
       "display": null,
       "flex": null,
       "flex_flow": null,
       "grid_area": null,
       "grid_auto_columns": null,
       "grid_auto_flow": null,
       "grid_auto_rows": null,
       "grid_column": null,
       "grid_gap": null,
       "grid_row": null,
       "grid_template_areas": null,
       "grid_template_columns": null,
       "grid_template_rows": null,
       "height": null,
       "justify_content": null,
       "justify_items": null,
       "left": null,
       "margin": null,
       "max_height": null,
       "max_width": null,
       "min_height": null,
       "min_width": null,
       "object_fit": null,
       "object_position": null,
       "order": null,
       "overflow": null,
       "padding": null,
       "right": null,
       "top": null,
       "visibility": null,
       "width": null
      }
     }
    },
    "version_major": 2,
    "version_minor": 0
   }
  }
 },
 "nbformat": 4,
 "nbformat_minor": 5
}
