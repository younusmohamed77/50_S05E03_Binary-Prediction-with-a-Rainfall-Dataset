{
 "cells": [
  {
   "cell_type": "code",
   "execution_count": 1,
   "id": "b87ae843",
   "metadata": {
    "execution": {
     "iopub.execute_input": "2025-03-24T11:16:25.541802Z",
     "iopub.status.busy": "2025-03-24T11:16:25.541588Z",
     "iopub.status.idle": "2025-03-24T11:16:38.598499Z",
     "shell.execute_reply": "2025-03-24T11:16:38.597506Z"
    },
    "papermill": {
     "duration": 13.063335,
     "end_time": "2025-03-24T11:16:38.600045",
     "exception": false,
     "start_time": "2025-03-24T11:16:25.536710",
     "status": "completed"
    },
    "tags": []
   },
   "outputs": [
    {
     "name": "stdout",
     "output_type": "stream",
     "text": [
      "GPUs Available: [PhysicalDevice(name='/physical_device:GPU:0', device_type='GPU'), PhysicalDevice(name='/physical_device:GPU:1', device_type='GPU')]\n"
     ]
    }
   ],
   "source": [
    "# Check GPU availability\n",
    "import tensorflow as tf\n",
    "print(\"GPUs Available:\", tf.config.list_physical_devices('GPU'))"
   ]
  },
  {
   "cell_type": "code",
   "execution_count": 2,
   "id": "33e48ba6",
   "metadata": {
    "execution": {
     "iopub.execute_input": "2025-03-24T11:16:38.608395Z",
     "iopub.status.busy": "2025-03-24T11:16:38.607960Z",
     "iopub.status.idle": "2025-03-24T11:16:44.130205Z",
     "shell.execute_reply": "2025-03-24T11:16:44.129535Z"
    },
    "papermill": {
     "duration": 5.527886,
     "end_time": "2025-03-24T11:16:44.131832",
     "exception": false,
     "start_time": "2025-03-24T11:16:38.603946",
     "status": "completed"
    },
    "tags": []
   },
   "outputs": [],
   "source": [
    "# !pip install scikeras --quiet\n",
    "# !pip install keras-tuner --quiet\n",
    "\n",
    "import keras_tuner as kt\n",
    "import matplotlib.pyplot as plt\n",
    "import numpy as np\n",
    "import pandas as pd\n",
    "import seaborn as sns\n",
    "import tensorflow as tf\n",
    "\n",
    "from catboost import CatBoostClassifier\n",
    "from lightgbm import LGBMClassifier\n",
    "# from scikeras.wrappers import KerasClassifier\n",
    "from sklearn.ensemble import ExtraTreesClassifier, RandomForestClassifier\n",
    "from sklearn.impute import SimpleImputer\n",
    "from sklearn.linear_model import LogisticRegression\n",
    "from sklearn.metrics import roc_auc_score\n",
    "from sklearn.model_selection import RandomizedSearchCV, StratifiedKFold\n",
    "from sklearn.neighbors import KNeighborsClassifier\n",
    "from sklearn.pipeline import Pipeline\n",
    "from sklearn.preprocessing import PolynomialFeatures, StandardScaler\n",
    "from sklearn.svm import SVC\n",
    "from sklearn.tree import DecisionTreeClassifier\n",
    "# from tensorflow.keras.layers import Dense, Dropout\n",
    "# from tensorflow.keras.models import Sequential\n",
    "from tensorflow import keras\n",
    "from tensorflow.keras import layers\n",
    "from tensorflow.keras.optimizers import Adam, RMSprop\n",
    "from xgboost import XGBClassifier\n",
    "\n",
    "tf.random.set_seed(42)\n",
    "np.random.seed(42)\n",
    "\n",
    "import warnings\n",
    "warnings.filterwarnings('ignore')\n",
    "\n",
    "%matplotlib inline"
   ]
  },
  {
   "cell_type": "code",
   "execution_count": 3,
   "id": "d84e1345",
   "metadata": {
    "execution": {
     "iopub.execute_input": "2025-03-24T11:16:44.140541Z",
     "iopub.status.busy": "2025-03-24T11:16:44.139880Z",
     "iopub.status.idle": "2025-03-24T11:16:44.183322Z",
     "shell.execute_reply": "2025-03-24T11:16:44.182733Z"
    },
    "papermill": {
     "duration": 0.048989,
     "end_time": "2025-03-24T11:16:44.184623",
     "exception": false,
     "start_time": "2025-03-24T11:16:44.135634",
     "status": "completed"
    },
    "tags": []
   },
   "outputs": [],
   "source": [
    "# Load and optimize data\n",
    "def reduce_memory_usage(df):\n",
    "    \"\"\"Downcasts numeric columns to reduce memory usage.\"\"\"\n",
    "    for col in df.select_dtypes(include=['int64', 'float64']).columns:\n",
    "        df[col] = pd.to_numeric(df[col], downcast='float')\n",
    "    return df\n",
    "\n",
    "train = pd.read_csv('/kaggle/input/playground-series-s5e3/train.csv')\n",
    "test = pd.read_csv('/kaggle/input/playground-series-s5e3/test.csv')\n",
    "\n",
    "train = reduce_memory_usage(train)\n",
    "test = reduce_memory_usage(test)\n",
    "\n",
    "# Split training data into features and target\n",
    "X = train.drop(['id', 'rainfall'], axis=1)\n",
    "y = train['rainfall']\n",
    "\n",
    "# Save test ids and features\n",
    "test_ids = test['id']\n",
    "X_test = test.drop(['id'], axis=1)"
   ]
  },
  {
   "cell_type": "markdown",
   "id": "298ff7ac",
   "metadata": {
    "papermill": {
     "duration": 0.003183,
     "end_time": "2025-03-24T11:16:44.191133",
     "exception": false,
     "start_time": "2025-03-24T11:16:44.187950",
     "status": "completed"
    },
    "tags": []
   },
   "source": [
    "## Extended Feature Engineering Functions\n",
    "We define functions to generate advanced features.  \n",
    "- **advanced_features** creates date‑based, periodic, and interaction/ratio features, and computes lag features for training data.  \n",
    "- **additional_poly_features** generates degree‑2 polynomial features for selected key columns (after imputing missing values).  \n",
    "- **rolling_features** computes rolling (7‑day and 14‑day) statistics for all numeric columns.\n"
   ]
  },
  {
   "cell_type": "code",
   "execution_count": 4,
   "id": "21b22ba2",
   "metadata": {
    "execution": {
     "iopub.execute_input": "2025-03-24T11:16:44.198494Z",
     "iopub.status.busy": "2025-03-24T11:16:44.198252Z",
     "iopub.status.idle": "2025-03-24T11:16:44.210870Z",
     "shell.execute_reply": "2025-03-24T11:16:44.210264Z"
    },
    "papermill": {
     "duration": 0.017602,
     "end_time": "2025-03-24T11:16:44.212078",
     "exception": false,
     "start_time": "2025-03-24T11:16:44.194476",
     "status": "completed"
    },
    "tags": []
   },
   "outputs": [],
   "source": [
    "def advanced_features(df, is_train=False, target_series=None):\n",
    "    \"\"\"\n",
    "    Create advanced features:\n",
    "      - Build a date from 'day' (assume day=1 corresponds to 2024-01-01)\n",
    "      - Extract date-based features (month, day_of_year, week_of_year, quarter, day_of_week, is_weekend)\n",
    "      - Create periodic features (sine & cosine transforms)\n",
    "      - Compute interaction/ratio features (e.g., temp_range, humidity_cloud_ratio)\n",
    "      - For training data, compute lag features (gap_before_rain, gap_after_rain)\n",
    "    \"\"\"\n",
    "    df = df.copy()\n",
    "    base_date = pd.to_datetime('2024-01-01')\n",
    "    df['date'] = base_date + pd.to_timedelta(df['day'] - 1, unit='D')\n",
    "    df['month'] = df['date'].dt.month\n",
    "    df['day_of_year'] = df['date'].dt.dayofyear\n",
    "    df['week_of_year'] = df['date'].dt.isocalendar().week.astype(int)\n",
    "    df['quarter'] = df['date'].dt.quarter\n",
    "    df['day_of_week'] = df['date'].dt.weekday\n",
    "    df['is_weekend'] = df['day_of_week'].isin([5,6]).astype(int)\n",
    "    df['day_sin'] = np.sin(2 * np.pi * df['day_of_year'] / 365)\n",
    "    df['day_cos'] = np.cos(2 * np.pi * df['day_of_year'] / 365)\n",
    "    df['month_sin'] = np.sin(2 * np.pi * df['month'] / 12)\n",
    "    df['month_cos'] = np.cos(2 * np.pi * df['month'] / 12)\n",
    "    if 'maxtemp' in df.columns and 'mintemp' in df.columns:\n",
    "        df['temp_range'] = df['maxtemp'] - df['mintemp']\n",
    "    if 'temparature' in df.columns and 'dewpoint' in df.columns:\n",
    "        df['temp_dew_diff'] = df['temparature'] - df['dewpoint']\n",
    "    if 'humidity' in df.columns and 'cloud' in df.columns:\n",
    "        df['humidity_cloud_ratio'] = df['humidity'] / (df['cloud'] + 1e-3)\n",
    "    if 'sunshine' in df.columns and 'cloud' in df.columns:\n",
    "        df['sunshine_cloud_ratio'] = df['sunshine'] / (df['cloud'] + 1e-3)\n",
    "    if 'pressure' in df.columns and 'winddirection' in df.columns:\n",
    "        df['pressure_wind_interaction'] = df['pressure'] * df['winddirection']\n",
    "    if 'temparature' in df.columns and 'pressure' in df.columns:\n",
    "        df['temp_pressure_ratio'] = df['temparature'] / (df['pressure'] + 1e-3)\n",
    "    if 'windspeed' in df.columns and 'pressure' in df.columns:\n",
    "        df['wind_pressure_ratio'] = df['windspeed'] / (df['pressure'] + 1e-3)\n",
    "    if is_train:\n",
    "        if target_series is not None:\n",
    "            df['rainfall'] = target_series.values\n",
    "        df = df.sort_values('date').reset_index(drop=True)\n",
    "        df['rain_prev_day'] = df['rainfall'].shift(1).fillna(0)\n",
    "        df['rain_next_day'] = df['rainfall'].shift(-1).fillna(0)\n",
    "        df['gap_before_rain'] = df.groupby((df['rain_prev_day'] != df['rainfall']).cumsum()).cumcount()\n",
    "        df['gap_after_rain'] = df[::-1].groupby((df['rain_next_day'] != df['rainfall']).cumsum()).cumcount()\n",
    "        df.drop(['rain_prev_day', 'rain_next_day'], axis=1, inplace=True)\n",
    "    else:\n",
    "        df['gap_before_rain'] = 0\n",
    "        df['gap_after_rain'] = 0\n",
    "    df.drop(['date'], axis=1, inplace=True, errors='ignore')\n",
    "    return df\n",
    "\n",
    "def additional_poly_features(df, cols_to_expand):\n",
    "    \"\"\"\n",
    "    Generate polynomial features (degree 2) for selected columns.\n",
    "    Missing values are imputed (median) before transformation.\n",
    "    \"\"\"\n",
    "    df_imputed = df[cols_to_expand].fillna(df[cols_to_expand].median())\n",
    "    poly = PolynomialFeatures(degree=2, interaction_only=False, include_bias=False)\n",
    "    poly_features = poly.fit_transform(df_imputed)\n",
    "    poly_feature_names = poly.get_feature_names_out(cols_to_expand)\n",
    "    poly_df = pd.DataFrame(poly_features, columns=poly_feature_names, index=df.index)\n",
    "    return poly_df\n",
    "\n",
    "def rolling_features(df, window_sizes=[7, 14]):\n",
    "    \"\"\"\n",
    "    Generate rolling window statistics (mean and std) for all numeric columns.\n",
    "    Returns a DataFrame with new rolling features as 1D arrays.\n",
    "    \"\"\"\n",
    "    df_roll = pd.DataFrame(index=df.index)\n",
    "    for col in df.select_dtypes(include=[np.number]).columns:\n",
    "        series_col = df[col]\n",
    "        for window in window_sizes:\n",
    "            roll_mean = series_col.rolling(window=window, min_periods=1).mean().values\n",
    "            roll_std = series_col.rolling(window=window, min_periods=1).std().fillna(0).values\n",
    "            if roll_mean.ndim > 1:\n",
    "                roll_mean = roll_mean[:, 0]\n",
    "            if roll_std.ndim > 1:\n",
    "                roll_std = roll_std[:, 0]\n",
    "            df_roll[f'{col}_roll_mean_{window}'] = roll_mean\n",
    "            df_roll[f'{col}_roll_std_{window}'] = roll_std\n",
    "    return df_roll"
   ]
  },
  {
   "cell_type": "code",
   "execution_count": 5,
   "id": "2838f4e7",
   "metadata": {
    "execution": {
     "iopub.execute_input": "2025-03-24T11:16:44.219437Z",
     "iopub.status.busy": "2025-03-24T11:16:44.219240Z",
     "iopub.status.idle": "2025-03-24T11:16:44.784826Z",
     "shell.execute_reply": "2025-03-24T11:16:44.783919Z"
    },
    "papermill": {
     "duration": 0.570791,
     "end_time": "2025-03-24T11:16:44.786158",
     "exception": false,
     "start_time": "2025-03-24T11:16:44.215367",
     "status": "completed"
    },
    "tags": []
   },
   "outputs": [
    {
     "name": "stdout",
     "output_type": "stream",
     "text": [
      "Extended Train Shape: (2190, 435)\n",
      "Extended Test Shape: (730, 435)\n"
     ]
    }
   ],
   "source": [
    "def extended_features_train(df, target_series):\n",
    "    # Compute advanced features (lag features require target)\n",
    "    df_adv = advanced_features(df, is_train=True, target_series=target_series)\n",
    "    # Extract target\n",
    "    y_out = df_adv['rainfall']\n",
    "    # Drop target from features\n",
    "    df_adv = df_adv.drop(['rainfall'], axis=1)\n",
    "    \n",
    "    # Generate polynomial features on selected candidate columns\n",
    "    candidate_cols = ['maxtemp', 'mintemp', 'temparature', 'dewpoint', 'humidity', 'cloud', 'sunshine', 'pressure', 'winddirection', 'windspeed']\n",
    "    cols_for_poly = [col for col in candidate_cols if col in df_adv.columns]\n",
    "    if cols_for_poly:\n",
    "        poly_df = additional_poly_features(df_adv, cols_for_poly)\n",
    "        df_adv = pd.concat([df_adv, poly_df], axis=1)\n",
    "    \n",
    "    # Generate rolling window features\n",
    "    roll_df = rolling_features(df_adv, window_sizes=[7, 14])\n",
    "    df_adv = pd.concat([df_adv, roll_df], axis=1)\n",
    "    \n",
    "    return df_adv, y_out\n",
    "\n",
    "def extended_features_test(df):\n",
    "    # For test data, no lag features (target not available)\n",
    "    df_ext = advanced_features(df, is_train=False)\n",
    "    \n",
    "    candidate_cols = ['maxtemp', 'mintemp', 'temparature', 'dewpoint', 'humidity', 'cloud', 'sunshine', 'pressure', 'winddirection', 'windspeed']\n",
    "    cols_for_poly = [col for col in candidate_cols if col in df_ext.columns]\n",
    "    if cols_for_poly:\n",
    "        poly_df = additional_poly_features(df_ext, cols_for_poly)\n",
    "        df_ext = pd.concat([df_ext, poly_df], axis=1)\n",
    "    \n",
    "    roll_df = rolling_features(df_ext, window_sizes=[7, 14])\n",
    "    df_ext = pd.concat([df_ext, roll_df], axis=1)\n",
    "    \n",
    "    return df_ext\n",
    "\n",
    "# Apply extended feature engineering\n",
    "train_ext, y_ext = extended_features_train(pd.concat([X, y], axis=1), target_series=y)\n",
    "X_ext_full = train_ext.copy()\n",
    "X_test_ext_full = extended_features_test(X_test)\n",
    "\n",
    "# Align columns between training and test sets (fill missing columns with 0)\n",
    "all_cols = X_ext_full.columns.union(X_test_ext_full.columns)\n",
    "X_ext_full = X_ext_full.reindex(columns=all_cols, fill_value=0)\n",
    "X_test_ext_full = X_test_ext_full.reindex(columns=all_cols, fill_value=0)\n",
    "\n",
    "print(\"Extended Train Shape:\", X_ext_full.shape)\n",
    "print(\"Extended Test Shape:\", X_test_ext_full.shape)"
   ]
  },
  {
   "cell_type": "code",
   "execution_count": 6,
   "id": "25713481",
   "metadata": {
    "execution": {
     "iopub.execute_input": "2025-03-24T11:16:44.794340Z",
     "iopub.status.busy": "2025-03-24T11:16:44.794118Z",
     "iopub.status.idle": "2025-03-24T11:16:45.274033Z",
     "shell.execute_reply": "2025-03-24T11:16:45.273227Z"
    },
    "papermill": {
     "duration": 0.485561,
     "end_time": "2025-03-24T11:16:45.275391",
     "exception": false,
     "start_time": "2025-03-24T11:16:44.789830",
     "status": "completed"
    },
    "tags": []
   },
   "outputs": [
    {
     "data": {
      "image/png": "[encoded data removed]",
      "text/plain": [
       "<Figure size 640x480 with 1 Axes>"
      ]
     },
     "metadata": {},
     "output_type": "display_data"
    },
    {
     "data": {
      "image/png": "[encoded data removed]",
      "text/plain": [
       "<Figure size 640x480 with 1 Axes>"
      ]
     },
     "metadata": {},
     "output_type": "display_data"
    }
   ],
   "source": [
    "# Plot a sample polynomial feature (if exists)\n",
    "sample_poly = [col for col in X_ext_full.columns if 'temparature' in col and '^2' in col]\n",
    "if sample_poly:\n",
    "    sns.histplot(X_ext_full[sample_poly[0]], kde=True)\n",
    "    plt.title(f\"Distribution of {sample_poly[0]}\")\n",
    "    plt.show()\n",
    "\n",
    "# Plot a sample rolling feature, e.g., temparature_roll_mean_7, if it exists\n",
    "if 'temparature_roll_mean_7' in X_ext_full.columns:\n",
    "    sns.histplot(X_ext_full['temparature_roll_mean_7'], kde=True)\n",
    "    plt.title(\"Distribution of temparature_roll_mean_7\")\n",
    "    plt.show()"
   ]
  },
  {
   "cell_type": "markdown",
   "id": "bdacbab2",
   "metadata": {
    "papermill": {
     "duration": 0.005187,
     "end_time": "2025-03-24T11:16:45.285622",
     "exception": false,
     "start_time": "2025-03-24T11:16:45.280435",
     "status": "completed"
    },
    "tags": []
   },
   "source": [
    "## Outlier Treatment (IQR Method)\n",
    "\n",
    "We apply IQR-based clipping to reduce the impact of extreme values in the engineered features.\n"
   ]
  },
  {
   "cell_type": "code",
   "execution_count": 7,
   "id": "59cd9beb",
   "metadata": {
    "execution": {
     "iopub.execute_input": "2025-03-24T11:16:45.295531Z",
     "iopub.status.busy": "2025-03-24T11:16:45.295278Z",
     "iopub.status.idle": "2025-03-24T11:16:46.195095Z",
     "shell.execute_reply": "2025-03-24T11:16:46.194374Z"
    },
    "papermill": {
     "duration": 0.906482,
     "end_time": "2025-03-24T11:16:46.196585",
     "exception": false,
     "start_time": "2025-03-24T11:16:45.290103",
     "status": "completed"
    },
    "tags": []
   },
   "outputs": [],
   "source": [
    "def treat_outliers_iqr(df):\n",
    "    df = df.copy()\n",
    "    for col in df.select_dtypes(include=[np.number]).columns:\n",
    "        series = df[col].squeeze()  # Ensure it's a 1D array/Series\n",
    "        Q1 = np.nanquantile(series, 0.25)\n",
    "        Q3 = np.nanquantile(series, 0.75)\n",
    "        IQR = Q3 - Q1\n",
    "        lower = Q1 - 1.5 * IQR\n",
    "        upper = Q3 + 1.5 * IQR\n",
    "        # Convert to NumPy array, clip, and assign back\n",
    "        df[col] = np.clip(series.values, lower, upper)\n",
    "    return df\n",
    "\n",
    "# Now apply the function on the extended feature sets:\n",
    "X_ext_iqr = treat_outliers_iqr(X_ext_full)\n",
    "X_test_ext_iqr = treat_outliers_iqr(X_test_ext_full)"
   ]
  },
  {
   "cell_type": "markdown",
   "id": "13a3f971",
   "metadata": {
    "papermill": {
     "duration": 0.00468,
     "end_time": "2025-03-24T11:16:46.206262",
     "exception": false,
     "start_time": "2025-03-24T11:16:46.201582",
     "status": "completed"
    },
    "tags": []
   },
   "source": [
    "## Define Pipeline Function for Model Training and Submission\n",
    "We build a pipeline (imputation → scaling → model), perform hyperparameter tuning with RandomizedSearchCV, and save a submission file.  \n",
    "Before prediction, we reindex the test set to match the training set columns."
   ]
  },
  {
   "cell_type": "code",
   "execution_count": 8,
   "id": "452b5d62",
   "metadata": {
    "execution": {
     "iopub.execute_input": "2025-03-24T11:16:46.216409Z",
     "iopub.status.busy": "2025-03-24T11:16:46.216167Z",
     "iopub.status.idle": "2025-03-24T11:16:46.221432Z",
     "shell.execute_reply": "2025-03-24T11:16:46.220799Z"
    },
    "papermill": {
     "duration": 0.011855,
     "end_time": "2025-03-24T11:16:46.222664",
     "exception": false,
     "start_time": "2025-03-24T11:16:46.210809",
     "status": "completed"
    },
    "tags": []
   },
   "outputs": [],
   "source": [
    "def train_and_submit(X_train, y_train, X_pred, model, param_dist, model_name):\n",
    "    pipeline = Pipeline([\n",
    "        ('imputer', SimpleImputer(strategy='median')),\n",
    "        ('scaler', StandardScaler()),\n",
    "        ('clf', model)\n",
    "    ])\n",
    "    \n",
    "    cv = StratifiedKFold(n_splits=5, shuffle=True, random_state=42)\n",
    "    search = RandomizedSearchCV(pipeline, param_dist, n_iter=20, scoring='roc_auc', cv=cv, random_state=42, n_jobs=-1)\n",
    "    search.fit(X_train, y_train)\n",
    "    \n",
    "    best_score = search.best_score_\n",
    "    print(f\"Best CV ROC AUC for {model_name}: {best_score:.4f}\")\n",
    "    print(\"Best Params:\", search.best_params_)\n",
    "    \n",
    "    # Align test set columns to match training set\n",
    "    training_cols = X_train.columns\n",
    "    X_pred_aligned = X_pred.reindex(columns=training_cols, fill_value=0)\n",
    "    \n",
    "    try:\n",
    "        preds = search.predict_proba(X_pred_aligned.values)[:, 1]\n",
    "    except Exception as e:\n",
    "        print(f\"Error in predict_proba for {model_name}: {e}\")\n",
    "        preds = np.full(len(X_pred_aligned), 0.5)\n",
    "    \n",
    "    submission = pd.DataFrame({'id': test_ids, 'rainfall': preds})\n",
    "    submission.to_csv(f\"{model_name}_submission.csv\", index=False)\n",
    "    return best_score"
   ]
  },
  {
   "cell_type": "markdown",
   "id": "ba7ee248",
   "metadata": {
    "papermill": {
     "duration": 0.004423,
     "end_time": "2025-03-24T11:16:46.231660",
     "exception": false,
     "start_time": "2025-03-24T11:16:46.227237",
     "status": "completed"
    },
    "tags": []
   },
   "source": [
    "## Train Multiple Models (Excluding DNN)\n",
    "\n",
    "We define parameter grids for each model and then loop over each model to perform hyperparameter tuning and save a submission file."
   ]
  },
  {
   "cell_type": "code",
   "execution_count": 9,
   "id": "5684b32e",
   "metadata": {
    "execution": {
     "iopub.execute_input": "2025-03-24T11:16:46.241873Z",
     "iopub.status.busy": "2025-03-24T11:16:46.241635Z",
     "iopub.status.idle": "2025-03-24T11:24:39.203319Z",
     "shell.execute_reply": "2025-03-24T11:24:39.202278Z"
    },
    "papermill": {
     "duration": 472.972937,
     "end_time": "2025-03-24T11:24:39.209195",
     "exception": false,
     "start_time": "2025-03-24T11:16:46.236258",
     "status": "completed"
    },
    "tags": []
   },
   "outputs": [
    {
     "name": "stdout",
     "output_type": "stream",
     "text": [
      "\n",
      "Training LogisticRegression on Extended IQR-treated & Standard Scaled features:\n",
      "Best CV ROC AUC for LogisticRegression: 0.9369\n",
      "Best Params: {'clf__solver': 'lbfgs', 'clf__C': 0.1668100537200059}\n",
      "\n",
      "Training DecisionTree on Extended IQR-treated & Standard Scaled features:\n",
      "Best CV ROC AUC for DecisionTree: 0.8904\n",
      "Best Params: {'clf__min_samples_split': 2, 'clf__max_depth': 3}\n",
      "\n",
      "Training ExtraTrees on Extended IQR-treated & Standard Scaled features:\n",
      "Best CV ROC AUC for ExtraTrees: 0.9118\n",
      "Best Params: {'clf__n_estimators': 100, 'clf__max_depth': 7}\n",
      "\n",
      "Training RandomForest on Extended IQR-treated & Standard Scaled features:\n",
      "Best CV ROC AUC for RandomForest: 0.9202\n",
      "Best Params: {'clf__n_estimators': 100, 'clf__max_depth': 7}\n",
      "\n",
      "Training XGBoost on Extended IQR-treated & Standard Scaled features:\n",
      "Best CV ROC AUC for XGBoost: 0.9478\n",
      "Best Params: {'clf__n_estimators': 50, 'clf__max_depth': 3}\n",
      "\n",
      "Training CatBoost on Extended IQR-treated & Standard Scaled features:\n",
      "Best CV ROC AUC for CatBoost: 0.9479\n",
      "Best Params: {'clf__iterations': 200, 'clf__depth': 4}\n",
      "\n",
      "Training LGBM on Extended IQR-treated & Standard Scaled features:\n",
      "[LightGBM] [Info] Number of positive: 1650, number of negative: 540\n",
      "[LightGBM] [Info] Auto-choosing col-wise multi-threading, the overhead of testing was 0.005768 seconds.\n",
      "You can set `force_col_wise=true` to remove the overhead.\n",
      "[LightGBM] [Info] Total Bins 98597\n",
      "[LightGBM] [Info] Number of data points in the train set: 2190, number of used features: 426\n",
      "[LightGBM] [Info] [binary:BoostFromScore]: pavg=0.753425 -> initscore=1.116961\n",
      "[LightGBM] [Info] Start training from score 1.116961\n",
      "Best CV ROC AUC for LGBM: 0.9455\n",
      "Best Params: {'clf__num_leaves': 31, 'clf__n_estimators': 150}\n",
      "\n",
      "Training KNN on Extended IQR-treated & Standard Scaled features:\n",
      "Best CV ROC AUC for KNN: 0.8306\n",
      "Best Params: {'clf__weights': 'distance', 'clf__n_neighbors': 7}\n",
      "\n",
      "Training SVC on Extended IQR-treated & Standard Scaled features:\n",
      "Best CV ROC AUC for SVC: 0.9325\n",
      "Best Params: {'clf__kernel': 'linear', 'clf__C': 0.1}\n"
     ]
    }
   ],
   "source": [
    "# Define parameter grids for each model:\n",
    "param_grids = {\n",
    "    'LogisticRegression': {\n",
    "        'clf__C': np.logspace(-3, 2, 10),\n",
    "        'clf__solver': ['lbfgs', 'liblinear']\n",
    "    },\n",
    "    'DecisionTree': {\n",
    "        'clf__max_depth': [3, 5, 7, None],\n",
    "        'clf__min_samples_split': [2, 5, 10]\n",
    "    },\n",
    "    'ExtraTrees': {\n",
    "        'clf__n_estimators': [50, 100, 150],\n",
    "        'clf__max_depth': [5, 7, None]\n",
    "    },\n",
    "    'RandomForest': {\n",
    "        'clf__n_estimators': [50, 100, 150],\n",
    "        'clf__max_depth': [5, 7, None]\n",
    "    },\n",
    "    'XGBoost': {\n",
    "        'clf__n_estimators': [50, 100, 150],\n",
    "        'clf__max_depth': [3, 5, 7]\n",
    "    },\n",
    "    'CatBoost': {\n",
    "        'clf__iterations': [100, 200],\n",
    "        'clf__depth': [4, 6]\n",
    "    },\n",
    "    'LGBM': {\n",
    "        'clf__num_leaves': [31, 50],\n",
    "        'clf__n_estimators': [50, 100, 150]\n",
    "    },\n",
    "    'KNN': {\n",
    "        'clf__n_neighbors': [3, 5, 7],\n",
    "        'clf__weights': ['uniform', 'distance']\n",
    "    },\n",
    "    'SVC': {\n",
    "        'clf__C': [0.1, 1, 10],\n",
    "        'clf__kernel': ['linear', 'rbf']\n",
    "    }\n",
    "}\n",
    "\n",
    "models = {\n",
    "    'LogisticRegression': LogisticRegression(max_iter=1000, random_state=42),\n",
    "    'DecisionTree': DecisionTreeClassifier(random_state=42),\n",
    "    'ExtraTrees': ExtraTreesClassifier(random_state=42, n_jobs=-1),\n",
    "    'RandomForest': RandomForestClassifier(random_state=42, n_jobs=-1),\n",
    "    'XGBoost': XGBClassifier(eval_metric='logloss', use_label_encoder=False, random_state=42),\n",
    "    'CatBoost': CatBoostClassifier(verbose=0, random_state=42),\n",
    "    'LGBM': LGBMClassifier(random_state=42),\n",
    "    'KNN': KNeighborsClassifier(),\n",
    "    'SVC': SVC(probability=True, random_state=42)\n",
    "}\n",
    "\n",
    "model_results = {}\n",
    "for model_name, model in models.items():\n",
    "    print(f\"\\nTraining {model_name} on Extended IQR-treated & Standard Scaled features:\")\n",
    "    auc = train_and_submit(X_ext_iqr, y_ext, X_test_ext_iqr, model, param_grids[model_name], model_name)\n",
    "    model_results[model_name] = auc"
   ]
  },
  {
   "cell_type": "markdown",
   "id": "253af5ab",
   "metadata": {
    "papermill": {
     "duration": 0.00502,
     "end_time": "2025-03-24T11:24:39.219714",
     "exception": false,
     "start_time": "2025-03-24T11:24:39.214694",
     "status": "completed"
    },
    "tags": []
   },
   "source": [
    "## Graphical Comparison of Model Performances\n",
    "\n",
    "We create a bar plot comparing the ROC AUC scores of all models trained on the extended features."
   ]
  },
  {
   "cell_type": "code",
   "execution_count": 10,
   "id": "1a8da916",
   "metadata": {
    "execution": {
     "iopub.execute_input": "2025-03-24T11:24:39.230870Z",
     "iopub.status.busy": "2025-03-24T11:24:39.230588Z",
     "iopub.status.idle": "2025-03-24T11:24:39.425556Z",
     "shell.execute_reply": "2025-03-24T11:24:39.424645Z"
    },
    "papermill": {
     "duration": 0.202102,
     "end_time": "2025-03-24T11:24:39.426874",
     "exception": false,
     "start_time": "2025-03-24T11:24:39.224772",
     "status": "completed"
    },
    "tags": []
   },
   "outputs": [
    {
     "data": {
      "image/png": "[encoded data removed]",
      "text/plain": [
       "<Figure size 1000x600 with 1 Axes>"
      ]
     },
     "metadata": {},
     "output_type": "display_data"
    }
   ],
   "source": [
    "results_df = pd.DataFrame(model_results.items(), columns=['Model', 'AUC']).sort_values(by='AUC', ascending=False)\n",
    "plt.figure(figsize=(10, 6))\n",
    "sns.barplot(x='AUC', y='Model', data=results_df, palette='viridis')\n",
    "plt.title('Model Comparison (Extended Features, IQR-treated & Standard Scaled)')\n",
    "plt.xlabel('ROC AUC')\n",
    "plt.xlim(0.75, 1.0)\n",
    "plt.show()"
   ]
  },
  {
   "cell_type": "code",
   "execution_count": 11,
   "id": "6cdf97de",
   "metadata": {
    "execution": {
     "iopub.execute_input": "2025-03-24T11:24:39.439623Z",
     "iopub.status.busy": "2025-03-24T11:24:39.439344Z",
     "iopub.status.idle": "2025-03-24T11:24:39.446697Z",
     "shell.execute_reply": "2025-03-24T11:24:39.446066Z"
    },
    "papermill": {
     "duration": 0.014947,
     "end_time": "2025-03-24T11:24:39.447931",
     "exception": false,
     "start_time": "2025-03-24T11:24:39.432984",
     "status": "completed"
    },
    "tags": []
   },
   "outputs": [
    {
     "name": "stdout",
     "output_type": "stream",
     "text": [
      "Best scoring model: CatBoost\n",
      "Copied CatBoost_submission.csv as 'submission.csv'\n",
      "\n",
      " All individual model submissions saved:\n",
      "- LogisticRegression_submission.csv\n",
      "- DecisionTree_submission.csv\n",
      "- ExtraTrees_submission.csv\n",
      "- RandomForest_submission.csv\n",
      "- XGBoost_submission.csv\n",
      "- CatBoost_submission.csv\n",
      "- LGBM_submission.csv\n",
      "- KNN_submission.csv\n",
      "- SVC_submission.csv\n"
     ]
    }
   ],
   "source": [
    "import shutil\n",
    "\n",
    "# Map model names to their saved submission filenames\n",
    "submission_files = {\n",
    "    'LogisticRegression': \"LogisticRegression_submission.csv\",\n",
    "    'DecisionTree': \"DecisionTree_submission.csv\",\n",
    "    'ExtraTrees': \"ExtraTrees_submission.csv\",\n",
    "    'RandomForest': \"RandomForest_submission.csv\",\n",
    "    'XGBoost': \"XGBoost_submission.csv\",\n",
    "    'CatBoost': \"CatBoost_submission.csv\",\n",
    "    'LGBM': \"LGBM_submission.csv\",\n",
    "    'KNN': \"KNN_submission.csv\",\n",
    "    'SVC': \"SVC_submission.csv\"\n",
    "}\n",
    "\n",
    "# Identify best model based on AUC scores\n",
    "best_model = max(model_results, key=model_results.get)\n",
    "best_submission_file = submission_files.get(best_model)\n",
    "\n",
    "# Save best model's submission as 'submission.csv'\n",
    "if best_submission_file is None:\n",
    "    raise ValueError(\"Best model submission file not found.\")\n",
    "else:\n",
    "    shutil.copy(best_submission_file, \"submission.csv\")\n",
    "    print(f\"Best scoring model: {best_model}\")\n",
    "    print(f\"Copied {best_submission_file} as 'submission.csv'\")\n",
    "\n",
    "# Confirm all individual model submission files exist\n",
    "print(\"\\n All individual model submissions saved:\")\n",
    "for model, filename in submission_files.items():\n",
    "    print(f\"- {filename}\")"
   ]
  },
  {
   "cell_type": "markdown",
   "id": "e453a85e",
   "metadata": {
    "papermill": {
     "duration": 0.005689,
     "end_time": "2025-03-24T11:24:39.460797",
     "exception": false,
     "start_time": "2025-03-24T11:24:39.455108",
     "status": "completed"
    },
    "tags": []
   },
   "source": [
    "## Conclusion\n",
    "\n",
    "### Conclusion\n",
    "- **Extended Feature Engineering:**  \n",
    "  We created an extensive feature set (over 100 new features) by combining:\n",
    "    - Advanced date‑based features and periodic transformations,\n",
    "    - Interaction/ratio features,\n",
    "    - Polynomial features (degree 2) on key numeric columns,\n",
    "    - Rolling window statistics (7‑day and 14‑day).\n",
    "  For training, we computed lag features and then dropped the target (and any target‑derived rolling features) so that train and test have identical columns.\n",
    "\n",
    "- **Outlier Treatment:**  \n",
    "  IQR‑based clipping was applied to the extended feature set.\n",
    "\n",
    "- **Modeling:**  \n",
    "  Multiple models (Logistic Regression, Decision Tree, ExtraTrees, RandomForest, XGBoost, CatBoost, LGBM, KNN, and SVC) were trained using RandomizedSearchCV with 5‑fold cross‑validation.\n",
    "\n",
    "- **Performance Comparison:**  \n",
    "  A bar plot visualizes the ROC AUC scores.\n",
    "\n",
    "- **Final Submission:**  \n",
    "  The best scoring model’s submission file is automatically copied to `submission.csv`.\n",
    "\n",
    "This comprehensive approach leverages extensive, meaningful feature engineering and rigorous hyperparameter tuning to maximize performance. Adjust candidate columns and parameter grids as needed. Happy modeling and best of luck in the competition!\n"
   ]
  },
  {
   "cell_type": "code",
   "execution_count": null,
   "id": "09c63bb2",
   "metadata": {
    "papermill": {
     "duration": 0.005626,
     "end_time": "2025-03-24T11:24:39.472161",
     "exception": false,
     "start_time": "2025-03-24T11:24:39.466535",
     "status": "completed"
    },
    "tags": []
   },
   "outputs": [],
   "source": []
  }
 ],
 "metadata": {
  "kaggle": {
   "accelerator": "nvidiaTeslaT4",
   "dataSources": [
    {
     "databundleVersionId": 11251744,
     "sourceId": 91714,
     "sourceType": "competition"
    }
   ],
   "dockerImageVersionId": 30919,
   "isGpuEnabled": true,
   "isInternetEnabled": true,
   "language": "python",
   "sourceType": "notebook"
  },
  "kernelspec": {
   "display_name": "Python 3",
   "language": "python",
   "name": "python3"
  },
  "language_info": {
   "codemirror_mode": {
    "name": "ipython",
    "version": 3
   },
   "file_extension": ".py",
   "mimetype": "text/x-python",
   "name": "python",
   "nbconvert_exporter": "python",
   "pygments_lexer": "ipython3",
   "version": "3.10.12"
  },
  "papermill": {
   "default_parameters": {},
   "duration": 499.048377,
   "end_time": "2025-03-24T11:24:42.060280",
   "environment_variables": {},
   "exception": null,
   "input_path": "__notebook__.ipynb",
   "output_path": "__notebook__.ipynb",
   "parameters": {},
   "start_time": "2025-03-24T11:16:23.011903",
   "version": "2.6.0"
  }
 },
 "nbformat": 4,
 "nbformat_minor": 5
}
