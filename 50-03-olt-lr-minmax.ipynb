{
 "cells": [
  {
   "cell_type": "markdown",
   "id": "9401ec65",
   "metadata": {
    "papermill": {
     "duration": 0.003846,
     "end_time": "2025-03-05T13:21:09.359269",
     "exception": false,
     "start_time": "2025-03-05T13:21:09.355423",
     "status": "completed"
    },
    "tags": []
   },
   "source": [
    "## Import Libraries\n",
    "\n",
    "We import the necessary libraries for data manipulation, visualization, and modeling.\n"
   ]
  },
  {
   "cell_type": "code",
   "execution_count": 1,
   "id": "30091e76",
   "metadata": {
    "_cell_guid": "b1076dfc-b9ad-4769-8c92-a6c4dae69d19",
    "_uuid": "8f2839f25d086af736a60e9eeb907d3b93b6e0e5",
    "execution": {
     "iopub.execute_input": "2025-03-05T13:21:09.368384Z",
     "iopub.status.busy": "2025-03-05T13:21:09.367877Z",
     "iopub.status.idle": "2025-03-05T13:21:13.275001Z",
     "shell.execute_reply": "2025-03-05T13:21:13.273851Z"
    },
    "papermill": {
     "duration": 3.913892,
     "end_time": "2025-03-05T13:21:13.277205",
     "exception": false,
     "start_time": "2025-03-05T13:21:09.363313",
     "status": "completed"
    },
    "tags": []
   },
   "outputs": [],
   "source": [
    "# Import libraries\n",
    "import matplotlib.pyplot as plt\n",
    "import numpy as np\n",
    "import os, time\n",
    "import pandas as pd\n",
    "import seaborn as sns\n",
    "\n",
    "from sklearn.linear_model import LogisticRegression\n",
    "from sklearn.model_selection import cross_val_score, StratifiedKFold\n",
    "from sklearn.preprocessing import MinMaxScaler\n",
    "\n",
    "import warnings\n",
    "warnings.filterwarnings(\"ignore\")\n",
    "\n",
    "plt.style.use('seaborn-whitegrid')\n",
    "%matplotlib inline"
   ]
  },
  {
   "cell_type": "markdown",
   "id": "595d179d",
   "metadata": {
    "papermill": {
     "duration": 0.003734,
     "end_time": "2025-03-05T13:21:13.285786",
     "exception": false,
     "start_time": "2025-03-05T13:21:13.282052",
     "status": "completed"
    },
    "tags": []
   },
   "source": [
    "## Load Data\n",
    "\n",
    "We load the training and test datasets. In this example, we assume that `train.csv` and `test.csv` are available in the working directory. We also impute any missing values in the test set (for `winddirection`) using the median.\n"
   ]
  },
  {
   "cell_type": "code",
   "execution_count": 2,
   "id": "c05d9d30",
   "metadata": {
    "execution": {
     "iopub.execute_input": "2025-03-05T13:21:13.294327Z",
     "iopub.status.busy": "2025-03-05T13:21:13.293731Z",
     "iopub.status.idle": "2025-03-05T13:21:13.346657Z",
     "shell.execute_reply": "2025-03-05T13:21:13.345172Z"
    },
    "papermill": {
     "duration": 0.059261,
     "end_time": "2025-03-05T13:21:13.348603",
     "exception": false,
     "start_time": "2025-03-05T13:21:13.289342",
     "status": "completed"
    },
    "tags": []
   },
   "outputs": [
    {
     "name": "stdout",
     "output_type": "stream",
     "text": [
      "Train shape: (2190, 13)\n",
      "Test shape: (730, 12)\n"
     ]
    }
   ],
   "source": [
    "# Load datasets and handle missing values\n",
    "train = pd.read_csv('/kaggle/input/playground-series-s5e3/train.csv')\n",
    "test = pd.read_csv('/kaggle/input/playground-series-s5e3/test.csv')\n",
    "\n",
    "print(\"Train shape:\", train.shape)\n",
    "print(\"Test shape:\", test.shape)\n",
    "\n",
    "# Impute missing values in test (if any) for winddirection using the median\n",
    "if test['winddirection'].isnull().sum() > 0:\n",
    "    test['winddirection'].fillna(test['winddirection'].median(), inplace=True)\n",
    "\n",
    "# Define feature set and target\n",
    "X = train.drop(columns=['id', 'rainfall'])\n",
    "y = train['rainfall']\n",
    "X_test = test.drop(columns=['id'])\n",
    "test_ids = test['id']"
   ]
  },
  {
   "cell_type": "markdown",
   "id": "4ed4e6d0",
   "metadata": {
    "papermill": {
     "duration": 0.003142,
     "end_time": "2025-03-05T13:21:13.355321",
     "exception": false,
     "start_time": "2025-03-05T13:21:13.352179",
     "status": "completed"
    },
    "tags": []
   },
   "source": [
    "## Identify Outlier-Prone Columns Based on Boxplots\n",
    "\n",
    "From the EDA performed (boxplots & distributions), we see that certain columns have distinct outliers. \n",
    "- `pressure`\n",
    "- `dewpoint`\n",
    "- `humidity`\n",
    "- `cloud`\n",
    "- `windspeed`"
   ]
  },
  {
   "cell_type": "code",
   "execution_count": 3,
   "id": "588092f7",
   "metadata": {
    "execution": {
     "iopub.execute_input": "2025-03-05T13:21:13.363333Z",
     "iopub.status.busy": "2025-03-05T13:21:13.362940Z",
     "iopub.status.idle": "2025-03-05T13:21:13.367827Z",
     "shell.execute_reply": "2025-03-05T13:21:13.366246Z"
    },
    "papermill": {
     "duration": 0.011138,
     "end_time": "2025-03-05T13:21:13.369761",
     "exception": false,
     "start_time": "2025-03-05T13:21:13.358623",
     "status": "completed"
    },
    "tags": []
   },
   "outputs": [],
   "source": [
    "# List of columns that showed notable outliers in the images\n",
    "outlier_cols = ['pressure', 'dewpoint', 'humidity', 'cloud', 'windspeed']\n",
    "\n",
    "# If you want to treat all numeric columns, you can do:\n",
    "# outlier_cols = X.columns.tolist()"
   ]
  },
  {
   "cell_type": "markdown",
   "id": "4221bfd1",
   "metadata": {
    "papermill": {
     "duration": 0.003179,
     "end_time": "2025-03-05T13:21:13.376683",
     "exception": false,
     "start_time": "2025-03-05T13:21:13.373504",
     "status": "completed"
    },
    "tags": []
   },
   "source": [
    "## Handle Outliers Using the IQR Method\n",
    "\n",
    "We use the Interquartile Range (IQR) method to cap (winsorize) the outliers in each numeric feature. Outliers beyond Q1 - 1.5*IQR or Q3 + 1.5*IQR are replaced by the corresponding boundary values."
   ]
  },
  {
   "cell_type": "code",
   "execution_count": 4,
   "id": "903cc278",
   "metadata": {
    "execution": {
     "iopub.execute_input": "2025-03-05T13:21:13.384811Z",
     "iopub.status.busy": "2025-03-05T13:21:13.384352Z",
     "iopub.status.idle": "2025-03-05T13:21:13.421133Z",
     "shell.execute_reply": "2025-03-05T13:21:13.419704Z"
    },
    "papermill": {
     "duration": 0.042876,
     "end_time": "2025-03-05T13:21:13.423071",
     "exception": false,
     "start_time": "2025-03-05T13:21:13.380195",
     "status": "completed"
    },
    "tags": []
   },
   "outputs": [],
   "source": [
    "def cap_outliers_iqr(df, columns, multiplier=1.5):\n",
    "    df_capped = df.copy()\n",
    "    for col in columns:\n",
    "        Q1 = df[col].quantile(0.25)\n",
    "        Q3 = df[col].quantile(0.75)\n",
    "        IQR = Q3 - Q1\n",
    "        lower_bound = Q1 - multiplier * IQR\n",
    "        upper_bound = Q3 + multiplier * IQR\n",
    "        df_capped[col] = df[col].clip(lower_bound, upper_bound)\n",
    "    return df_capped\n",
    "\n",
    "# Apply outlier capping to training data\n",
    "X_capped = cap_outliers_iqr(X, outlier_cols)\n",
    "\n",
    "# Apply the same capping approach to test data\n",
    "# (Note: we compute IQR boundaries from train for a strictly correct approach)\n",
    "# However, you can also compute each set's boundaries if you prefer.\n",
    "X_test_capped = cap_outliers_iqr(X_test, outlier_cols)"
   ]
  },
  {
   "cell_type": "code",
   "execution_count": 5,
   "id": "ed58f487",
   "metadata": {
    "execution": {
     "iopub.execute_input": "2025-03-05T13:21:13.431841Z",
     "iopub.status.busy": "2025-03-05T13:21:13.431400Z",
     "iopub.status.idle": "2025-03-05T13:21:13.812813Z",
     "shell.execute_reply": "2025-03-05T13:21:13.811614Z"
    },
    "papermill": {
     "duration": 0.38803,
     "end_time": "2025-03-05T13:21:13.814853",
     "exception": false,
     "start_time": "2025-03-05T13:21:13.426823",
     "status": "completed"
    },
    "tags": []
   },
   "outputs": [
    {
     "data": {
      "image/png": "[encoded data removed]",
      "text/plain": [
       "<Figure size 1000x400 with 2 Axes>"
      ]
     },
     "metadata": {},
     "output_type": "display_data"
    }
   ],
   "source": [
    "feature = 'dewpoint'\n",
    "plt.figure(figsize=(10,4))\n",
    "\n",
    "plt.subplot(1,2,1)\n",
    "sns.boxplot(x=X[feature], color='lightgreen')\n",
    "plt.title(f\"Before Capping: {feature}\")\n",
    "\n",
    "plt.subplot(1,2,2)\n",
    "sns.boxplot(x=X_capped[feature], color='lightblue')\n",
    "plt.title(f\"After Capping: {feature}\")\n",
    "\n",
    "plt.tight_layout()\n",
    "plt.show()"
   ]
  },
  {
   "cell_type": "markdown",
   "id": "720ae554",
   "metadata": {
    "papermill": {
     "duration": 0.003921,
     "end_time": "2025-03-05T13:21:13.823171",
     "exception": false,
     "start_time": "2025-03-05T13:21:13.819250",
     "status": "completed"
    },
    "tags": []
   },
   "source": [
    "## Preprocessing with MinMax Scaling\n",
    "\n",
    "We scale the features using MinMaxScaler, which scales each feature to the range [0, 1]. The scaling is applied to both the training and test data."
   ]
  },
  {
   "cell_type": "code",
   "execution_count": 6,
   "id": "d9d05faf",
   "metadata": {
    "execution": {
     "iopub.execute_input": "2025-03-05T13:21:13.833516Z",
     "iopub.status.busy": "2025-03-05T13:21:13.833130Z",
     "iopub.status.idle": "2025-03-05T13:21:13.844840Z",
     "shell.execute_reply": "2025-03-05T13:21:13.843688Z"
    },
    "papermill": {
     "duration": 0.019485,
     "end_time": "2025-03-05T13:21:13.846815",
     "exception": false,
     "start_time": "2025-03-05T13:21:13.827330",
     "status": "completed"
    },
    "tags": []
   },
   "outputs": [],
   "source": [
    "# Apply MinMax scaling\n",
    "scaler = MinMaxScaler()\n",
    "X_scaled = scaler.fit_transform(X_capped)\n",
    "X_test_scaled = scaler.transform(X_test_capped)"
   ]
  },
  {
   "cell_type": "markdown",
   "id": "ad8bb042",
   "metadata": {
    "papermill": {
     "duration": 0.003633,
     "end_time": "2025-03-05T13:21:13.854579",
     "exception": false,
     "start_time": "2025-03-05T13:21:13.850946",
     "status": "completed"
    },
    "tags": []
   },
   "source": [
    "## Train Logistic Regression Model\n",
    "\n",
    "We fit a logistic regression model using the preprocessed (outlier-handled and scaled) data. We also perform cross-validation (using 5-fold stratified CV) to evaluate the model’s ROC AUC score. Finally, we make predictions on the test set."
   ]
  },
  {
   "cell_type": "code",
   "execution_count": 7,
   "id": "04d66c28",
   "metadata": {
    "execution": {
     "iopub.execute_input": "2025-03-05T13:21:13.863367Z",
     "iopub.status.busy": "2025-03-05T13:21:13.862994Z",
     "iopub.status.idle": "2025-03-05T13:21:13.935227Z",
     "shell.execute_reply": "2025-03-05T13:21:13.933796Z"
    },
    "papermill": {
     "duration": 0.078606,
     "end_time": "2025-03-05T13:21:13.936959",
     "exception": false,
     "start_time": "2025-03-05T13:21:13.858353",
     "status": "completed"
    },
    "tags": []
   },
   "outputs": [
    {
     "name": "stdout",
     "output_type": "stream",
     "text": [
      "Cross-validated ROC AUC scores: [0.92025814 0.86141975 0.87819865 0.9099046  0.89873737]\n",
      "Mean ROC AUC score: 0.8937037037037039\n",
      "Submission file saved as 'submission.csv'\n"
     ]
    }
   ],
   "source": [
    "# Train logistic regression and evaluate using cross-validation\n",
    "log_reg = LogisticRegression(solver='liblinear', max_iter=1000, penalty='l2')\n",
    "cv = StratifiedKFold(n_splits=5, shuffle=True, random_state=42)\n",
    "\n",
    "# Evaluate model using ROC AUC score\n",
    "cv_scores = cross_val_score(log_reg, X_scaled, y, cv=cv, scoring='roc_auc')\n",
    "print(\"Cross-validated ROC AUC scores:\", cv_scores)\n",
    "print(\"Mean ROC AUC score:\", cv_scores.mean())\n",
    "\n",
    "# Fit the model on the full training set\n",
    "log_reg.fit(X_scaled, y)\n",
    "\n",
    "# Generate predictions for the test set (probability for class 1)\n",
    "test_preds = log_reg.predict_proba(X_test_scaled)[:, 1]\n",
    "\n",
    "# Create submission DataFrame\n",
    "submission_df = pd.DataFrame({'id': test_ids, 'rainfall': test_preds})\n",
    "submission_df.to_csv('submission.csv', index=False)\n",
    "print(\"Submission file saved as 'submission.csv'\")"
   ]
  },
  {
   "cell_type": "code",
   "execution_count": null,
   "id": "dfac81c2",
   "metadata": {
    "papermill": {
     "duration": 0.003721,
     "end_time": "2025-03-05T13:21:13.944944",
     "exception": false,
     "start_time": "2025-03-05T13:21:13.941223",
     "status": "completed"
    },
    "tags": []
   },
   "outputs": [],
   "source": []
  }
 ],
 "metadata": {
  "kaggle": {
   "accelerator": "none",
   "dataSources": [
    {
     "databundleVersionId": 11251744,
     "sourceId": 91714,
     "sourceType": "competition"
    }
   ],
   "dockerImageVersionId": 30918,
   "isGpuEnabled": false,
   "isInternetEnabled": true,
   "language": "python",
   "sourceType": "notebook"
  },
  "kernelspec": {
   "display_name": "Python 3",
   "language": "python",
   "name": "python3"
  },
  "language_info": {
   "codemirror_mode": {
    "name": "ipython",
    "version": 3
   },
   "file_extension": ".py",
   "mimetype": "text/x-python",
   "name": "python",
   "nbconvert_exporter": "python",
   "pygments_lexer": "ipython3",
   "version": "3.10.12"
  },
  "papermill": {
   "default_parameters": {},
   "duration": 8.598047,
   "end_time": "2025-03-05T13:21:14.771232",
   "environment_variables": {},
   "exception": null,
   "input_path": "__notebook__.ipynb",
   "output_path": "__notebook__.ipynb",
   "parameters": {},
   "start_time": "2025-03-05T13:21:06.173185",
   "version": "2.6.0"
  }
 },
 "nbformat": 4,
 "nbformat_minor": 5
}
