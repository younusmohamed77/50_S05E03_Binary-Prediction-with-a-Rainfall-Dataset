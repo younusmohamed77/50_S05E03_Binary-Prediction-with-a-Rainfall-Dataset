{
 "cells": [
  {
   "cell_type": "code",
   "execution_count": 1,
   "id": "0f979c06",
   "metadata": {
    "execution": {
     "iopub.execute_input": "2025-03-23T12:13:02.480316Z",
     "iopub.status.busy": "2025-03-23T12:13:02.480027Z",
     "iopub.status.idle": "2025-03-23T12:13:16.231749Z",
     "shell.execute_reply": "2025-03-23T12:13:16.230696Z"
    },
    "papermill": {
     "duration": 13.758287,
     "end_time": "2025-03-23T12:13:16.233106",
     "exception": false,
     "start_time": "2025-03-23T12:13:02.474819",
     "status": "completed"
    },
    "tags": []
   },
   "outputs": [
    {
     "name": "stdout",
     "output_type": "stream",
     "text": [
      "GPUs Available: [PhysicalDevice(name='/physical_device:GPU:0', device_type='GPU'), PhysicalDevice(name='/physical_device:GPU:1', device_type='GPU')]\n"
     ]
    }
   ],
   "source": [
    "# Check GPU availability\n",
    "import tensorflow as tf\n",
    "print(\"GPUs Available:\", tf.config.list_physical_devices('GPU'))"
   ]
  },
  {
   "cell_type": "code",
   "execution_count": 2,
   "id": "4f6e568a",
   "metadata": {
    "execution": {
     "iopub.execute_input": "2025-03-23T12:13:16.242059Z",
     "iopub.status.busy": "2025-03-23T12:13:16.241609Z",
     "iopub.status.idle": "2025-03-23T12:13:26.812635Z",
     "shell.execute_reply": "2025-03-23T12:13:26.811663Z"
    },
    "papermill": {
     "duration": 10.577047,
     "end_time": "2025-03-23T12:13:26.814317",
     "exception": false,
     "start_time": "2025-03-23T12:13:16.237270",
     "status": "completed"
    },
    "tags": []
   },
   "outputs": [],
   "source": [
    "# !pip install scikeras --quiet\n",
    "!pip install keras-tuner --quiet\n",
    "\n",
    "import keras_tuner as kt\n",
    "import matplotlib.pyplot as plt\n",
    "import numpy as np\n",
    "import pandas as pd\n",
    "import seaborn as sns\n",
    "import tensorflow as tf\n",
    "\n",
    "from catboost import CatBoostClassifier\n",
    "from lightgbm import LGBMClassifier\n",
    "# from scikeras.wrappers import KerasClassifier\n",
    "from sklearn.ensemble import ExtraTreesClassifier, RandomForestClassifier\n",
    "from sklearn.impute import SimpleImputer\n",
    "from sklearn.linear_model import LogisticRegression\n",
    "from sklearn.metrics import roc_auc_score\n",
    "from sklearn.model_selection import RandomizedSearchCV, StratifiedKFold\n",
    "from sklearn.neighbors import KNeighborsClassifier\n",
    "from sklearn.pipeline import Pipeline\n",
    "from sklearn.preprocessing import StandardScaler\n",
    "from sklearn.svm import SVC\n",
    "from sklearn.tree import DecisionTreeClassifier\n",
    "# from tensorflow.keras.layers import Dense, Dropout\n",
    "# from tensorflow.keras.models import Sequential\n",
    "from tensorflow import keras\n",
    "from tensorflow.keras import layers\n",
    "from tensorflow.keras.optimizers import Adam, RMSprop\n",
    "from xgboost import XGBClassifier\n",
    "\n",
    "tf.random.set_seed(42)\n",
    "np.random.seed(42)\n",
    "\n",
    "import warnings\n",
    "warnings.filterwarnings('ignore')\n",
    "\n",
    "%matplotlib inline"
   ]
  },
  {
   "cell_type": "code",
   "execution_count": 3,
   "id": "42f07303",
   "metadata": {
    "execution": {
     "iopub.execute_input": "2025-03-23T12:13:26.823538Z",
     "iopub.status.busy": "2025-03-23T12:13:26.822911Z",
     "iopub.status.idle": "2025-03-23T12:13:26.864996Z",
     "shell.execute_reply": "2025-03-23T12:13:26.864388Z"
    },
    "papermill": {
     "duration": 0.047964,
     "end_time": "2025-03-23T12:13:26.866409",
     "exception": false,
     "start_time": "2025-03-23T12:13:26.818445",
     "status": "completed"
    },
    "tags": []
   },
   "outputs": [],
   "source": [
    "# Load and optimize data\n",
    "def reduce_memory_usage(df):\n",
    "    \"\"\"Downcasts numeric columns to reduce memory usage.\"\"\"\n",
    "    for col in df.select_dtypes(include=['int64', 'float64']).columns:\n",
    "        df[col] = pd.to_numeric(df[col], downcast='float')\n",
    "    return df\n",
    "\n",
    "train = pd.read_csv('/kaggle/input/playground-series-s5e3/train.csv')\n",
    "test = pd.read_csv('/kaggle/input/playground-series-s5e3/test.csv')\n",
    "\n",
    "train = reduce_memory_usage(train)\n",
    "test = reduce_memory_usage(test)\n",
    "\n",
    "# Split train into features and target; store test ids separately\n",
    "X = train.drop(['id', 'rainfall'], axis=1)\n",
    "y = train['rainfall']\n",
    "\n",
    "test_ids = test['id']\n",
    "X_test = test.drop(['id'], axis=1)"
   ]
  },
  {
   "cell_type": "markdown",
   "id": "1cb2e025",
   "metadata": {
    "papermill": {
     "duration": 0.003529,
     "end_time": "2025-03-23T12:13:26.874843",
     "exception": false,
     "start_time": "2025-03-23T12:13:26.871314",
     "status": "completed"
    },
    "tags": []
   },
   "source": [
    "## Advanced Feature Engineering\n",
    "\n",
    "This function creates many new features. It:\n",
    "- Builds a date from the 'day' column (assuming day 1 = 2024-01-01),\n",
    "- Extracts date-based features (month, day_of_year, week_of_year, quarter, day_of_week, is_weekend),\n",
    "- Creates periodic features,\n",
    "- Computes interaction/ratio features (e.g., temp_range, humidity_cloud_ratio),\n",
    "- And, if training data, calculates lag features (gap_before_rain, gap_after_rain).  \n",
    "For test data, gap features are set to 0.ain`.\r\n"
   ]
  },
  {
   "cell_type": "code",
   "execution_count": 4,
   "id": "45ab874a",
   "metadata": {
    "execution": {
     "iopub.execute_input": "2025-03-23T12:13:26.883191Z",
     "iopub.status.busy": "2025-03-23T12:13:26.882951Z",
     "iopub.status.idle": "2025-03-23T12:13:26.945823Z",
     "shell.execute_reply": "2025-03-23T12:13:26.944825Z"
    },
    "papermill": {
     "duration": 0.068581,
     "end_time": "2025-03-23T12:13:26.947111",
     "exception": false,
     "start_time": "2025-03-23T12:13:26.878530",
     "status": "completed"
    },
    "tags": []
   },
   "outputs": [
    {
     "name": "stdout",
     "output_type": "stream",
     "text": [
      "Enhanced Train Shape: (2190, 28)\n",
      "Enhanced Test Shape: (730, 28)\n"
     ]
    }
   ],
   "source": [
    "def advanced_features(df, is_train=False, target_series=None):\n",
    "    \"\"\"\n",
    "    Create advanced features.\n",
    "    Assumes:\n",
    "      - 'day' column exists.\n",
    "      - For training data (is_train=True), target_series (rainfall) is provided.\n",
    "    \"\"\"\n",
    "    df = df.copy()\n",
    "    \n",
    "    # Build date: day=1 corresponds to 2024-01-01\n",
    "    base_date = pd.to_datetime('2024-01-01')\n",
    "    df['date'] = base_date + pd.to_timedelta(df['day'] - 1, unit='D')\n",
    "    \n",
    "    # Extract month (crucial for consistency)\n",
    "    df['month'] = df['date'].dt.month\n",
    "    \n",
    "    # Date-based features\n",
    "    df['day_of_year'] = df['date'].dt.dayofyear\n",
    "    df['week_of_year'] = df['date'].dt.isocalendar().week.astype(int)\n",
    "    df['quarter'] = df['date'].dt.quarter\n",
    "    # df['day_of_week'] = df['date'].dt.weekday\n",
    "    # df['is_weekend'] = df['day_of_week'].isin([5,6]).astype(int)\n",
    "    \n",
    "    # Periodic features\n",
    "    df['day_sin'] = np.sin(2 * np.pi * df['day_of_year'] / 365)\n",
    "    df['day_cos'] = np.cos(2 * np.pi * df['day_of_year'] / 365)\n",
    "    df['month_sin'] = np.sin(2 * np.pi * df['month'] / 12)\n",
    "    df['month_cos'] = np.cos(2 * np.pi * df['month'] / 12)\n",
    "    \n",
    "    # Temperature features\n",
    "    if 'maxtemp' in df.columns and 'mintemp' in df.columns:\n",
    "        df['temp_range'] = df['maxtemp'] - df['mintemp']\n",
    "    if 'temparature' in df.columns and 'dewpoint' in df.columns:\n",
    "        df['temp_dew_diff'] = df['temparature'] - df['dewpoint']\n",
    "    \n",
    "    # Interaction/Ratio features\n",
    "    if 'humidity' in df.columns and 'cloud' in df.columns:\n",
    "        df['humidity_cloud_ratio'] = df['humidity'] / (df['cloud'] + 1e-3)\n",
    "    if 'sunshine' in df.columns and 'cloud' in df.columns:\n",
    "        df['sunshine_cloud_ratio'] = df['sunshine'] / (df['cloud'] + 1e-3)\n",
    "    if 'pressure' in df.columns and 'winddirection' in df.columns:\n",
    "        df['pressure_wind_interaction'] = df['pressure'] * df['winddirection']\n",
    "    if 'temparature' in df.columns and 'pressure' in df.columns:\n",
    "        df['temp_pressure_ratio'] = df['temparature'] / (df['pressure'] + 1e-3)\n",
    "    if 'windspeed' in df.columns and 'pressure' in df.columns:\n",
    "        df['wind_pressure_ratio'] = df['windspeed'] / (df['pressure'] + 1e-3)\n",
    "    \n",
    "    # Lag features (for training data)\n",
    "    if is_train:\n",
    "        if target_series is not None:\n",
    "            df['rainfall'] = target_series.values\n",
    "        df = df.sort_values('date').reset_index(drop=True)\n",
    "        df['rain_prev_day'] = df['rainfall'].shift(1).fillna(0)\n",
    "        df['rain_next_day'] = df['rainfall'].shift(-1).fillna(0)\n",
    "        df['gap_before_rain'] = df.groupby((df['rain_prev_day'] != df['rainfall']).cumsum()).cumcount()\n",
    "        df['gap_after_rain'] = df[::-1].groupby((df['rain_next_day'] != df['rainfall']).cumsum()).cumcount()\n",
    "        df.drop(['rain_prev_day', 'rain_next_day'], axis=1, inplace=True)\n",
    "    else:\n",
    "        # For test data, set gap features to 0\n",
    "        df['gap_before_rain'] = 0\n",
    "        df['gap_after_rain'] = 0\n",
    "    \n",
    "    # Drop the date column to avoid leakage\n",
    "    df.drop(['date'], axis=1, inplace=True, errors='ignore')\n",
    "    \n",
    "    return df\n",
    "\n",
    "# Apply advanced features to train and test\n",
    "X_fe_full = advanced_features(pd.concat([X, y], axis=1), is_train=True, target_series=y)\n",
    "y_fe = X_fe_full.pop('rainfall')\n",
    "X_test_fe_full = advanced_features(X_test, is_train=False)\n",
    "\n",
    "print(\"Enhanced Train Shape:\", X_fe_full.shape)\n",
    "print(\"Enhanced Test Shape:\", X_test_fe_full.shape)"
   ]
  },
  {
   "cell_type": "code",
   "execution_count": 5,
   "id": "479c5264",
   "metadata": {
    "execution": {
     "iopub.execute_input": "2025-03-23T12:13:26.955460Z",
     "iopub.status.busy": "2025-03-23T12:13:26.955216Z",
     "iopub.status.idle": "2025-03-23T12:13:27.736502Z",
     "shell.execute_reply": "2025-03-23T12:13:27.735585Z"
    },
    "papermill": {
     "duration": 0.78707,
     "end_time": "2025-03-23T12:13:27.738026",
     "exception": false,
     "start_time": "2025-03-23T12:13:26.950956",
     "status": "completed"
    },
    "tags": []
   },
   "outputs": [
    {
     "data": {
      "image/png": "[encoded data removed]",
      "text/plain": [
       "<Figure size 640x480 with 1 Axes>"
      ]
     },
     "metadata": {},
     "output_type": "display_data"
    },
    {
     "data": {
      "image/png": "[encoded data removed]",
      "text/plain": [
       "<Figure size 640x480 with 1 Axes>"
      ]
     },
     "metadata": {},
     "output_type": "display_data"
    }
   ],
   "source": [
    "# Create a barplot for average rainfall by month\n",
    "sns.barplot(x='month', y=y_fe, data=X_fe_full)\n",
    "plt.title(\"Average Rainfall by Month (Derived)\")\n",
    "plt.xlabel(\"Month\")\n",
    "plt.ylabel(\"Average Rainfall\")\n",
    "plt.show()\n",
    "\n",
    "# Create a boxplot for gap_before_rain by month\n",
    "sns.boxplot(x='month', y='gap_before_rain', data=X_fe_full)\n",
    "plt.title(\"Gap Before Rain by Month\")\n",
    "plt.xlabel(\"Month\")\n",
    "plt.ylabel(\"Gap Before Rain (days)\")\n",
    "plt.show()"
   ]
  },
  {
   "cell_type": "markdown",
   "id": "12ee22a5",
   "metadata": {
    "papermill": {
     "duration": 0.004611,
     "end_time": "2025-03-23T12:13:27.747715",
     "exception": false,
     "start_time": "2025-03-23T12:13:27.743104",
     "status": "completed"
    },
    "tags": []
   },
   "source": [
    "## Outlier Treatment (IQR Method)\n",
    "\n",
    "We apply IQR-based clipping to reduce the impact of extreme values in the engineered features.\n"
   ]
  },
  {
   "cell_type": "code",
   "execution_count": 6,
   "id": "4028a795",
   "metadata": {
    "execution": {
     "iopub.execute_input": "2025-03-23T12:13:27.757966Z",
     "iopub.status.busy": "2025-03-23T12:13:27.757737Z",
     "iopub.status.idle": "2025-03-23T12:13:27.877641Z",
     "shell.execute_reply": "2025-03-23T12:13:27.876909Z"
    },
    "papermill": {
     "duration": 0.126624,
     "end_time": "2025-03-23T12:13:27.879113",
     "exception": false,
     "start_time": "2025-03-23T12:13:27.752489",
     "status": "completed"
    },
    "tags": []
   },
   "outputs": [],
   "source": [
    "def treat_outliers_iqr(df):\n",
    "    df = df.copy()\n",
    "    for col in df.select_dtypes(include=['float', 'int']).columns:\n",
    "        Q1 = df[col].quantile(0.25)\n",
    "        Q3 = df[col].quantile(0.75)\n",
    "        IQR = Q3 - Q1\n",
    "        lower = Q1 - 1.5 * IQR\n",
    "        upper = Q3 + 1.5 * IQR\n",
    "        df[col] = np.clip(df[col], lower, upper)\n",
    "    return df\n",
    "\n",
    "X_fe_iqr = treat_outliers_iqr(X_fe_full)\n",
    "X_test_fe_iqr = treat_outliers_iqr(X_test_fe_full)"
   ]
  },
  {
   "cell_type": "markdown",
   "id": "709c0d3a",
   "metadata": {
    "papermill": {
     "duration": 0.004609,
     "end_time": "2025-03-23T12:13:27.888854",
     "exception": false,
     "start_time": "2025-03-23T12:13:27.884245",
     "status": "completed"
    },
    "tags": []
   },
   "source": [
    "## Define Pipeline Function for Model Training and Submission\n",
    "\n",
    "This helper function builds a pipeline (imputation → scaling → model), performs hyperparameter tuning using RandomizedSearchCV, and saves a submission file.  \n",
    "We convert the test input to a NumPy array to avoid feature-name issues.\n"
   ]
  },
  {
   "cell_type": "code",
   "execution_count": 7,
   "id": "24228fe5",
   "metadata": {
    "execution": {
     "iopub.execute_input": "2025-03-23T12:13:27.899014Z",
     "iopub.status.busy": "2025-03-23T12:13:27.898777Z",
     "iopub.status.idle": "2025-03-23T12:13:27.901802Z",
     "shell.execute_reply": "2025-03-23T12:13:27.901132Z"
    },
    "papermill": {
     "duration": 0.009378,
     "end_time": "2025-03-23T12:13:27.902945",
     "exception": false,
     "start_time": "2025-03-23T12:13:27.893567",
     "status": "completed"
    },
    "tags": []
   },
   "outputs": [],
   "source": [
    "# def train_and_submit(X_train, y_train, X_pred, model, param_dist, model_name, scaler_choice='standard'):\n",
    "#     \"\"\"\n",
    "#     Trains a model using a pipeline that includes imputation and scaling.\n",
    "#     Performs hyperparameter tuning using RandomizedSearchCV.\n",
    "#     Saves submission CSV named model_name_submission.csv.\n",
    "#     Returns the best CV AUC score.\n",
    "#     \"\"\"\n",
    "#     pipeline = Pipeline([\n",
    "#         ('imputer', SimpleImputer(strategy='median')),\n",
    "#         ('scaler', StandardScaler()),\n",
    "#         ('clf', model)\n",
    "#     ])\n",
    "    \n",
    "#     cv = StratifiedKFold(n_splits=5, shuffle=True, random_state=42)\n",
    "#     search = RandomizedSearchCV(pipeline, param_dist, n_iter=20, scoring='roc_auc', cv=cv, random_state=42, n_jobs=-1)\n",
    "#     search.fit(X_train, y_train)\n",
    "    \n",
    "#     best_score = search.best_score_\n",
    "#     print(f\"Best CV ROC AUC for {model_name}: {best_score:.4f}\")\n",
    "#     print(\"Best Params:\", search.best_params_)\n",
    "    \n",
    "#     # Try predicting probabilities. If an error occurs (e.g., for XGBoost), fallback to default prediction.\n",
    "#     try:\n",
    "#         preds = search.predict_proba(X_pred.values)[:, 1]\n",
    "#     except Exception as e:\n",
    "#         print(f\"Error in predict_proba for {model_name}: {e}\")\n",
    "#         print(\"Using default predictions of 0.5\")\n",
    "#         preds = np.full(len(X_pred), 0.5)\n",
    "    \n",
    "#     submission = pd.DataFrame({'id': test_ids, 'rainfall': preds})\n",
    "#     submission.to_csv(f\"{model_name}_submission.csv\", index=False)\n",
    "#     return best_score"
   ]
  },
  {
   "cell_type": "markdown",
   "id": "669c6cbe",
   "metadata": {
    "papermill": {
     "duration": 0.004424,
     "end_time": "2025-03-23T12:13:27.912042",
     "exception": false,
     "start_time": "2025-03-23T12:13:27.907618",
     "status": "completed"
    },
    "tags": []
   },
   "source": [
    "## Cell 7: Train Multiple Models\n",
    "\n",
    "We define parameter grids for various models and train them on the IQR-treated, Standard Scaled engineered features.  \n",
    "We save each model's submission file with a unique name."
   ]
  },
  {
   "cell_type": "code",
   "execution_count": 8,
   "id": "7f837ae3",
   "metadata": {
    "execution": {
     "iopub.execute_input": "2025-03-23T12:13:27.922657Z",
     "iopub.status.busy": "2025-03-23T12:13:27.922392Z",
     "iopub.status.idle": "2025-03-23T12:13:27.926036Z",
     "shell.execute_reply": "2025-03-23T12:13:27.925188Z"
    },
    "papermill": {
     "duration": 0.009995,
     "end_time": "2025-03-23T12:13:27.927206",
     "exception": false,
     "start_time": "2025-03-23T12:13:27.917211",
     "status": "completed"
    },
    "tags": []
   },
   "outputs": [],
   "source": [
    "# # Define parameter grids for each model:\n",
    "# param_grids = {\n",
    "#     'LogisticRegression': {\n",
    "#         'clf__C': np.logspace(-3, 2, 10),\n",
    "#         'clf__solver': ['lbfgs', 'liblinear']\n",
    "#     },\n",
    "#     'DecisionTree': {\n",
    "#         'clf__max_depth': [3,5,7,None],\n",
    "#         'clf__min_samples_split': [2,5,10]\n",
    "#     },\n",
    "#     'ExtraTrees': {\n",
    "#         'clf__n_estimators': [50,100,150],\n",
    "#         'clf__max_depth': [5,7,None]\n",
    "#     },\n",
    "#     'RandomForest': {\n",
    "#         'clf__n_estimators': [50,100,150],\n",
    "#         'clf__max_depth': [5,7,None]\n",
    "#     },\n",
    "#     'XGBoost': {\n",
    "#         'clf__n_estimators': [50,100,150],\n",
    "#         'clf__max_depth': [3,5,7]\n",
    "#     },\n",
    "#     'CatBoost': {\n",
    "#         'clf__iterations': [100,200],\n",
    "#         'clf__depth': [4,6]\n",
    "#     },\n",
    "#     'LGBM': {\n",
    "#         'clf__num_leaves': [31,50],\n",
    "#         'clf__n_estimators': [50,100,150]\n",
    "#     },\n",
    "#     'KNN': {\n",
    "#         'clf__n_neighbors': [3,5,7],\n",
    "#         'clf__weights': ['uniform','distance']\n",
    "#     },\n",
    "#     'SVC': {\n",
    "#         'clf__C': [0.1,1,10],\n",
    "#         'clf__kernel': ['linear','rbf']\n",
    "#     }\n",
    "# }\n",
    "\n",
    "# models = {\n",
    "#     'LogisticRegression': LogisticRegression(max_iter=1000, random_state=42),\n",
    "#     'DecisionTree': DecisionTreeClassifier(random_state=42),\n",
    "#     'ExtraTrees': ExtraTreesClassifier(random_state=42, n_jobs=-1),\n",
    "#     'RandomForest': RandomForestClassifier(random_state=42, n_jobs=-1),\n",
    "#     'XGBoost': XGBClassifier(eval_metric='logloss', use_label_encoder=False, random_state=42),\n",
    "#     'CatBoost': CatBoostClassifier(verbose=0, random_state=42),\n",
    "#     'LGBM': LGBMClassifier(random_state=42),\n",
    "#     'KNN': KNeighborsClassifier(),\n",
    "#     'SVC': SVC(probability=True, random_state=42)\n",
    "# }\n",
    "\n",
    "# model_results = {}\n",
    "# for model_name, model in models.items():\n",
    "#     print(f\"\\nTraining {model_name} on IQR-treated & Standard Scaled features:\")\n",
    "#     auc = train_and_submit(X_fe_iqr, y_fe, X_test_fe_iqr, model, param_grids[model_name], model_name)\n",
    "#     model_results[model_name] = auc"
   ]
  },
  {
   "cell_type": "markdown",
   "id": "cdb4d043",
   "metadata": {
    "papermill": {
     "duration": 0.004395,
     "end_time": "2025-03-23T12:13:27.936258",
     "exception": false,
     "start_time": "2025-03-23T12:13:27.931863",
     "status": "completed"
    },
    "tags": []
   },
   "source": [
    "## Train Expanded DNN\n",
    "\n",
    "We train an expanded DNN using scikeras with an expanded hyperparameter grid on the IQR-treated, Standard Scaled features.\n"
   ]
  },
  {
   "cell_type": "code",
   "execution_count": 9,
   "id": "2e1f0bfb",
   "metadata": {
    "execution": {
     "iopub.execute_input": "2025-03-23T12:13:27.946170Z",
     "iopub.status.busy": "2025-03-23T12:13:27.945916Z",
     "iopub.status.idle": "2025-03-23T12:13:27.952740Z",
     "shell.execute_reply": "2025-03-23T12:13:27.952102Z"
    },
    "papermill": {
     "duration": 0.013007,
     "end_time": "2025-03-23T12:13:27.953904",
     "exception": false,
     "start_time": "2025-03-23T12:13:27.940897",
     "status": "completed"
    },
    "tags": []
   },
   "outputs": [],
   "source": [
    "def build_model(hp):\n",
    "    model = keras.Sequential()\n",
    "    # Input layer: shape = number of features in X_fe_iqr\n",
    "    input_shape = (X_fe_iqr.shape[1],)\n",
    "    model.add(layers.InputLayer(input_shape=input_shape))\n",
    "    \n",
    "    # Number of hidden layers (between 2 and 4)\n",
    "    num_layers = hp.Int('num_layers', min_value=2, max_value=4, step=1)\n",
    "    for i in range(num_layers):\n",
    "        # Units in the i-th layer (32 to 128 in steps of 32)\n",
    "        units = hp.Int(f'units_{i}', min_value=32, max_value=128, step=32)\n",
    "        model.add(layers.Dense(units, activation='relu'))\n",
    "        # Dropout rate (0.2 to 0.4)\n",
    "        dropout_rate = hp.Float('dropout_rate', min_value=0.2, max_value=0.4, step=0.1)\n",
    "        model.add(layers.Dropout(dropout_rate))\n",
    "    \n",
    "    # Output layer for binary classification\n",
    "    model.add(layers.Dense(1, activation='sigmoid'))\n",
    "    \n",
    "    # Choose optimizer and learning rate\n",
    "    optimizer_choice = hp.Choice('optimizer', values=['adam', 'rmsprop'])\n",
    "    learning_rate = hp.Choice('learning_rate', values=[1e-3, 1e-4, 5e-4])\n",
    "    \n",
    "    if optimizer_choice == 'adam':\n",
    "        optimizer = Adam(learning_rate=learning_rate)\n",
    "    else:\n",
    "        optimizer = RMSprop(learning_rate=learning_rate)\n",
    "    \n",
    "    model.compile(optimizer=optimizer, loss='binary_crossentropy', metrics=[keras.metrics.AUC(name='auc')])\n",
    "    return model"
   ]
  },
  {
   "cell_type": "code",
   "execution_count": 10,
   "id": "62a6bbb0",
   "metadata": {
    "execution": {
     "iopub.execute_input": "2025-03-23T12:13:27.963824Z",
     "iopub.status.busy": "2025-03-23T12:13:27.963623Z",
     "iopub.status.idle": "2025-03-23T12:13:29.749227Z",
     "shell.execute_reply": "2025-03-23T12:13:29.748400Z"
    },
    "papermill": {
     "duration": 1.792313,
     "end_time": "2025-03-23T12:13:29.750796",
     "exception": false,
     "start_time": "2025-03-23T12:13:27.958483",
     "status": "completed"
    },
    "tags": []
   },
   "outputs": [],
   "source": [
    "tuner = kt.RandomSearch(\n",
    "    build_model,\n",
    "    objective='val_auc',\n",
    "    max_trials=50,              # Total number of models to try\n",
    "    executions_per_trial=1,     # Number of executions per trial\n",
    "    directory='dnn_tuning',\n",
    "    project_name='rainfall_dnn',\n",
    "    overwrite=True,\n",
    "    seed=42\n",
    ")"
   ]
  },
  {
   "cell_type": "code",
   "execution_count": 11,
   "id": "04c595a3",
   "metadata": {
    "execution": {
     "iopub.execute_input": "2025-03-23T12:13:29.761841Z",
     "iopub.status.busy": "2025-03-23T12:13:29.761570Z",
     "iopub.status.idle": "2025-03-23T12:22:45.992733Z",
     "shell.execute_reply": "2025-03-23T12:22:45.991909Z"
    },
    "papermill": {
     "duration": 556.238118,
     "end_time": "2025-03-23T12:22:45.994067",
     "exception": false,
     "start_time": "2025-03-23T12:13:29.755949",
     "status": "completed"
    },
    "tags": []
   },
   "outputs": [
    {
     "name": "stdout",
     "output_type": "stream",
     "text": [
      "Trial 50 Complete [00h 00m 13s]\n",
      "val_auc: 0.5\n",
      "\n",
      "Best val_auc So Far: 0.6169289946556091\n",
      "Total elapsed time: 00h 09m 16s\n"
     ]
    }
   ],
   "source": [
    "tuner.search(X_fe_iqr, y_fe, epochs=30, validation_split=0.2, batch_size=32)"
   ]
  },
  {
   "cell_type": "code",
   "execution_count": 12,
   "id": "e19070a7",
   "metadata": {
    "execution": {
     "iopub.execute_input": "2025-03-23T12:22:46.005133Z",
     "iopub.status.busy": "2025-03-23T12:22:46.004905Z",
     "iopub.status.idle": "2025-03-23T12:22:48.944641Z",
     "shell.execute_reply": "2025-03-23T12:22:48.943763Z"
    },
    "papermill": {
     "duration": 2.946764,
     "end_time": "2025-03-23T12:22:48.945989",
     "exception": false,
     "start_time": "2025-03-23T12:22:45.999225",
     "status": "completed"
    },
    "tags": []
   },
   "outputs": [
    {
     "name": "stdout",
     "output_type": "stream",
     "text": [
      "Best Hyperparameters:\n",
      "{'num_layers': 2, 'units_0': 32, 'dropout_rate': 0.2, 'units_1': 96, 'optimizer': 'adam', 'learning_rate': 0.0005, 'units_2': 128, 'units_3': 64}\n",
      "Training AUC of best model: 0.5125415325164795\n",
      "\u001b[1m23/23\u001b[0m \u001b[32m━━━━━━━━━━━━━━━━━━━━\u001b[0m\u001b[37m\u001b[0m \u001b[1m0s\u001b[0m 12ms/step\n",
      "DNN submission saved as 'DNN_submission.csv'\n"
     ]
    }
   ],
   "source": [
    "# Get the best hyperparameters and best model\n",
    "best_hp = tuner.get_best_hyperparameters(num_trials=1)[0]\n",
    "print(\"Best Hyperparameters:\")\n",
    "print(best_hp.values)\n",
    "\n",
    "best_model = tuner.get_best_models(num_models=1)[0]\n",
    "# Optionally evaluate on the training set\n",
    "train_metrics = best_model.evaluate(X_fe_iqr, y_fe, verbose=0)\n",
    "print(\"Training AUC of best model:\", train_metrics[1])\n",
    "\n",
    "# Predict probabilities on the test set\n",
    "# We convert test DataFrame to NumPy array to avoid feature-name issues.\n",
    "dnn_preds = best_model.predict(X_test_fe_iqr)\n",
    "dnn_preds = dnn_preds.flatten()  # Flatten predictions to 1D array\n",
    "\n",
    "# Save submission CSV\n",
    "submission = pd.DataFrame({'id': test_ids, 'rainfall': dnn_preds})\n",
    "submission.to_csv(\"submission.csv\", index=False)\n",
    "print(\"DNN submission saved as 'DNN_submission.csv'\")"
   ]
  },
  {
   "cell_type": "markdown",
   "id": "04ae69e1",
   "metadata": {
    "papermill": {
     "duration": 0.005067,
     "end_time": "2025-03-23T12:22:48.956500",
     "exception": false,
     "start_time": "2025-03-23T12:22:48.951433",
     "status": "completed"
    },
    "tags": []
   },
   "source": [
    "## Graphical Comparison of Model Performances\n",
    "\n",
    "We create a bar plot to compare the ROC AUC scores for all models.\n"
   ]
  },
  {
   "cell_type": "code",
   "execution_count": 13,
   "id": "57b2065e",
   "metadata": {
    "execution": {
     "iopub.execute_input": "2025-03-23T12:22:48.967627Z",
     "iopub.status.busy": "2025-03-23T12:22:48.967373Z",
     "iopub.status.idle": "2025-03-23T12:22:48.970167Z",
     "shell.execute_reply": "2025-03-23T12:22:48.969484Z"
    },
    "papermill": {
     "duration": 0.0096,
     "end_time": "2025-03-23T12:22:48.971330",
     "exception": false,
     "start_time": "2025-03-23T12:22:48.961730",
     "status": "completed"
    },
    "tags": []
   },
   "outputs": [],
   "source": [
    "# results_df = pd.DataFrame(model_results.items(), columns=['Model', 'AUC']).sort_values(by='AUC', ascending=False)\n",
    "# plt.figure(figsize=(10,6))\n",
    "# sns.barplot(x='AUC', y='Model', data=results_df, palette='viridis')\n",
    "# plt.title('Model Comparison (After IQR & Standard Scaling)')\n",
    "# plt.xlabel('ROC AUC')\n",
    "# plt.xlim(0.75, 1.0)\n",
    "# plt.show()"
   ]
  },
  {
   "cell_type": "code",
   "execution_count": 14,
   "id": "435ed639",
   "metadata": {
    "execution": {
     "iopub.execute_input": "2025-03-23T12:22:48.982537Z",
     "iopub.status.busy": "2025-03-23T12:22:48.982297Z",
     "iopub.status.idle": "2025-03-23T12:22:49.239460Z",
     "shell.execute_reply": "2025-03-23T12:22:49.238613Z"
    },
    "papermill": {
     "duration": 0.264221,
     "end_time": "2025-03-23T12:22:49.240734",
     "exception": false,
     "start_time": "2025-03-23T12:22:48.976513",
     "status": "completed"
    },
    "tags": []
   },
   "outputs": [
    {
     "data": {
      "image/png": "[encoded data removed]",
      "text/plain": [
       "<Figure size 1000x600 with 1 Axes>"
      ]
     },
     "metadata": {},
     "output_type": "display_data"
    }
   ],
   "source": [
    "plt.figure(figsize=(10,6))\n",
    "sns.kdeplot(dnn_preds, fill=True, label='DNN Predictions')\n",
    "plt.title(\"DNN Prediction Distribution\")\n",
    "plt.xlabel(\"Predicted Probability of Rainfall\")\n",
    "plt.ylabel(\"Density\")\n",
    "plt.legend()\n",
    "plt.show()"
   ]
  },
  {
   "cell_type": "code",
   "execution_count": 15,
   "id": "398b77ac",
   "metadata": {
    "execution": {
     "iopub.execute_input": "2025-03-23T12:22:49.254232Z",
     "iopub.status.busy": "2025-03-23T12:22:49.254008Z",
     "iopub.status.idle": "2025-03-23T12:22:49.256896Z",
     "shell.execute_reply": "2025-03-23T12:22:49.256291Z"
    },
    "papermill": {
     "duration": 0.010999,
     "end_time": "2025-03-23T12:22:49.258039",
     "exception": false,
     "start_time": "2025-03-23T12:22:49.247040",
     "status": "completed"
    },
    "tags": []
   },
   "outputs": [],
   "source": [
    "# import shutil\n",
    "\n",
    "# # Define mapping for submission file names (assumes each model saved a CSV with its model name)\n",
    "# submission_files = {\n",
    "#     'LogisticRegression': \"IQR_LogisticRegression_submission.csv\",\n",
    "#     'DecisionTree': \"IQR_DecisionTree_submission.csv\",\n",
    "#     'ExtraTrees': \"IQR_ExtraTrees_submission.csv\",\n",
    "#     'RandomForest': \"IQR_RandomForest_submission.csv\",\n",
    "#     'XGBoost': \"IQR_XGBoost_submission.csv\",\n",
    "#     'CatBoost': \"IQR_CatBoost_submission.csv\",\n",
    "#     'LGBM': \"IQR_LGBM_submission.csv\",\n",
    "#     'KNN': \"IQR_KNN_submission.csv\",\n",
    "#     'SVC': \"IQR_SVC_submission.csv\",\n",
    "#     'DNN': \"IQR_DNN_submission.csv\"\n",
    "# }\n",
    "\n",
    "# # Identify best model based on our model_results dictionary\n",
    "# best_model = max(model_results, key=model_results.get)\n",
    "# best_submission_file = submission_files.get(best_model)\n",
    "\n",
    "# if best_submission_file is None:\n",
    "#     raise ValueError(\"Best model submission file not found.\")\n",
    "\n",
    "# shutil.copy(best_submission_file, \"submission.csv\")\n",
    "# print(f\"Best scoring submission ({best_submission_file}) copied as 'submission.csv'\")"
   ]
  },
  {
   "cell_type": "code",
   "execution_count": null,
   "id": "07019dbf",
   "metadata": {
    "papermill": {
     "duration": 0.00579,
     "end_time": "2025-03-23T12:22:49.269754",
     "exception": false,
     "start_time": "2025-03-23T12:22:49.263964",
     "status": "completed"
    },
    "tags": []
   },
   "outputs": [],
   "source": []
  }
 ],
 "metadata": {
  "kaggle": {
   "accelerator": "nvidiaTeslaT4",
   "dataSources": [
    {
     "databundleVersionId": 11251744,
     "sourceId": 91714,
     "sourceType": "competition"
    }
   ],
   "dockerImageVersionId": 30919,
   "isGpuEnabled": true,
   "isInternetEnabled": true,
   "language": "python",
   "sourceType": "notebook"
  },
  "kernelspec": {
   "display_name": "Python 3",
   "language": "python",
   "name": "python3"
  },
  "language_info": {
   "codemirror_mode": {
    "name": "ipython",
    "version": 3
   },
   "file_extension": ".py",
   "mimetype": "text/x-python",
   "name": "python",
   "nbconvert_exporter": "python",
   "pygments_lexer": "ipython3",
   "version": "3.10.12"
  },
  "papermill": {
   "default_parameters": {},
   "duration": 593.045577,
   "end_time": "2025-03-23T12:22:52.835492",
   "environment_variables": {},
   "exception": null,
   "input_path": "__notebook__.ipynb",
   "output_path": "__notebook__.ipynb",
   "parameters": {},
   "start_time": "2025-03-23T12:12:59.789915",
   "version": "2.6.0"
  }
 },
 "nbformat": 4,
 "nbformat_minor": 5
}
