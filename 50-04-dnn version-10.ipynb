{
 "cells": [
  {
   "cell_type": "markdown",
   "id": "75185f32",
   "metadata": {
    "papermill": {
     "duration": 0.004705,
     "end_time": "2025-03-18T11:38:03.045184",
     "exception": false,
     "start_time": "2025-03-18T11:38:03.040479",
     "status": "completed"
    },
    "tags": []
   },
   "source": [
    "## Cell 0: Check for GPU Availability\n",
    "\n",
    "Ensure that TensorFlow detects one or more GPUs. Run this cell in a GPU-enabled environment (e.g., Kaggle Kernels with GPU).\n",
    ".\r\n"
   ]
  },
  {
   "cell_type": "code",
   "execution_count": 1,
   "id": "19680fea",
   "metadata": {
    "execution": {
     "iopub.execute_input": "2025-03-18T11:38:03.053229Z",
     "iopub.status.busy": "2025-03-18T11:38:03.052855Z",
     "iopub.status.idle": "2025-03-18T11:38:15.585975Z",
     "shell.execute_reply": "2025-03-18T11:38:15.584973Z"
    },
    "papermill": {
     "duration": 12.53862,
     "end_time": "2025-03-18T11:38:15.587395",
     "exception": false,
     "start_time": "2025-03-18T11:38:03.048775",
     "status": "completed"
    },
    "tags": []
   },
   "outputs": [
    {
     "name": "stdout",
     "output_type": "stream",
     "text": [
      "GPUs Available: [PhysicalDevice(name='/physical_device:GPU:0', device_type='GPU'), PhysicalDevice(name='/physical_device:GPU:1', device_type='GPU')]\n"
     ]
    }
   ],
   "source": [
    "# Check GPU availability\n",
    "import tensorflow as tf\n",
    "print(\"GPUs Available:\", tf.config.list_physical_devices('GPU'))"
   ]
  },
  {
   "cell_type": "markdown",
   "id": "3dc216e0",
   "metadata": {
    "papermill": {
     "duration": 0.003841,
     "end_time": "2025-03-18T11:38:15.594948",
     "exception": false,
     "start_time": "2025-03-18T11:38:15.591107",
     "status": "completed"
    },
    "tags": []
   },
   "source": [
    "## Import Libraries\n",
    "\n",
    "We import necessary libraries including scikeras for wrapping our Keras model, and also import SimpleImputer (for missing value imputation). GPU-enabled training will be used if available."
   ]
  },
  {
   "cell_type": "code",
   "execution_count": 2,
   "id": "7ae2b18c",
   "metadata": {
    "execution": {
     "iopub.execute_input": "2025-03-18T11:38:15.602822Z",
     "iopub.status.busy": "2025-03-18T11:38:15.602362Z",
     "iopub.status.idle": "2025-03-18T11:38:23.227053Z",
     "shell.execute_reply": "2025-03-18T11:38:23.225962Z"
    },
    "papermill": {
     "duration": 7.630262,
     "end_time": "2025-03-18T11:38:23.228662",
     "exception": false,
     "start_time": "2025-03-18T11:38:15.598400",
     "status": "completed"
    },
    "tags": []
   },
   "outputs": [
    {
     "name": "stdout",
     "output_type": "stream",
     "text": [
      "\u001b[2K   \u001b[90m━━━━━━━━━━━━━━━━━━━━━━━━━━━━━━━━━━━━━━━━\u001b[0m \u001b[32m13.5/13.5 MB\u001b[0m \u001b[31m92.5 MB/s\u001b[0m eta \u001b[36m0:00:00\u001b[0m\r\n",
      "\u001b[?25h\u001b[31mERROR: pip's dependency resolver does not currently take into account all the packages that are installed. This behaviour is the source of the following dependency conflicts.\r\n",
      "category-encoders 2.7.0 requires scikit-learn<1.6.0,>=1.0.0, but you have scikit-learn 1.6.1 which is incompatible.\u001b[0m\u001b[31m\r\n",
      "\u001b[0m"
     ]
    }
   ],
   "source": [
    "!pip install scikeras --quiet"
   ]
  },
  {
   "cell_type": "code",
   "execution_count": 3,
   "id": "05a00348",
   "metadata": {
    "execution": {
     "iopub.execute_input": "2025-03-18T11:38:23.237268Z",
     "iopub.status.busy": "2025-03-18T11:38:23.236987Z",
     "iopub.status.idle": "2025-03-18T11:38:28.011695Z",
     "shell.execute_reply": "2025-03-18T11:38:28.010578Z"
    },
    "papermill": {
     "duration": 4.780724,
     "end_time": "2025-03-18T11:38:28.013341",
     "exception": false,
     "start_time": "2025-03-18T11:38:23.232617",
     "status": "completed"
    },
    "tags": []
   },
   "outputs": [],
   "source": [
    "# Import Libraries\n",
    "import numpy as np\n",
    "import pandas as pd\n",
    "import matplotlib.pyplot as plt\n",
    "import seaborn as sns\n",
    "import os, time\n",
    "\n",
    "from sklearn.model_selection import StratifiedKFold, RandomizedSearchCV\n",
    "from sklearn.preprocessing import StandardScaler, MinMaxScaler, RobustScaler\n",
    "from sklearn.pipeline import Pipeline\n",
    "from sklearn.impute import SimpleImputer\n",
    "\n",
    "# Install scikeras if needed\n",
    "!pip install scikeras --quiet\n",
    "from scikeras.wrappers import KerasClassifier\n",
    "\n",
    "from tensorflow.keras.models import Sequential\n",
    "from tensorflow.keras.layers import Dense, Dropout\n",
    "from tensorflow.keras.optimizers import Adam\n",
    "\n",
    "import warnings\n",
    "warnings.filterwarnings(\"ignore\")\n",
    "\n",
    "%matplotlib inline"
   ]
  },
  {
   "cell_type": "markdown",
   "id": "7873bf38",
   "metadata": {
    "papermill": {
     "duration": 0.003527,
     "end_time": "2025-03-18T11:38:28.020990",
     "exception": false,
     "start_time": "2025-03-18T11:38:28.017463",
     "status": "completed"
    },
    "tags": []
   },
   "source": [
    "## Memory Optimization Function\r\n",
    "\r\n",
    "This function attempts to reduce memory usage by downcasting numeric columns to smaller data types (e.g., float64 -> float32, int64 -> int32.\r\n"
   ]
  },
  {
   "cell_type": "code",
   "execution_count": 4,
   "id": "34715688",
   "metadata": {
    "execution": {
     "iopub.execute_input": "2025-03-18T11:38:28.029720Z",
     "iopub.status.busy": "2025-03-18T11:38:28.028875Z",
     "iopub.status.idle": "2025-03-18T11:38:28.034521Z",
     "shell.execute_reply": "2025-03-18T11:38:28.033749Z"
    },
    "papermill": {
     "duration": 0.011207,
     "end_time": "2025-03-18T11:38:28.035777",
     "exception": false,
     "start_time": "2025-03-18T11:38:28.024570",
     "status": "completed"
    },
    "tags": []
   },
   "outputs": [],
   "source": [
    "# Define memory optimization function\n",
    "def reduce_memory_usage(df, verbose=True):\n",
    "    \"\"\"Downcasts numeric columns to reduce memory usage.\"\"\"\n",
    "    start_mem = df.memory_usage().sum() / 1024**2\n",
    "    for col in df.columns:\n",
    "        col_type = df[col].dtypes\n",
    "        if col_type == 'float64':\n",
    "            df[col] = pd.to_numeric(df[col], downcast='float')\n",
    "        elif col_type == 'int64':\n",
    "            df[col] = pd.to_numeric(df[col], downcast='integer')\n",
    "    end_mem = df.memory_usage().sum() / 1024**2\n",
    "    if verbose:\n",
    "        print(f\"Memory usage reduced from {start_mem:.2f} MB to {end_mem:.2f} MB \"\n",
    "              f\"({100 * (start_mem - end_mem) / start_mem:.1f}% reduction)\")\n",
    "    return df"
   ]
  },
  {
   "cell_type": "markdown",
   "id": "2bc8b210",
   "metadata": {
    "papermill": {
     "duration": 0.00339,
     "end_time": "2025-03-18T11:38:28.042833",
     "exception": false,
     "start_time": "2025-03-18T11:38:28.039443",
     "status": "completed"
    },
    "tags": []
   },
   "source": [
    "## Load and Optimize Data\r\n",
    "\r\n",
    "We load our train/test data, apply the memory optimization function, and separate features/target. Adjust file names as needed for your environmen.\r\n"
   ]
  },
  {
   "cell_type": "code",
   "execution_count": 5,
   "id": "5e1874a6",
   "metadata": {
    "execution": {
     "iopub.execute_input": "2025-03-18T11:38:28.050669Z",
     "iopub.status.busy": "2025-03-18T11:38:28.050440Z",
     "iopub.status.idle": "2025-03-18T11:38:28.104729Z",
     "shell.execute_reply": "2025-03-18T11:38:28.103966Z"
    },
    "papermill": {
     "duration": 0.05965,
     "end_time": "2025-03-18T11:38:28.106065",
     "exception": false,
     "start_time": "2025-03-18T11:38:28.046415",
     "status": "completed"
    },
    "tags": []
   },
   "outputs": [
    {
     "name": "stdout",
     "output_type": "stream",
     "text": [
      "Before memory optimization:\n",
      "Train shape: (2190, 13)\n",
      "Test shape: (730, 12)\n",
      "Memory usage reduced from 0.22 MB to 0.09 MB (56.7% reduction)\n",
      "Memory usage reduced from 0.07 MB to 0.03 MB (54.1% reduction)\n",
      "After optimization:\n",
      "X shape: (2190, 11)\n",
      "X_test shape: (730, 11)\n"
     ]
    }
   ],
   "source": [
    "# Load and optimize data\n",
    "train = pd.read_csv('/kaggle/input/playground-series-s5e3/train.csv')\n",
    "test = pd.read_csv('/kaggle/input/playground-series-s5e3/test.csv')\n",
    "\n",
    "print(\"Before memory optimization:\")\n",
    "print(\"Train shape:\", train.shape)\n",
    "print(\"Test shape:\", test.shape)\n",
    "\n",
    "train = reduce_memory_usage(train)\n",
    "test = reduce_memory_usage(test)\n",
    "\n",
    "# Separate features and target from training data\n",
    "X = train.drop(columns=['id', 'rainfall'])\n",
    "y = train['rainfall']\n",
    "\n",
    "# For test data, drop the id column and save the IDs for submission\n",
    "X_test = test.drop(columns=['id'])\n",
    "test_ids = test['id']\n",
    "\n",
    "print(\"After optimization:\")\n",
    "print(\"X shape:\", X.shape)\n",
    "print(\"X_test shape:\", X_test.shape)"
   ]
  },
  {
   "cell_type": "markdown",
   "id": "2786d727",
   "metadata": {
    "papermill": {
     "duration": 0.003432,
     "end_time": "2025-03-18T11:38:28.113315",
     "exception": false,
     "start_time": "2025-03-18T11:38:28.109883",
     "status": "completed"
    },
    "tags": []
   },
   "source": [
    "## Define Preprocessing Pipelines\r\n",
    "\r\n",
    "We create a dictionary of scalers to compare (none, standard, minmax, robust). If you prefer, you can remove or add more pipeline.\r\n"
   ]
  },
  {
   "cell_type": "code",
   "execution_count": 6,
   "id": "b4f6171d",
   "metadata": {
    "execution": {
     "iopub.execute_input": "2025-03-18T11:38:28.121237Z",
     "iopub.status.busy": "2025-03-18T11:38:28.120993Z",
     "iopub.status.idle": "2025-03-18T11:38:28.124005Z",
     "shell.execute_reply": "2025-03-18T11:38:28.123377Z"
    },
    "papermill": {
     "duration": 0.008178,
     "end_time": "2025-03-18T11:38:28.125077",
     "exception": false,
     "start_time": "2025-03-18T11:38:28.116899",
     "status": "completed"
    },
    "tags": []
   },
   "outputs": [],
   "source": [
    "# Define preprocessing pipelines\n",
    "preprocessors = {\n",
    "    'standard': StandardScaler(),\n",
    "    # 'minmax': MinMaxScaler(),\n",
    "    #'robust': RobustScaler(),\n",
    "    # 'raw': None\n",
    "}"
   ]
  },
  {
   "cell_type": "markdown",
   "id": "783002a7",
   "metadata": {
    "papermill": {
     "duration": 0.003522,
     "end_time": "2025-03-18T11:38:28.132417",
     "exception": false,
     "start_time": "2025-03-18T11:38:28.128895",
     "status": "completed"
    },
    "tags": []
   },
   "source": [
    "## Modified : Define the Expanded Keras DNN Model Function\n",
    "\n",
    "This version of the model function accepts extra hyperparameters to allow for a deeper network. If `num_layers` is 2, the model will have two hidden layers; if 3, then three hidden layers are added..\r\n"
   ]
  },
  {
   "cell_type": "code",
   "execution_count": 7,
   "id": "348ec756",
   "metadata": {
    "execution": {
     "iopub.execute_input": "2025-03-18T11:38:28.140315Z",
     "iopub.status.busy": "2025-03-18T11:38:28.140094Z",
     "iopub.status.idle": "2025-03-18T11:38:28.144933Z",
     "shell.execute_reply": "2025-03-18T11:38:28.144370Z"
    },
    "papermill": {
     "duration": 0.009938,
     "end_time": "2025-03-18T11:38:28.145986",
     "exception": false,
     "start_time": "2025-03-18T11:38:28.136048",
     "status": "completed"
    },
    "tags": []
   },
   "outputs": [],
   "source": [
    "# Define the expanded Keras model function\n",
    "def create_dnn_model(optimizer='adam', dropout_rate=0.2, learning_rate=0.001,\n",
    "                     num_layers=3, units1=64, units2=32, units3=16):\n",
    "    model = Sequential()\n",
    "    # First hidden layer using units1\n",
    "    model.add(Dense(units1, activation='relu', input_shape=(X.shape[1],)))\n",
    "    model.add(Dropout(dropout_rate))\n",
    "    \n",
    "    # Second hidden layer using units2 (if at least 2 layers)\n",
    "    if num_layers >= 2:\n",
    "        model.add(Dense(units2, activation='relu'))\n",
    "        model.add(Dropout(dropout_rate))\n",
    "    \n",
    "    # Third hidden layer using units3 (if at least 3 layers)\n",
    "    if num_layers >= 3:\n",
    "        model.add(Dense(units3, activation='relu'))\n",
    "        model.add(Dropout(dropout_rate))\n",
    "    \n",
    "    model.add(Dense(1, activation='sigmoid'))\n",
    "    \n",
    "    if optimizer == 'adam':\n",
    "        opt = Adam(learning_rate=learning_rate)\n",
    "    elif optimizer == 'rmsprop':\n",
    "        opt = tf.keras.optimizers.RMSprop(learning_rate=learning_rate)\n",
    "    else:\n",
    "        opt = Adam(learning_rate=learning_rate)\n",
    "    \n",
    "    model.compile(loss='binary_crossentropy', optimizer=opt, metrics=['AUC'])\n",
    "    return model"
   ]
  },
  {
   "cell_type": "markdown",
   "id": "a343c8ce",
   "metadata": {
    "papermill": {
     "duration": 0.00355,
     "end_time": "2025-03-18T11:38:28.153236",
     "exception": false,
     "start_time": "2025-03-18T11:38:28.149686",
     "status": "completed"
    },
    "tags": []
   },
   "source": [
    "## Modified : Update KerasClassifier and Expanded Hyperparameter Grid\n",
    "\n",
    "Note that since our pipeline step is named `'dnn'`, the parameters for the model-building function use the prefix `dnn__model__`. In addition, we add new hyperparameters: `num_layers`, `units1`, `units2`, and `units3`..\r\n"
   ]
  },
  {
   "cell_type": "code",
   "execution_count": 8,
   "id": "8aaab55d",
   "metadata": {
    "execution": {
     "iopub.execute_input": "2025-03-18T11:38:28.161230Z",
     "iopub.status.busy": "2025-03-18T11:38:28.160990Z",
     "iopub.status.idle": "2025-03-18T11:38:28.165066Z",
     "shell.execute_reply": "2025-03-18T11:38:28.164299Z"
    },
    "papermill": {
     "duration": 0.009484,
     "end_time": "2025-03-18T11:38:28.166445",
     "exception": false,
     "start_time": "2025-03-18T11:38:28.156961",
     "status": "completed"
    },
    "tags": []
   },
   "outputs": [],
   "source": [
    "# Wrap the Keras model and define an expanded hyperparameter grid\n",
    "dnn_wrapper = KerasClassifier(\n",
    "    model=create_dnn_model,\n",
    "    epochs=20,           # Default epochs; to be tuned\n",
    "    batch_size=32,       # Default batch size; to be tuned\n",
    "    verbose=0\n",
    ")\n",
    "\n",
    "# Expanded hyperparameter grid\n",
    "param_dist = {\n",
    "    'dnn__model__optimizer': ['adam', 'rmsprop'],\n",
    "    'dnn__model__dropout_rate': [0.2, 0.3, 0.4],\n",
    "    'dnn__model__learning_rate': [1e-3, 1e-4, 5e-4],\n",
    "    'dnn__epochs': [20, 30, 50],\n",
    "    'dnn__batch_size': [16, 32, 64],\n",
    "    'dnn__model__num_layers': [2, 3, 4],\n",
    "    'dnn__model__units1': [32, 64, 128],\n",
    "    'dnn__model__units2': [32, 64, 128],\n",
    "    'dnn__model__units3': [16, 32, 64]\n",
    "}"
   ]
  },
  {
   "cell_type": "markdown",
   "id": "874b6f4e",
   "metadata": {
    "papermill": {
     "duration": 0.003494,
     "end_time": "2025-03-18T11:38:28.173585",
     "exception": false,
     "start_time": "2025-03-18T11:38:28.170091",
     "status": "completed"
    },
    "tags": []
   },
   "source": [
    "## Run Hyperparameter Tuning and Generate Submissions for All Preprocessing Methods\n",
    "\n",
    "This cell remains similar to before. For each preprocessing method (Standard, MinMax, Robust, Raw), we build a pipeline that includes an imputer, the scaler (if any), and the DNN. We run RandomizedSearchCV (using a threading backend) to tune hyperparameters. Then we manually transform the test data (to avoid the __sklearn_tags__ error) and call `predict_proba` on the DNN."
   ]
  },
  {
   "cell_type": "code",
   "execution_count": 9,
   "id": "cdce1b8b",
   "metadata": {
    "execution": {
     "iopub.execute_input": "2025-03-18T11:38:28.181678Z",
     "iopub.status.busy": "2025-03-18T11:38:28.181477Z",
     "iopub.status.idle": "2025-03-18T12:14:55.653601Z",
     "shell.execute_reply": "2025-03-18T12:14:55.652484Z"
    },
    "papermill": {
     "duration": 2187.478096,
     "end_time": "2025-03-18T12:14:55.655383",
     "exception": false,
     "start_time": "2025-03-18T11:38:28.177287",
     "status": "completed"
    },
    "tags": []
   },
   "outputs": [
    {
     "name": "stdout",
     "output_type": "stream",
     "text": [
      "\n",
      "--- Preprocessing: standard ---\n",
      "Best CV ROC AUC for standard: nan\n",
      "Best parameters: {'dnn__model__units3': 32, 'dnn__model__units2': 128, 'dnn__model__units1': 32, 'dnn__model__optimizer': 'rmsprop', 'dnn__model__num_layers': 4, 'dnn__model__learning_rate': 0.0005, 'dnn__model__dropout_rate': 0.4, 'dnn__epochs': 30, 'dnn__batch_size': 32}\n",
      "Submission file saved: submissions/standard_dnn_submission.csv\n",
      "\n"
     ]
    }
   ],
   "source": [
    "# Run hyperparameter tuning and generate submissions for all preprocessing methods\n",
    "from joblib import parallel_backend\n",
    "\n",
    "results = []  # List to store tuning results\n",
    "cv = StratifiedKFold(n_splits=5, shuffle=True, random_state=42)\n",
    "\n",
    "os.makedirs(\"submissions\", exist_ok=True)\n",
    "\n",
    "for prep_name, scaler in preprocessors.items():\n",
    "    print(f\"\\n--- Preprocessing: {prep_name} ---\")\n",
    "    \n",
    "    # Build pipeline: imputer -> (scaler if provided) -> DNN\n",
    "    steps = []\n",
    "    steps.append(('imputer', SimpleImputer(strategy=\"median\")))\n",
    "    if scaler is not None:\n",
    "        steps.append((prep_name, scaler))\n",
    "    steps.append(('dnn', dnn_wrapper))\n",
    "    pipeline = Pipeline(steps)\n",
    "    \n",
    "    with parallel_backend('threading', n_jobs=-1):\n",
    "        search = RandomizedSearchCV(\n",
    "            estimator=pipeline,\n",
    "            param_distributions=param_dist,\n",
    "            n_iter=100,  # Increase iterations for a more thorough search\n",
    "            scoring='roc_auc',\n",
    "            cv=cv,\n",
    "            verbose=0,\n",
    "            random_state=42,\n",
    "            n_jobs=-1\n",
    "        )\n",
    "        search.fit(X, y)\n",
    "    \n",
    "    best_score = search.best_score_\n",
    "    best_params = search.best_params_\n",
    "    \n",
    "    print(f\"Best CV ROC AUC for {prep_name}: {best_score:.4f}\")\n",
    "    print(\"Best parameters:\", best_params)\n",
    "    \n",
    "    # Re-fit best estimator on the full training data\n",
    "    best_estimator = search.best_estimator_\n",
    "    best_estimator.fit(X, y)\n",
    "    \n",
    "    # Manually transform X_test using all steps except the final DNN step, then predict probabilities.\n",
    "    X_test_transformed = best_estimator[:-1].transform(X_test)\n",
    "    test_preds = best_estimator.named_steps['dnn'].predict_proba(X_test_transformed)[:, 1]\n",
    "    \n",
    "    # Save the submission file for this preprocessing method\n",
    "    sub_filename = f\"submissions/{prep_name}_dnn_submission.csv\"\n",
    "    sub_df = pd.DataFrame({'id': test_ids, 'rainfall': test_preds})\n",
    "    sub_df.to_csv(sub_filename, index=False)\n",
    "    print(f\"Submission file saved: {sub_filename}\\n\")\n",
    "    \n",
    "    results.append({\n",
    "        'preprocessing': prep_name,\n",
    "        'best_auc': best_score,\n",
    "        'best_params': best_params,\n",
    "        'submission_file': sub_filename\n",
    "    })"
   ]
  },
  {
   "cell_type": "markdown",
   "id": "b6ce2c87",
   "metadata": {
    "papermill": {
     "duration": 0.003989,
     "end_time": "2025-03-18T12:14:55.663889",
     "exception": false,
     "start_time": "2025-03-18T12:14:55.659900",
     "status": "completed"
    },
    "tags": []
   },
   "source": [
    "## Graphical Comparison of CV ROC AUC Scores\n",
    "\n",
    "We create a bar plot comparing the best CV ROC AUC scores for each preprocessing method..\r\n"
   ]
  },
  {
   "cell_type": "code",
   "execution_count": 10,
   "id": "da18d9cd",
   "metadata": {
    "execution": {
     "iopub.execute_input": "2025-03-18T12:14:55.672967Z",
     "iopub.status.busy": "2025-03-18T12:14:55.672690Z",
     "iopub.status.idle": "2025-03-18T12:14:55.895709Z",
     "shell.execute_reply": "2025-03-18T12:14:55.894838Z"
    },
    "papermill": {
     "duration": 0.228905,
     "end_time": "2025-03-18T12:14:55.896944",
     "exception": false,
     "start_time": "2025-03-18T12:14:55.668039",
     "status": "completed"
    },
    "tags": []
   },
   "outputs": [
    {
     "data": {
      "image/png": "[encoded data removed]",
      "text/plain": [
       "<Figure size 800x500 with 1 Axes>"
      ]
     },
     "metadata": {},
     "output_type": "display_data"
    }
   ],
   "source": [
    "# Create a bar plot to compare best CV ROC AUC scores\n",
    "results_df = pd.DataFrame(results)\n",
    "results_df = results_df.sort_values(by='best_auc', ascending=False)\n",
    "\n",
    "plt.figure(figsize=(8, 5))\n",
    "sns.barplot(x='preprocessing', y='best_auc', data=results_df, palette='viridis')\n",
    "plt.title(\"Best CV ROC AUC by Preprocessing Method\")\n",
    "plt.xlabel(\"Preprocessing Method\")\n",
    "plt.ylabel(\"Best CV ROC AUC\")\n",
    "plt.ylim(0.0, 1.0)\n",
    "plt.show()"
   ]
  },
  {
   "cell_type": "markdown",
   "id": "438894bd",
   "metadata": {
    "papermill": {
     "duration": 0.004549,
     "end_time": "2025-03-18T12:14:55.906085",
     "exception": false,
     "start_time": "2025-03-18T12:14:55.901536",
     "status": "completed"
    },
    "tags": []
   },
   "source": [
    "## Conclusion\n",
    "\n",
    "- **Why Was the Score NaN?**  \n",
    "  The NaN ROC AUC score may occur if certain hyperparameter combinations cause unstable training (e.g., a too-high learning rate, improper network architecture, or other settings that cause the model’s loss to become NaN or its predictions to be constant). Expanding the hyperparameter search with additional layers and units gives the model more capacity and can help stabilize training.\n",
    "\n",
    "- **Expanded Hyperparameter Search:**  \n",
    "  We increased the search space to include the number of layers (2 or 3) and varied the number of neurons in each layer. Additionally, we expanded the ranges for dropout rates and learning rates and increased the number of iterations for RandomizedSearchCV.\n",
    "\n",
    "- **Graphical Comparison:**  \n",
    "  A bar plot shows the best CV ROC AUC scores for each preprocessing method, so you can visually inspect which one performed best.\n",
    "\n",
    "- **Final Submission:**  \n",
    "  The highest scoring submission is automatically copied to **submission.csv**, while all individual submissions are saved in the \"submissions\" folder.\n",
    "\n",
    "This modified and expanded search is designed to improve model performance in a competitive setting. Happy modeling and best of luck in the competition!"
   ]
  },
  {
   "cell_type": "code",
   "execution_count": null,
   "id": "68a3b9c5",
   "metadata": {
    "papermill": {
     "duration": 0.004161,
     "end_time": "2025-03-18T12:14:55.914581",
     "exception": false,
     "start_time": "2025-03-18T12:14:55.910420",
     "status": "completed"
    },
    "tags": []
   },
   "outputs": [],
   "source": []
  }
 ],
 "metadata": {
  "kaggle": {
   "accelerator": "nvidiaTeslaT4",
   "dataSources": [
    {
     "databundleVersionId": 11251744,
     "sourceId": 91714,
     "sourceType": "competition"
    }
   ],
   "dockerImageVersionId": 30919,
   "isGpuEnabled": true,
   "isInternetEnabled": true,
   "language": "python",
   "sourceType": "notebook"
  },
  "kernelspec": {
   "display_name": "Python 3",
   "language": "python",
   "name": "python3"
  },
  "language_info": {
   "codemirror_mode": {
    "name": "ipython",
    "version": 3
   },
   "file_extension": ".py",
   "mimetype": "text/x-python",
   "name": "python",
   "nbconvert_exporter": "python",
   "pygments_lexer": "ipython3",
   "version": "3.10.12"
  },
  "papermill": {
   "default_parameters": {},
   "duration": 2221.428351,
   "end_time": "2025-03-18T12:15:01.909900",
   "environment_variables": {},
   "exception": null,
   "input_path": "__notebook__.ipynb",
   "output_path": "__notebook__.ipynb",
   "parameters": {},
   "start_time": "2025-03-18T11:38:00.481549",
   "version": "2.6.0"
  }
 },
 "nbformat": 4,
 "nbformat_minor": 5
}
